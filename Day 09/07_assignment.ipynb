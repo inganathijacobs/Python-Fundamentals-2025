{
 "cells": [
  {
   "cell_type": "markdown",
   "metadata": {},
   "source": [
    "## Assignment\n",
    "\n",
    "```\n",
    "Invoice Date: 03 March 2025\n",
    "\n",
    "Product               Qty     Unit Price          Total\n",
    "-------------------------------------------------------\n",
    "Widget A               10           2.50          25.00\n",
    "Widget B                5          15.75          78.75\n",
    "Gadget                  2          99.99         199.98\n",
    "-------------------------------------------------------\n",
    "Grand Total                                      303.73\n",
    "```"
   ]
  },
  {
   "cell_type": "code",
   "execution_count": 62,
   "metadata": {},
   "outputs": [
    {
     "name": "stdout",
     "output_type": "stream",
     "text": [
      "Invoice Date:  04 March 2025 \n",
      "\n",
      "Product                Qty      Unit Price      Total\n",
      "-------------------------------------------------------\n",
      "Widget A               10           2.50        25.00\n",
      "Widget B                5          15.75        78.75\n",
      "Gadget                  2          99.99       199.98\n",
      "-------------------------------------------------------\n",
      "Grand Total                                    303.73\n"
     ]
    }
   ],
   "source": [
    "from datetime import datetime\n",
    "\n",
    "items = [\n",
    "    {\"name\": \"Widget A\", \"quantity\": 10, \"price\": 2.5},\n",
    "    {\"name\": \"Widget B\", \"quantity\": 5, \"price\": 15.75},\n",
    "    {\"name\": \"Gadget\", \"quantity\": 2, \"price\": 99.99},\n",
    "]\n",
    "def format_items(name='Unknown',quantity=0,price=0):\n",
    "    tot_calc= quantity * price\n",
    "    print( f\"{name:<15}{quantity:>10}{price:>15.2f}{tot_calc:>13.2f}\")\n",
    "\n",
    "def display_items():\n",
    "    now= datetime.now()\n",
    "    prod=\"Product\"\n",
    "    quant=\"Qty\"\n",
    "    prc= \"Unit Price\"\n",
    "    tot=\"Total\"\n",
    "    line= '-'\n",
    "    grand_tot= 0\n",
    "    print(f\"Invoice Date: { now: %d %B %Y} \"+'\\n')\n",
    "    print(f\"{prod:<15} {quant:>10} {prc:>15} {tot:>10}\")\n",
    "    print(f\"{line:-^55}\")\n",
    "\n",
    "    for prod in items:\n",
    "     format_items(**prod)\n",
    "     grand_tot+= prod['price'] * prod['quantity']\n",
    "    print(f\"{line:-^55}\")\n",
    "    grand_lbl=\"Grand Total\"\n",
    "    print(f\"{grand_lbl:<20}{grand_tot:>33.2f}\")\n",
    "display_items()\n"
   ]
  }
 ],
 "metadata": {
  "kernelspec": {
   "display_name": "Python 3",
   "language": "python",
   "name": "python3"
  },
  "language_info": {
   "codemirror_mode": {
    "name": "ipython",
    "version": 3
   },
   "file_extension": ".py",
   "mimetype": "text/x-python",
   "name": "python",
   "nbconvert_exporter": "python",
   "pygments_lexer": "ipython3",
   "version": "3.10.2"
  }
 },
 "nbformat": 4,
 "nbformat_minor": 2
}
