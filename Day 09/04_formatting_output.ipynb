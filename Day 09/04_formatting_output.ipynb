{
 "cells": [
  {
   "cell_type": "code",
   "execution_count": 3,
   "metadata": {},
   "outputs": [
    {
     "name": "stdout",
     "output_type": "stream",
     "text": [
      "Inganathi's salary is 1,500,000\n",
      "Inganathi's salary is 1_500_000\n"
     ]
    }
   ],
   "source": [
    "salary= 1_500_000 #DX\n",
    "print(f\"Inganathi's salary is {salary:,}\") ## separates the number to improve UX\n",
    "# can also use '_'\n",
    "print(f\"Inganathi's salary is {salary:_}\")"
   ]
  },
  {
   "cell_type": "code",
   "execution_count": 7,
   "metadata": {},
   "outputs": [
    {
     "name": "stdout",
     "output_type": "stream",
     "text": [
      "3.141592653589793\n",
      "6.123233995736766e-17\n",
      "3.14\n",
      "3.14\n",
      "3.142\n"
     ]
    }
   ],
   "source": [
    "from math import pi, cos #HOW TO IMPORT FROM IN-BUILT PACKAGE\n",
    "# from <package_name> import <values>,<function>\n",
    "print(pi)\n",
    "print (cos(pi/2))\n",
    "print(round(pi , 2))\n",
    "print(f\"{pi:.2f}\")\n",
    "print(f\"{pi:.3f}\")"
   ]
  },
  {
   "cell_type": "code",
   "execution_count": 10,
   "metadata": {},
   "outputs": [
    {
     "name": "stdout",
     "output_type": "stream",
     "text": [
      "Ethan's salary is R1,000,000.378\n",
      "Ethan's salary is R1_000_000.378\n"
     ]
    }
   ],
   "source": [
    "print(f\"Ethan's salary is R{1_000_000.377833:,.3f}\") ## start with comma separator before rounding\n",
    "print(f\"Ethan's salary is R{1_000_000.377833:_.3f}\")"
   ]
  },
  {
   "cell_type": "code",
   "execution_count": 13,
   "metadata": {},
   "outputs": [
    {
     "name": "stdout",
     "output_type": "stream",
     "text": [
      "              Diyali:\n",
      "Diyali              :\n",
      "       Diyali       :\n"
     ]
    }
   ],
   "source": [
    "# Padding\n",
    "name =\"Diyali\"\n",
    "print(f\"{name:>20}:\") ## aligns text to right ( arrow points to where text will align)\n",
    "print(f\"{name:<20}:\") # aligns left\n",
    "print(f\"{name:^20}:\") # centers it\n",
    "## 20 is the max number to the colon, so if the text is longer than 20, padding disappears\n",
    "## Text length < padding"
   ]
  },
  {
   "cell_type": "code",
   "execution_count": 17,
   "metadata": {},
   "outputs": [
    {
     "name": "stdout",
     "output_type": "stream",
     "text": [
      "🥕🥕🥕🥕🥕🥕🥕🥕🥕🥕🥕🥕🥕🥕🥕Jevan:\n",
      "Jevan🥔🥔🥔🥔🥔🥔🥔🥔🥔🥔🥔🥔🥔🥔🥔:\n",
      "🍅🍅🍅🍅🍅🍅🍅Jevan🍅🍅🍅🍅🍅🍅🍅🍅:\n"
     ]
    }
   ],
   "source": [
    "name = \"Jevan\"\n",
    "print(f\"{name:🥕>20}:\")  ## aligns text to right ( arrow points to where text will align)\n",
    "print(f\"{name:🥔<20}:\")  # aligns left\n",
    "print(f\"{name:🍅^20}:\")\n"
   ]
  },
  {
   "cell_type": "code",
   "execution_count": 4,
   "metadata": {},
   "outputs": [
    {
     "name": "stdout",
     "output_type": "stream",
     "text": [
      "🥕🥕🥕🥕🥕🥕🥕🥕🥕🥕🥕🥕🥕🥕🥕Jevan\n",
      "Jevan🍇🍇🍇🍇🍇🍇🍇🍇🍇🍇🍇🍇🍇🍇🍇\n",
      "🥔🥔🥔🥔🥔🥔🥔Jevan🥔🥔🥔🥔🥔🥔🥔🥔\n"
     ]
    }
   ],
   "source": [
    "name= \"Jevan\"\n",
    "print(f\"{name:🥕>20}\")\n",
    "print(f\"{name:🍇<20}\")\n",
    "print(f\"{name:🥔^20}\")"
   ]
  },
  {
   "cell_type": "code",
   "execution_count": null,
   "metadata": {},
   "outputs": [
    {
     "name": "stdout",
     "output_type": "stream",
     "text": [
      "2025-03-03 13:52:36.267114\n"
     ]
    }
   ],
   "source": [
    "## Date formating\n",
    "from datetime import datetime ## ALWAYS KEEP IMPORTS ON TOP OF FILE\n",
    "\n",
    "now=datetime.now()\n",
    "print(now)"
   ]
  },
  {
   "cell_type": "code",
   "execution_count": 23,
   "metadata": {},
   "outputs": [
    {
     "name": "stdout",
     "output_type": "stream",
     "text": [
      "The current date is 03-03-2025\n",
      "The current date is 03 03 2025\n",
      "The current date is 03 March 2025\n"
     ]
    }
   ],
   "source": [
    "print(f\"The current date is {now:%d-%m-%Y}\")\n",
    "print(f\"The current date is {now:%d %m %Y}\")\n",
    "print(f\"The current date is {now:%d %B %Y}\")\n",
    "# 2025-12-28 # Dev Perfect Date"
   ]
  },
  {
   "cell_type": "code",
   "execution_count": 60,
   "metadata": {},
   "outputs": [
    {
     "name": "stdout",
     "output_type": "stream",
     "text": [
      "Spaghetti Carbonara=\n",
      "['200g spaghetti', '100g pancetta', '2 eggs', '1/2 cup grated Parmesan']\n"
     ]
    }
   ],
   "source": [
    "recipe = {\n",
    "    \"name\": \"Spaghetti Carbonara\",\n",
    "    \"servings\": 4,\n",
    "    \"ingredients\": [\n",
    "        \"200g spaghetti\",\n",
    "        \"100g pancetta\",\n",
    "        \"2 eggs\",\n",
    "        \"1/2 cup grated Parmesan\",\n",
    "        \"1 clove garlic\",\n",
    "    ],\n",
    "}\n",
    "\n",
    "# Task 1\n",
    "# ======= Spaghetti Carbonara =======\n",
    "# - 200g spaghetti\n",
    "# - 100g pancetta\n",
    "# - 2 eggs\n",
    "# - 1/2 cup grated Parmesan\n",
    "# - 1 clove garlic\n",
    "# Serves: 4 people\n",
    "def format_recipe(recipe):\n",
    "      print (f\"{recipe.get('name'):=^20}\")\n",
    "      return f\"{recipe.get('ingredients')[0:-1]}\"\n",
    "print(format_recipe(recipe))\n",
    "\n",
    "# def format_recipe(recipe):\n",
    "#     formatted_ingredients = \"\\n\".join(\n",
    "#         f\"- {ingredient}\" for ingredient in recipe[\"ingredients\"]\n",
    "#     )\n",
    "#     return f\"======= {recipe['name']} =======\\n{formatted_ingredients}\\nServes: {recipe['servings']} people\"\n",
    "\n",
    "\n",
    "# print(format_recipe(recipe))"
   ]
  },
  {
   "cell_type": "code",
   "execution_count": 73,
   "metadata": {},
   "outputs": [
    {
     "name": "stdout",
     "output_type": "stream",
     "text": [
      "==========Spaghetti Carbonara===========\n",
      "- 200g spaghetti\n",
      "- 100g pancetta\n",
      "- 2 eggs\n",
      "- 1/2 cup grated Parmesan\n",
      "- 1 clove garlic\n",
      " Serves: 4 people\n"
     ]
    }
   ],
   "source": [
    "recipe = {\n",
    "    \"name\": \"Spaghetti Carbonara\",\n",
    "    \"servings\": 4,\n",
    "    \"ingredients\": [\n",
    "        \"200g spaghetti\",\n",
    "        \"100g pancetta\",\n",
    "        \"2 eggs\",\n",
    "        \"1/2 cup grated Parmesan\",\n",
    "        \"1 clove garlic\",\n",
    "    ],\n",
    "}\n",
    "\n",
    "# Task 1\n",
    "# ======= Spaghetti Carbonara =======\n",
    "# - 200g spaghetti\n",
    "# - 100g pancetta\n",
    "# - 2 eggs\n",
    "# - 1/2 cup grated Parmesan\n",
    "# - 1 clove garlic\n",
    "# Serves: 4 people\n",
    "\n",
    "#1. Make it work\n",
    "#2. Make it better\n",
    "def format_recipe(name,ingredients,servings):\n",
    "    f_name = f\"{name}\"\n",
    "    print(f\"{f_name:=^40}\")\n",
    "    for ingr in ingredients:\n",
    "        print(f\"- {ingr}\")\n",
    "    print(f\" Serves: {servings} people\")\n",
    "format_recipe(**recipe)"
   ]
  }
 ],
 "metadata": {
  "kernelspec": {
   "display_name": "Python 3",
   "language": "python",
   "name": "python3"
  },
  "language_info": {
   "codemirror_mode": {
    "name": "ipython",
    "version": 3
   },
   "file_extension": ".py",
   "mimetype": "text/x-python",
   "name": "python",
   "nbconvert_exporter": "python",
   "pygments_lexer": "ipython3",
   "version": "3.10.2"
  }
 },
 "nbformat": 4,
 "nbformat_minor": 2
}
