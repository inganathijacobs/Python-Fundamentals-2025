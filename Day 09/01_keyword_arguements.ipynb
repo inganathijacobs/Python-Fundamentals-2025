{
 "cells": [
  {
   "cell_type": "code",
   "execution_count": 1,
   "metadata": {},
   "outputs": [
    {
     "data": {
      "text/plain": [
       "'Hyundai i10  is eligble for driving. You will be testing with Diyali'"
      ]
     },
     "execution_count": 1,
     "metadata": {},
     "output_type": "execute_result"
    }
   ],
   "source": [
    "def driving_test(nm, ag, car):\n",
    "    if ag >= 18:\n",
    "        return f\"{nm}  is eligble for driving. You will be testing with {car}\"\n",
    "    else:\n",
    "        return \"Try again after few years 👶🍼\"\n",
    "driving_test(\"Hyundai i10\", 19,\"Diyali\")   ##Position Argument, the argument is matched according to its position"
   ]
  },
  {
   "cell_type": "code",
   "execution_count": 3,
   "metadata": {},
   "outputs": [
    {
     "data": {
      "text/plain": [
       "'Diyali  is eligble for driving. You will be testing with Hyundai i10'"
      ]
     },
     "execution_count": 3,
     "metadata": {},
     "output_type": "execute_result"
    }
   ],
   "source": [
    "def driving_test(nm, ag, car):\n",
    "    if ag >= 18:\n",
    "        return f\"{nm}  is eligble for driving. You will be testing with {car}\"\n",
    "    else:\n",
    "        return \"Try again after few years 👶🍼\"\n",
    "driving_test(car=\"Hyundai i10\", ag=19, nm=\"Diyali\") ## Keyword Arguments\n"
   ]
  },
  {
   "cell_type": "code",
   "execution_count": 4,
   "metadata": {},
   "outputs": [
    {
     "data": {
      "text/plain": [
       "'Diyali  is eligble for driving. You will be testing with Hyundai i10'"
      ]
     },
     "execution_count": 4,
     "metadata": {},
     "output_type": "execute_result"
    }
   ],
   "source": [
    "def driving_test(nm, ag, car):\n",
    "    if ag >= 18:\n",
    "        return f\"{nm}  is eligble for driving. You will be testing with {car}\"\n",
    "    else:\n",
    "        return \"Try again after few years 👶🍼\"\n",
    "driving_test(\"Diyali\", car=\"Hyundai i10\", ag=19)\n",
    "\n",
    "## Pos Arg first then Key Arg Next\n"
   ]
  },
  {
   "cell_type": "markdown",
   "metadata": {},
   "source": [
    "## summary\n",
    "- `positional argument comes first then keyword argument`\n",
    "- `keyword argument does not need to folllow order of parameters"
   ]
  }
 ],
 "metadata": {
  "kernelspec": {
   "display_name": "Python 3",
   "language": "python",
   "name": "python3"
  },
  "language_info": {
   "codemirror_mode": {
    "name": "ipython",
    "version": 3
   },
   "file_extension": ".py",
   "mimetype": "text/x-python",
   "name": "python",
   "nbconvert_exporter": "python",
   "pygments_lexer": "ipython3",
   "version": "3.10.2"
  }
 },
 "nbformat": 4,
 "nbformat_minor": 2
}
