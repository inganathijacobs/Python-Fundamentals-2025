{
 "cells": [
  {
   "cell_type": "code",
   "execution_count": 1,
   "metadata": {},
   "outputs": [
    {
     "data": {
      "text/plain": [
       "'Hyundai i10  is eligble for driving. You will be testing with Diyali'"
      ]
     },
     "execution_count": 1,
     "metadata": {},
     "output_type": "execute_result"
    }
   ],
   "source": [
    "def driving_test(nm, ag, car):\n",
    "    if ag >= 18:\n",
    "        return f\"{nm}  is eligble for driving. You will be testing with {car}\"\n",
    "    else:\n",
    "        return \"Try again after few years 👶🍼\"\n",
    "driving_test(\"Hyundai i10\", 19,\"Diyali\")   ##Position Argument, the argument is matched according to its position"
   ]
  },
  {
   "cell_type": "code",
   "execution_count": 3,
   "metadata": {},
   "outputs": [
    {
     "data": {
      "text/plain": [
       "'Diyali  is eligble for driving. You will be testing with Hyundai i10'"
      ]
     },
     "execution_count": 3,
     "metadata": {},
     "output_type": "execute_result"
    }
   ],
   "source": [
    "def driving_test(nm, ag, car):\n",
    "    if ag >= 18:\n",
    "        return f\"{nm}  is eligble for driving. You will be testing with {car}\"\n",
    "    else:\n",
    "        return \"Try again after few years 👶🍼\"\n",
    "driving_test(car=\"Hyundai i10\", ag=19, nm=\"Diyali\") ## Keyword Arguments\n"
   ]
  },
  {
   "cell_type": "code",
   "execution_count": 4,
   "metadata": {},
   "outputs": [
    {
     "data": {
      "text/plain": [
       "'Diyali  is eligble for driving. You will be testing with Hyundai i10'"
      ]
     },
     "execution_count": 4,
     "metadata": {},
     "output_type": "execute_result"
    }
   ],
   "source": [
    "def driving_test(nm, ag, car):\n",
    "    if ag >= 18:\n",
    "        return f\"{nm}  is eligble for driving. You will be testing with {car}\"\n",
    "    else:\n",
    "        return \"Try again after few years 👶🍼\"\n",
    "driving_test(\"Diyali\", car=\"Hyundai i10\", ag=19)\n",
    "\n",
    "## Pos Arg first then Key Arg Next\n"
   ]
  },
  {
   "cell_type": "markdown",
   "metadata": {},
   "source": [
    "## summary\n",
    "- `positional argument comes first then keyword argument`\n",
    "- `keyword argument does not need to folllow order of parameters"
   ]
  },
  {
   "cell_type": "code",
   "execution_count": 1,
   "metadata": {},
   "outputs": [
    {
     "ename": "TypeError",
     "evalue": "driving_test() missing 1 required positional argument: 'car'",
     "output_type": "error",
     "traceback": [
      "\u001b[1;31m---------------------------------------------------------------------------\u001b[0m",
      "\u001b[1;31mTypeError\u001b[0m                                 Traceback (most recent call last)",
      "Cell \u001b[1;32mIn[1], line 6\u001b[0m\n\u001b[0;32m      4\u001b[0m     \u001b[38;5;28;01melse\u001b[39;00m:\n\u001b[0;32m      5\u001b[0m         \u001b[38;5;28;01mreturn\u001b[39;00m \u001b[38;5;124m\"\u001b[39m\u001b[38;5;124mTry again after few years 👶🍼\u001b[39m\u001b[38;5;124m\"\u001b[39m\n\u001b[1;32m----> 6\u001b[0m \u001b[43mdriving_test\u001b[49m\u001b[43m(\u001b[49m\u001b[38;5;124;43m\"\u001b[39;49m\u001b[38;5;124;43mDiyali\u001b[39;49m\u001b[38;5;124;43m\"\u001b[39;49m\u001b[43m,\u001b[49m\u001b[38;5;241;43m19\u001b[39;49m\u001b[43m)\u001b[49m\n",
      "\u001b[1;31mTypeError\u001b[0m: driving_test() missing 1 required positional argument: 'car'"
     ]
    }
   ],
   "source": [
    "def driving_test(nm, ag, car):\n",
    "    if ag >= 18:\n",
    "        return f\"{nm}  is eligble for driving. You will be testing with {car}\"\n",
    "    else:\n",
    "        return \"Try again after few years 👶🍼\"\n",
    "driving_test(name=\"Diyali\",19) ## more parameters than arguments -> ERROR"
   ]
  },
  {
   "cell_type": "code",
   "execution_count": null,
   "metadata": {},
   "outputs": [],
   "source": [
    "def driving_test(nm, ag, car):\n",
    "    if ag >= 18:\n",
    "        return f\"{nm} is eligble for driving. You will be testing with {car}\"\n",
    "    else:\n",
    "        return \"Try again after few years 👶🍼\"\n",
    "driving_test(car=\"Toyota Yaris\",19) ## more parameters than arguments -> ERROR"
   ]
  },
  {
   "cell_type": "code",
   "execution_count": 2,
   "metadata": {},
   "outputs": [
    {
     "data": {
      "text/plain": [
       "'Ethan  is eligble for driving. You will be testing with Polo Vivo'"
      ]
     },
     "execution_count": 2,
     "metadata": {},
     "output_type": "execute_result"
    }
   ],
   "source": [
    "def driving_test(nm, ag, car=\"Polo Vivo\"):\n",
    "    if ag >= 18:\n",
    "        return f\"{nm}  is eligble for driving. You will be testing with {car}\"\n",
    "    else:\n",
    "        return \"Try again after few years 👶🍼\"\n",
    "driving_test(\"Ethan\",19)"
   ]
  },
  {
   "cell_type": "code",
   "execution_count": 3,
   "metadata": {},
   "outputs": [
    {
     "data": {
      "text/plain": [
       "'Inganathi  is eligble for driving. You will be testing with Ferrari'"
      ]
     },
     "execution_count": 3,
     "metadata": {},
     "output_type": "execute_result"
    }
   ],
   "source": [
    "driving_test(\"Inganathi\", 19, \"Ferrari\")  ### Default value has low priority\n"
   ]
  },
  {
   "cell_type": "code",
   "execution_count": 4,
   "metadata": {},
   "outputs": [
    {
     "data": {
      "text/plain": [
       "'Jevan  is eligble for driving. You will be testing with Polo Vivo'"
      ]
     },
     "execution_count": 4,
     "metadata": {},
     "output_type": "execute_result"
    }
   ],
   "source": [
    "driving_test(ag= 19,nm=\"Jevan\" )\n"
   ]
  },
  {
   "cell_type": "code",
   "execution_count": 6,
   "metadata": {},
   "outputs": [
    {
     "data": {
      "text/plain": [
       "'Luvuyo  is eligble for driving. You will be testing with Polo Vivo'"
      ]
     },
     "execution_count": 6,
     "metadata": {},
     "output_type": "execute_result"
    }
   ],
   "source": [
    "def driving_test(ag,nm=\"Mrs/Mr Cool\", car=\"Polo Vivo\"):\n",
    "    if ag >= 18:\n",
    "        return f\"{nm}  is eligble for driving. You will be testing with {car}\"\n",
    "    else:\n",
    "        return \"Try again after few years 👶🍼\"\n",
    "driving_test(19,\"Luvuyo\")"
   ]
  },
  {
   "cell_type": "code",
   "execution_count": 7,
   "metadata": {},
   "outputs": [
    {
     "data": {
      "text/plain": [
       "'Try again after few years 👶🍼'"
      ]
     },
     "execution_count": 7,
     "metadata": {},
     "output_type": "execute_result"
    }
   ],
   "source": [
    "def driving_test( nm=\"Mrs/Mr Cool\",ag=0, car=\"Polo Vivo\"):\n",
    "    if ag >= 18:\n",
    "        return f\"{nm}  is eligble for driving. You will be testing with {car}\"\n",
    "    else:\n",
    "        return \"Try again after few years 👶🍼\"\n",
    "\n",
    "\n",
    "driving_test()\n"
   ]
  },
  {
   "cell_type": "code",
   "execution_count": 8,
   "metadata": {},
   "outputs": [
    {
     "data": {
      "text/plain": [
       "'Mrs/Mr Cool  is eligble for driving. You will be testing with Polo Vivo'"
      ]
     },
     "execution_count": 8,
     "metadata": {},
     "output_type": "execute_result"
    }
   ],
   "source": [
    "driving_test(ag=18)"
   ]
  },
  {
   "cell_type": "markdown",
   "metadata": {},
   "source": [
    "`Style Guide`"
   ]
  },
  {
   "cell_type": "code",
   "execution_count": 9,
   "metadata": {},
   "outputs": [
    {
     "data": {
      "text/plain": [
       "9"
      ]
     },
     "execution_count": 9,
     "metadata": {},
     "output_type": "execute_result"
    }
   ],
   "source": [
    "max(9,6)"
   ]
  },
  {
   "cell_type": "code",
   "execution_count": null,
   "metadata": {},
   "outputs": [],
   "source": [
    "max(3,4,5,6,72,3,10,1)"
   ]
  }
 ],
 "metadata": {
  "kernelspec": {
   "display_name": "Python 3",
   "language": "python",
   "name": "python3"
  },
  "language_info": {
   "codemirror_mode": {
    "name": "ipython",
    "version": 3
   },
   "file_extension": ".py",
   "mimetype": "text/x-python",
   "name": "python",
   "nbconvert_exporter": "python",
   "pygments_lexer": "ipython3",
   "version": "3.10.2"
  }
 },
 "nbformat": 4,
 "nbformat_minor": 2
}
