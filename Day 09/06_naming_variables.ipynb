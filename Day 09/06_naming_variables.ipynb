{
 "cells": [
  {
   "cell_type": "code",
   "execution_count": null,
   "metadata": {},
   "outputs": [],
   "source": [
    "## Variable names\n",
    "#1. Avoid keywords | if=2 ->❌\n",
    "#2. Don't override inbuilt functions\n",
    "#3. Don't start variable name with number | 2t=300 ->❌\n",
    "#4. Cannot use special sign except '_'| num$ = 5 >❌\n",
    "\n",
    "## WRITE NOTES!!!"
   ]
  }
 ],
 "metadata": {
  "language_info": {
   "name": "python"
  }
 },
 "nbformat": 4,
 "nbformat_minor": 2
}
