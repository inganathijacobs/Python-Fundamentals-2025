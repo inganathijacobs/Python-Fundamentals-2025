{
 "cells": [
  {
   "cell_type": "code",
   "execution_count": null,
   "metadata": {},
   "outputs": [],
   "source": [
    "## Variable names\n",
    "#1. Avoid keywords | if=2 ->❌\n",
    "#2. Don't override inbuilt functions\n",
    "#3. Don't start variable name with number | 2t=300 ->❌\n",
    "#4. Cannot use special sign except '_'| num$ = 5 >❌\n",
    "\n",
    "# Good Practice\n",
    "# 1. snake_case\n",
    "# 2. Descriptive (But short)\n",
    "# 3. CONSTANT_CASE\n",
    "\n",
    "# # if = 2 # ❌\n",
    "# sum = 4  #❌\n",
    "# print(sum)\n",
    "\n",
    "\n",
    "# 1t  - ❌\n",
    "# t1  - ✅\n",
    "\n",
    "# num$ = 5 # ❌\n",
    "# num_1 = 5 # ✅\n",
    "\n",
    "PI = 3.14  # ✅ Constant"
   ]
  }
 ],
 "metadata": {
  "language_info": {
   "name": "python"
  }
 },
 "nbformat": 4,
 "nbformat_minor": 2
}
