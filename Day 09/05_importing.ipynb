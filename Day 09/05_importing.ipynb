{
 "cells": [
  {
   "cell_type": "code",
   "execution_count": null,
   "metadata": {},
   "outputs": [
    {
     "name": "stdout",
     "output_type": "stream",
     "text": [
      "3.141592653589793\n",
      "6.123233995736766e-17\n",
      "1.0\n",
      "2025-03-07 07:02:55.063542\n",
      "The Current date is: 07-03-2025\n",
      "The Current date is: 07/03/2025\n",
      "The Current date is: 07 03 2025\n",
      "The Current date is: 07 March 2025\n",
      "The Current date is: 07 Mar 2025\n"
     ]
    },
    {
     "ename": "",
     "evalue": "",
     "output_type": "error",
     "traceback": [
      "\u001b[1;31mThe Kernel crashed while executing code in the current cell or a previous cell. \n",
      "\u001b[1;31mPlease review the code in the cell(s) to identify a possible cause of the failure. \n",
      "\u001b[1;31mClick <a href='https://aka.ms/vscodeJupyterKernelCrash'>here</a> for more info. \n",
      "\u001b[1;31mView Jupyter <a href='command:jupyter.viewOutput'>log</a> for further details."
     ]
    }
   ],
   "source": [
    "from math import pi, cos  # Inbuilt\n",
    "from datetime import datetime  # Imports on top of the file\n",
    "\n",
    "print(pi)\n",
    "print(cos(pi / 2))\n",
    "print(cos(0))\n",
    "\n",
    "now = datetime.now()\n",
    "print(now)\n",
    "\n",
    "\n",
    "print(f\"The Current date is: {now:%d-%m-%Y}\")\n",
    "print(f\"The Current date is: {now:%d/%m/%Y}\")\n",
    "print(f\"The Current date is: {now:%d %m %Y}\")\n",
    "print(f\"The Current date is: {now:%d %B %Y}\")\n",
    "print(f\"The Current date is: {now:%d %b %Y}\")\n"
   ]
  }
 ],
 "metadata": {
  "kernelspec": {
   "display_name": "Python 3",
   "language": "python",
   "name": "python3"
  },
  "language_info": {
   "codemirror_mode": {
    "name": "ipython",
    "version": 3
   },
   "file_extension": ".py",
   "mimetype": "text/x-python",
   "name": "python",
   "nbconvert_exporter": "python",
   "pygments_lexer": "ipython3",
   "version": "3.10.2"
  }
 },
 "nbformat": 4,
 "nbformat_minor": 2
}
