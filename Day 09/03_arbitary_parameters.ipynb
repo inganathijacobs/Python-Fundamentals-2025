{
 "cells": [
  {
   "cell_type": "code",
   "execution_count": null,
   "metadata": {},
   "outputs": [],
   "source": [
    "max(9, 6)\n",
    "max(3, 4, 5, 6)\n",
    "max(3, 4, 5, 6, 7, 2, 3, 10, 1) ## ALL POSITIONAL ARGUEMENTS (*) |  ALL KEYWORD ARGUMENTS (**)"
   ]
  },
  {
   "cell_type": "code",
   "execution_count": 20,
   "metadata": {},
   "outputs": [
    {
     "name": "stdout",
     "output_type": "stream",
     "text": [
      "9\n",
      "6\n",
      "10\n"
     ]
    }
   ],
   "source": [
    "\n",
    "\n",
    "def own_max(*nums): # -> collect all the arguments\n",
    "    largest = nums[0]\n",
    "    for num in nums:\n",
    "      if num>largest:\n",
    "       largest=num\n",
    "    print(largest)\n",
    "own_max(9,6)\n",
    "own_max(3,4,5,6)\n",
    "own_max(3, 4, 5, 6, 7, 2, 3, 10, 1)"
   ]
  },
  {
   "cell_type": "code",
   "execution_count": 1,
   "metadata": {},
   "outputs": [
    {
     "name": "stdout",
     "output_type": "stream",
     "text": [
      "9\n",
      "6\n",
      "10\n",
      "9\n",
      "-1\n"
     ]
    }
   ],
   "source": [
    "def own_max(*nums):  # * -> Collect all the arguments\n",
    "    # Write normal for loop and return max value\n",
    "    highest = nums[0]\n",
    "    for num in nums:\n",
    "        if num > highest:\n",
    "            highest = num\n",
    "    return highest\n",
    "\n",
    "\n",
    "print(own_max(9, 6))\n",
    "print(own_max(3, 4, 5, 6))\n",
    "print(own_max(3, 7, 2, 10, 1))\n",
    "print(own_max(9))\n",
    "print(own_max(-1, -8, -2))\n"
   ]
  },
  {
   "cell_type": "code",
   "execution_count": 2,
   "metadata": {},
   "outputs": [
    {
     "name": "stdout",
     "output_type": "stream",
     "text": [
      "Please provide some values\n",
      "9\n",
      "6\n",
      "10\n",
      "9\n",
      "-1\n"
     ]
    }
   ],
   "source": [
    "def own_max(*nums):  # * -> Collect all the arguments\n",
    "    # Write normal for loop and return max value\n",
    "    if not nums:\n",
    "        return \"Please provide some values\"\n",
    "\n",
    "    highest = nums[0]\n",
    "    for num in nums:\n",
    "        if num > highest:\n",
    "            highest = num\n",
    "    return highest\n",
    "\n",
    "\n",
    "print(own_max())\n",
    "print(own_max(9, 6))  # positional args\n",
    "print(own_max(3, 4, 5, 6))\n",
    "print(own_max(3, 7, 2, 10, 1))\n",
    "print(own_max(9))\n",
    "print(own_max(-1, -8, -2))\n"
   ]
  },
  {
   "cell_type": "code",
   "execution_count": null,
   "metadata": {},
   "outputs": [],
   "source": [
    "def own_max(*nums):  # * -> Collect all the arguments\n",
    "    # Write normal for loop and return max value\n",
    "    if len(nums) == 0:\n",
    "        return \"Please provide some values\"\n",
    "\n",
    "    highest = nums[0]\n",
    "    for num in nums:\n",
    "        if num > highest:\n",
    "            highest = num\n",
    "    return highest\n"
   ]
  },
  {
   "cell_type": "code",
   "execution_count": 21,
   "metadata": {},
   "outputs": [
    {
     "name": "stdout",
     "output_type": "stream",
     "text": [
      "👋 😆 ('👋', '✅', '🥔', '🥕')\n"
     ]
    }
   ],
   "source": [
    "def fun (s1,s2, *emoji): # (*) WILL COLLECT IT AS A TUPLE || ALWAYS KEEP(*) AT THE END or IT WILL EXPECT KEYWORD ARGUMENTS AFTER\n",
    "    print(s1,s2,emoji)\n",
    "fun(\"👋\",\"😆\",\"👋\",\"✅\",\"🥔\",\"🥕\")"
   ]
  },
  {
   "cell_type": "code",
   "execution_count": null,
   "metadata": {},
   "outputs": [],
   "source": [
    "##Pos arg -> collect all pos args\n",
    "##keyword args -> collect all kw args"
   ]
  },
  {
   "cell_type": "code",
   "execution_count": 5,
   "metadata": {},
   "outputs": [
    {
     "name": "stdout",
     "output_type": "stream",
     "text": [
      "{'name': 'Cool', 'age': '20', 'car': 'BMW'}\n",
      "name Cool\n",
      "age 20\n",
      "car BMW\n"
     ]
    }
   ],
   "source": [
    "def fun1(**details):\n",
    "    print(details)\n",
    "    for key, value in details.items():\n",
    "        print(key, value)\n",
    "\n",
    "\n",
    "fun1(name=\"Cool\", age=\"20\", car=\"BMW\")\n",
    "## WHEN YOU COLLECT WITH * IT WILL BE A TUPLE -> count(),len(),+,*\n",
    "## WHEN YOU COLLECT WITH ** IT WILL BE A DICTIONARY"
   ]
  },
  {
   "cell_type": "code",
   "execution_count": 6,
   "metadata": {},
   "outputs": [
    {
     "name": "stdout",
     "output_type": "stream",
     "text": [
      "('👋', '😄', '👋') {'name': 'Cool', 'age': '20', 'car': 'BMW'}\n"
     ]
    }
   ],
   "source": [
    "def fun2(*emoji, **details):\n",
    "    print(emoji, details)\n",
    "\n",
    "\n",
    "fun2(\"👋\", \"😄\", \"👋\", name=\"Cool\", age=\"20\", car=\"BMW\")\n"
   ]
  },
  {
   "cell_type": "code",
   "execution_count": 25,
   "metadata": {},
   "outputs": [
    {
     "name": "stdout",
     "output_type": "stream",
     "text": [
      "Feeling 🙂 this morning 🌅\n",
      "Feeling 😎 this afternoon ☀️\n"
     ]
    }
   ],
   "source": [
    "def mood_report( mood=\"🙂\", time_of_day= \"morning 🌅\"):\n",
    " return f\"Feeling {mood} this {time_of_day}\"\n",
    "print(mood_report())\n",
    "print(mood_report(mood=\"😎\", time_of_day=\"afternoon ☀️\"))"
   ]
  },
  {
   "cell_type": "code",
   "execution_count": 7,
   "metadata": {},
   "outputs": [
    {
     "name": "stdout",
     "output_type": "stream",
     "text": [
      "Inganathi is eligible for driving test. You will be tested with Toyota\n",
      "Inganathi is eligible for driving test. You will be tested with Polo Vivo\n"
     ]
    }
   ],
   "source": [
    "def driving_test2(\n",
    "    name=\"Mr./Mrs. cool\", age=0, car=\"Polo Vivo\"\n",
    "):  # Default value - Order matters ✅\n",
    "    if age >= 18:\n",
    "        return f\"{name} is eligible for driving test. You will be tested with {car}\"\n",
    "    else:\n",
    "        return \"Try again after few years 👶🍼\"\n",
    "\n",
    "\n",
    "student = {\"name\": \"Inganathi\", \"age\": 19, \"car\": \"Toyota\"}\n",
    "\n",
    "\n",
    "print(driving_test2(student[\"name\"], student[\"age\"], student[\"car\"]))\n",
    "print(driving_test2(student[\"name\"], student[\"age\"]))\n"
   ]
  },
  {
   "cell_type": "code",
   "execution_count": 8,
   "metadata": {},
   "outputs": [
    {
     "name": "stdout",
     "output_type": "stream",
     "text": [
      "Inganathi is eligible for driving test. You will be tested with Toyota\n",
      "Inganathi is eligible for driving test. You will be tested with Toyota\n"
     ]
    }
   ],
   "source": [
    "def driving_test2(\n",
    "    name=\"Mr./Mrs. cool\", age=0, car=\"Polo Vivo\"\n",
    "):  # Default value - Order matters ✅\n",
    "    if age >= 18:\n",
    "        return f\"{name} is eligible for driving test. You will be tested with {car}\"\n",
    "    else:\n",
    "        return \"Try again after few years 👶🍼\"\n",
    "\n",
    "\n",
    "student = {\"name\": \"Inganathi\", \"age\": 19, \"car\": \"Toyota\"}\n",
    "\n",
    "\n",
    "print(driving_test2(**student))  # Short form -> Unpacking dictionary into KW args\n",
    "print(driving_test2(name=\"Inganathi\", age=19, car=\"Toyota\"))  # 3 KW\n"
   ]
  },
  {
   "cell_type": "code",
   "execution_count": null,
   "metadata": {},
   "outputs": [],
   "source": [
    "def fun3(n1, n2):  # Keyword args\n",
    "    print(n1, n2)\n",
    "\n",
    "\n",
    "vals = {\"n1\": 6, \"n2\": 7}\n",
    "\n",
    "fun3(n1=6, n2=7)  # 2 KW\n",
    "fun3(**vals)\n"
   ]
  },
  {
   "cell_type": "code",
   "execution_count": null,
   "metadata": {},
   "outputs": [
    {
     "name": "stdout",
     "output_type": "stream",
     "text": [
      " '1984' by George Orwell by (1949)\n",
      " 'No title' by J.K. Rowling by (N/A)\n",
      " 'The Great Gatsby' by F. Scott Fitzgerald by (1925)\n",
      " 'To Kill a Mockingbird' by Unknown by (1960)\n",
      " 'No title' by Ernest Hemingway by (1952)\n"
     ]
    },
    {
     "ename": "",
     "evalue": "",
     "output_type": "error",
     "traceback": [
      "\u001b[1;31mThe Kernel crashed while executing code in the current cell or a previous cell. \n",
      "\u001b[1;31mPlease review the code in the cell(s) to identify a possible cause of the failure. \n",
      "\u001b[1;31mClick <a href='https://aka.ms/vscodeJupyterKernelCrash'>here</a> for more info. \n",
      "\u001b[1;31mView Jupyter <a href='command:jupyter.viewOutput'>log</a> for further details."
     ]
    }
   ],
   "source": [
    "# Output\n",
    "# '1984' by George Orwell (1949)\n",
    "# 'Untitled' by J.K. Rowling (N/A)\n",
    "# 'The Great Gatsby' by F. Scott Fitzgerald (1925)\n",
    "# 'To Kill a Mockingbird' by Unknown (1960)\n",
    "# 'Untitled' by Ernest Hemingway (1952)\n",
    "books = [\n",
    "    {\"title\": \"1984\", \"author\": \"George Orwell\", \"year\": 1949},\n",
    "    {\"author\": \"J.K. Rowling\"},  # Missing title and year\n",
    "    {\"title\": \"The Great Gatsby\", \"author\": \"F. Scott Fitzgerald\", \"year\": 1925},\n",
    "    {\"title\": \"To Kill a Mockingbird\", \"year\": 1960},  # Missing author\n",
    "    {\"author\": \"Ernest Hemingway\", \"year\": 1952},  # Missing title\n",
    "]\n",
    "def format_books(title=\"No title\", author=\"Unknown\", year=\"N/A\"):\n",
    " return f\" '{title}' by {author} by ({year})\"\n",
    "\n",
    "def displ():\n",
    " for book in books:\n",
    "  print(format_books(**book))\n",
    "\n",
    "\n",
    "displ()"
   ]
  },
  {
   "cell_type": "code",
   "execution_count": 55,
   "metadata": {},
   "outputs": [
    {
     "name": "stdout",
     "output_type": "stream",
     "text": [
      "'1984' by George Orwell (1949) \n",
      "'No title' by J.K. Rowling (N/A) \n",
      "'The Great Gatsby' by F. Scott Fitzgerald (1925) \n",
      "'To Kill a Mockingbird' by Unknown (1960) \n",
      "'No title' by Ernest Hemingway (1952) \n",
      "'1984' by George Orwell (1949) \n",
      "'No title' by J.K. Rowling (N/A) \n",
      "'The Great Gatsby' by F. Scott Fitzgerald (1925) \n",
      "'To Kill a Mockingbird' by Unknown (1960) \n",
      "'No title' by Ernest Hemingway (1952) \n",
      "'1984' by George Orwell (1949) \n",
      "'Untitled' by J.K. Rowling (N/A) \n",
      "'The Great Gatsby' by F. Scott Fitzgerald (1925) \n",
      "'To Kill a Mockingbird' by Unknown (1960) \n",
      "'Untitled' by Ernest Hemingway (1952) \n"
     ]
    }
   ],
   "source": [
    "# Task 1.2\n",
    "\n",
    "\n",
    "books = [\n",
    "    {\"title\": \"1984\", \"author\": \"George Orwell\", \"year\": 1949},\n",
    "    {\"author\": \"J.K. Rowling\"},  # Missing title and year\n",
    "    {\"title\": \"The Great Gatsby\", \"author\": \"F. Scott Fitzgerald\", \"year\": 1925},\n",
    "    {\"title\": \"To Kill a Mockingbird\", \"year\": 1960},  # Missing author\n",
    "    {\"author\": \"Ernest Hemingway\", \"year\": 1952},  # Missing title\n",
    "]\n",
    "\n",
    "#Way 1\n",
    "def get_books1():\n",
    "\n",
    "    for book in books:\n",
    "        titl = book.get(\"title\",\"No title\")\n",
    "        auth = book.get('author',\"Unknown\")\n",
    "        yr = book.get(\"year\",\"N/A\")\n",
    "        print (f\"\"\"'{titl}' by {auth} ({yr}) \"\"\")\n",
    "\n",
    "\n",
    "get_books1()\n",
    "\n",
    "##Way 2\n",
    "def get_books2():\n",
    "    for book in books:\n",
    "        titl,auth,yr = book.get(\"title\", \"No title\"),book.get('author','Unknown'),book.get(\"year\",\"N/A\")\n",
    "        print (f\"'{titl}' by {auth} ({yr}) \")\n",
    "get_books2()\n",
    "\n",
    "\n",
    "#Way 3: Better solution\n",
    "\n",
    "def get_books3(title=\"Untitled\",author=\"Unknown\",year=\"N/A\"):\n",
    "\n",
    "     print(f\"\"\"'{title}' by {author} ({year}) \"\"\")\n",
    "for book in books:\n",
    " get_books3(**book)\n",
    "# Output\n",
    "# '1984' by George Orwell (1949)\n",
    "# 'Untitled' by J.K. Rowling (N/A)\n",
    "# 'The Great Gatsby' by F. Scott Fitzgerald (1925)\n",
    "# 'To Kill a Mockingbird' by Unknown (1960)\n",
    "# 'Untitled' by Ernest Hemingway (1952)\n"
   ]
  },
  {
   "cell_type": "markdown",
   "metadata": {},
   "source": [
    "` keyword arguments should match name of keys in dictionary if you want to UNPACK`"
   ]
  },
  {
   "cell_type": "markdown",
   "metadata": {},
   "source": [
    "# Summary\n",
    "- Arbitrary Parameter\n",
    "  - * -> Tuple\n",
    "  - ** -> Dict\n",
    "- Unpacking Args\n",
    "  - * -> List\n",
    "  - ** -> Dict"
   ]
  },
  {
   "cell_type": "code",
   "execution_count": null,
   "metadata": {},
   "outputs": [],
   "source": [
    "def fun1(s1, s2, *emoji):  # Unpacking on parameter (Arbitrary parameter)\n",
    "    print(s1, s2, emoji)\n",
    "\n",
    "\n",
    "# fun(\"👋\" , '😄' , \"👋\", \"✅\", \"🥔\", \"🥕\")\n",
    "\n",
    "\n",
    "cool_emojis = [\"😄\", \"👋\", \"✅\", \"🥔\"]\n",
    "\n",
    "\n",
    "def fun2(s1, s2, s3, s4):\n",
    "    print(s1, s2, s3, s4)\n",
    "\n",
    "\n",
    "fun2(cool_emojis[0], cool_emojis[1], cool_emojis[2], cool_emojis[3])\n",
    "# fun2(cool_emojis) # Args < Parameters\n",
    "fun2(*cool_emojis)  # Unpacking Pos Args\n",
    "\n",
    "book = {\"author\": \"Anita\", \"title\": \"Python Part I\"}\n",
    "\n",
    "\n",
    "def fun3(author, title):\n",
    "    print(author, title)\n",
    "\n",
    "\n",
    "fun3(title=book[\"title\"], author=book[\"author\"])\n",
    "fun3(**book)  # Unpacking Keyword Args\n"
   ]
  }
 ],
 "metadata": {
  "kernelspec": {
   "display_name": "Python 3",
   "language": "python",
   "name": "python3"
  },
  "language_info": {
   "codemirror_mode": {
    "name": "ipython",
    "version": 3
   },
   "file_extension": ".py",
   "mimetype": "text/x-python",
   "name": "python",
   "nbconvert_exporter": "python",
   "pygments_lexer": "ipython3",
   "version": "3.10.2"
  }
 },
 "nbformat": 4,
 "nbformat_minor": 2
}
