{
 "cells": [
  {
   "cell_type": "code",
   "execution_count": 38,
   "metadata": {},
   "outputs": [],
   "source": [
    "movies = [\n",
    "    {\"title\": \"Inception\", \"ratings\": [5, 4, 5, 4, 5]},\n",
    "    {\"title\": \"Interstellar\", \"ratings\": [5, 5, 4, 5, 4]},\n",
    "    {\"title\": \"Dunkirk\", \"ratings\": [4, 4, 4, 3, 4]},\n",
    "    {\"title\": \"The Dark Knight\", \"ratings\": [5, 5, 5, 5, 5]},\n",
    "    {\"title\": \"Memento\", \"ratings\": [4, 5, 4, 5, 4]},\n",
    "]\n"
   ]
  },
  {
   "cell_type": "code",
   "execution_count": null,
   "metadata": {},
   "outputs": [
    {
     "name": "stdout",
     "output_type": "stream",
     "text": [
      "['Inception', 'Interstellar', 'Dunkirk', 'The Dark Knight', 'Memento']\n"
     ]
    }
   ],
   "source": [
    "movies = [\n",
    "    {\"title\": \"Inception\", \"ratings\": [5, 4, 5, 4, 5]},\n",
    "    {\"title\": \"Interstellar\", \"ratings\": [5, 5, 4, 5, 4]},\n",
    "    {\"title\": \"Dunkirk\", \"ratings\": [4, 4, 4, 3, 4]},\n",
    "    {\"title\": \"The Dark Knight\", \"ratings\": [5, 5, 5, 5, 5]},\n",
    "    {\"title\": \"Memento\", \"ratings\": [4, 5, 4, 5, 4]},\n",
    "]\n",
    "\n",
    "# Task 1 - With List Comp\n",
    "# Output\n",
    "# [\"Inception\", \"Interstellar\", \"Dunkirk\", \"The Dark Knight\", \"Memento\"]\n",
    "\n",
    "\n",
    "\n",
    "movie_titles= [movie['title'] for movie in movies]\n",
    "\n",
    "print(movie_titles)\n",
    "\n",
    "\n",
    "\n",
    "# movie_title=[movie.get('title') for movie in movies]\n",
    "# print(movie_title)"
   ]
  },
  {
   "cell_type": "markdown",
   "metadata": {},
   "source": [
    "# Task 1.2\n",
    "Average rating of each movie\n",
    "\n",
    "### Output\n",
    "\n",
    "```py\n",
    " [ 4.6, 4.2, 4.1, 5, 4.2]\n",
    "```"
   ]
  },
  {
   "cell_type": "code",
   "execution_count": 4,
   "metadata": {},
   "outputs": [
    {
     "name": "stdout",
     "output_type": "stream",
     "text": [
      "[4.6, 4.6, 3.8, 5.0, 4.4]\n"
     ]
    }
   ],
   "source": [
    "avg_ratings=[sum(movie['ratings'])/len(movie['ratings']) for movie in movies]\n",
    "print(avg_ratings)"
   ]
  },
  {
   "cell_type": "code",
   "execution_count": 40,
   "metadata": {},
   "outputs": [
    {
     "name": "stdout",
     "output_type": "stream",
     "text": [
      "[4.6, 4.6, 3.8, 5.0, 4.4]\n"
     ]
    }
   ],
   "source": [
    "### Output\n",
    "##[ 4.6, 4.2, 4.1, 5, 4.2]\n",
    "movies = [\n",
    "    {\"title\": \"Inception\", \"ratings\": [5, 4, 5, 4, 5]},\n",
    "    {\"title\": \"Interstellar\", \"ratings\": [5, 5, 4, 5, 4]},\n",
    "    {\"title\": \"Dunkirk\", \"ratings\": [4, 4, 4, 3, 4]},\n",
    "    {\"title\": \"The Dark Knight\", \"ratings\": [5, 5, 5, 5, 5]},\n",
    "    {\"title\": \"Memento\", \"ratings\": [4, 5, 4, 5, 4]},\n",
    "]\n",
    "movie_rating= [sum(movie['ratings'])/ len(movie[\"ratings\"]) for movie in movies]\n",
    "# movie_ratings=[movie['ratings']ffor movie in moviesor movie in movies]\n",
    "\n",
    "print(movie_rating)"
   ]
  },
  {
   "cell_type": "markdown",
   "metadata": {},
   "source": [
    "## Task 1.3 \n",
    "Don't modify original movies list\n",
    "\n",
    "### Output\n",
    "\n",
    "```py\n",
    "[\n",
    "    {\n",
    "        \"title\": \"Inception\",\n",
    "        \"ratings\": [5, 4, 5, 4, 5],\n",
    "        \"average_rating\": 4.6\n",
    "    },\n",
    "    {\n",
    "        \"title\": \"Interstellar\",\n",
    "        \"ratings\": [5, 5, 4, 5, 4],\n",
    "        \"average_rating\": 4.2\n",
    "    },\n",
    "    {\n",
    "        \"title\": \"Dunkirk\",\n",
    "        \"ratings\": [4, 4, 4, 3, 4],\n",
    "        \"average_rating\": 4.1\n",
    "    },\n",
    "    {\n",
    "        \"title\": \"The Dark Knight\",\n",
    "        \"ratings\": [5, 5, 5, 5, 5],\n",
    "        \"average_rating\": 5\n",
    "    },\n",
    "    {\n",
    "        \"title\": \"Memento\",\n",
    "        \"ratings\": [4, 5, 4, 5, 4],\n",
    "        \"average_rating\": 4.2\n",
    "    },\n",
    "]\n",
    "```"
   ]
  },
  {
   "cell_type": "code",
   "execution_count": 44,
   "metadata": {},
   "outputs": [
    {
     "name": "stdout",
     "output_type": "stream",
     "text": [
      "[{'title': 'Inception', 'ratings': [5, 4, 5, 4, 5], 'average_rating': 4.6}, {'title': 'Interstellar', 'ratings': [5, 5, 4, 5, 4], 'average_rating': 4.6}, {'title': 'Dunkirk', 'ratings': [4, 4, 4, 3, 4], 'average_rating': 3.8}, {'title': 'The Dark Knight', 'ratings': [5, 5, 5, 5, 5], 'average_rating': 5.0}, {'title': 'Memento', 'ratings': [4, 5, 4, 5, 4], 'average_rating': 4.4}]\n"
     ]
    }
   ],
   "source": [
    "movies = [\n",
    "    {\"title\": \"Inception\", \"ratings\": [5, 4, 5, 4, 5]},\n",
    "    {\"title\": \"Interstellar\", \"ratings\": [5, 5, 4, 5, 4]},\n",
    "    {\"title\": \"Dunkirk\", \"ratings\": [4, 4, 4, 3, 4]},\n",
    "    {\"title\": \"The Dark Knight\", \"ratings\": [5, 5, 5, 5, 5]},\n",
    "    {\"title\": \"Memento\", \"ratings\": [4, 5, 4, 5, 4]},\n",
    "]\n",
    "\n",
    "# movie_rating = [movie['average_rating']=sum(movie[\"ratings\"]) / len(movie[\"ratings\"]) for movie in movies]\n",
    "# movie_ratings=[movie['ratings']for movie in movies]\n",
    "updated_movies = [\n",
    "    {**movie, \"average_rating\": sum(movie[\"ratings\"]) / len(movie[\"ratings\"])}\n",
    "    for movie in movies\n",
    "]\n",
    "print( updated_movies)\n",
    "\n",
    "# new_movie_list=[\n",
    "#     {**movie, \"average_rating\": sum(movie[\"ratings\"]) / len(movie[\"ratings\"])}\n",
    "#     for movie in movies\n",
    "# ]\n",
    "\n",
    "# for movie in movies:\n",
    "#     total_rating = sum(movie[\"ratings\"]) / len(movie[\"ratings\"])\n",
    "#    # movie['average_rating']=total_rating\n",
    "#     new_movie_list.append(\n",
    "\n",
    "# print(new_movie_list)\n",
    "# print(movies)\n"
   ]
  },
  {
   "cell_type": "code",
   "execution_count": null,
   "metadata": {},
   "outputs": [],
   "source": [
    "## Need top rated movies: average_rating >= 4.6\n",
    "\n",
    "### Output\n",
    "##`[\"Inception\", \"The Dark Knight\"]`\n"
   ]
  },
  {
   "cell_type": "code",
   "execution_count": 61,
   "metadata": {},
   "outputs": [
    {
     "name": "stdout",
     "output_type": "stream",
     "text": [
      "['Inception', 'Interstellar', 'The Dark Knight']\n"
     ]
    }
   ],
   "source": [
    "movies = [\n",
    "    {\"title\": \"Inception\", \"ratings\": [5, 4, 5, 4, 5]},\n",
    "    {\"title\": \"Interstellar\", \"ratings\": [5, 5, 4, 5, 4]},\n",
    "    {\"title\": \"Dunkirk\", \"ratings\": [4, 4, 4, 3, 4]},\n",
    "    {\"title\": \"The Dark Knight\", \"ratings\": [5, 5, 5, 5, 5]},\n",
    "    {\"title\": \"Memento\", \"ratings\": [4, 5, 4, 5, 4]},\n",
    "]\n",
    "# # for movie in movies:\n",
    "# #     total_rating = sum(movie[\"ratings\"]) / len(movie[\"ratings\"])\n",
    "# #    # movie['average_rating']=total_rating\n",
    "# #     new_movie_list.append(\n",
    "updated_movies = [\n",
    "    {**movie, \"average_rating\": sum(movie[\"ratings\"]) / len(movie[\"ratings\"])}\n",
    "    for movie in movies\n",
    "]\n",
    "high_rated_movies = [\n",
    "    mov[\"title\"] for mov in updated_movies if mov[\"average_rating\"] >= 4.6\n",
    "]\n",
    "print(high_rated_movies)\n"
   ]
  }
 ],
 "metadata": {
  "kernelspec": {
   "display_name": "Python 3",
   "language": "python",
   "name": "python3"
  },
  "language_info": {
   "codemirror_mode": {
    "name": "ipython",
    "version": 3
   },
   "file_extension": ".py",
   "mimetype": "text/x-python",
   "name": "python",
   "nbconvert_exporter": "python",
   "pygments_lexer": "ipython3",
   "version": "3.10.2"
  }
 },
 "nbformat": 4,
 "nbformat_minor": 2
}
