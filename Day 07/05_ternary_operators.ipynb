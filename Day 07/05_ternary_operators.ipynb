{
 "cells": [
  {
   "cell_type": "markdown",
   "metadata": {},
   "source": [
    "Falsy\n",
    "If a value converts to false then its falsy\n",
    "\n",
    "1. False\n",
    "2. None\n",
    "3. 0\n",
    "4. []\n",
    "5. \"\"\n",
    "6. {}\n",
    "7. ()\n",
    "8. set()\n",
    "\n",
    "\n",
    "Truthy - If it is not on the above table\n",
    "If a value converts to true then its truthy"
   ]
  },
  {
   "cell_type": "code",
   "execution_count": null,
   "metadata": {},
   "outputs": [],
   "source": [
    "x = [0]\n",
    "\n",
    "\n",
    "# if (condition) -> DataType? -> Boolean\n",
    "# More to the puzzle\n",
    "\n",
    "if x:\n",
    "    print(\"cool\")\n",
    "else:\n",
    "    print(\"super\")\n"
   ]
  },
  {
   "cell_type": "code",
   "execution_count": null,
   "metadata": {},
   "outputs": [],
   "source": [
    "age = 10\n",
    "\n",
    "if age >= 18:\n",
    "    print(\"Eligible for driving test ✅\")\n",
    "else:\n",
    "    print(\"Come after few years 👶🍼\")\n"
   ]
  },
  {
   "cell_type": "markdown",
   "metadata": {},
   "source": [
    "# Ternary Operator\n",
    "\n",
    "```py\n",
    "result = value_if_true if condition else value_if_false\n",
    "```"
   ]
  },
  {
   "cell_type": "code",
   "execution_count": null,
   "metadata": {},
   "outputs": [],
   "source": [
    "age = 10\n",
    "\n",
    "result = (\n",
    "    \"Eligible for driving test ✅\" if age >= 18 else \"Come after few years 👶🍼\"\n",
    ")  # Ternary operator\n",
    "print(result)\n",
    "\n",
    "# S1 if cond else S2\n"
   ]
  },
  {
   "cell_type": "code",
   "execution_count": null,
   "metadata": {},
   "outputs": [],
   "source": [
    "x = []\n",
    "print(\"cool\" if x else \"super\")\n"
   ]
  },
  {
   "cell_type": "code",
   "execution_count": null,
   "metadata": {},
   "outputs": [],
   "source": [
    "x = []\n",
    "\"cool\" if x else \"super\"  # Ternary (3) operator ? # 3 operands\n"
   ]
  },
  {
   "cell_type": "markdown",
   "metadata": {},
   "source": [
    "## Binary Operator (2 operands)\n",
    "- Arithmetic - +, - , *, **, %\n",
    "- Logical - and, or\n",
    "- Comparison - >, <, <=, ==\n",
    "\n",
    "## Unary Operator (1 operand)\n",
    "- * - Unpacking\n",
    "- not \n",
    "- ~ (Bitwise operator)"
   ]
  },
  {
   "cell_type": "code",
   "execution_count": 1,
   "metadata": {},
   "outputs": [
    {
     "data": {
      "text/plain": [
       "False"
      ]
     },
     "execution_count": 1,
     "metadata": {},
     "output_type": "execute_result"
    }
   ],
   "source": [
    "not True\n"
   ]
  },
  {
   "cell_type": "code",
   "execution_count": 6,
   "metadata": {},
   "outputs": [
    {
     "data": {
      "text/plain": [
       "-5"
      ]
     },
     "execution_count": 6,
     "metadata": {},
     "output_type": "execute_result"
    }
   ],
   "source": [
    "~4\n"
   ]
  }
 ],
 "metadata": {
  "kernelspec": {
   "display_name": "Python 3",
   "language": "python",
   "name": "python3"
  },
  "language_info": {
   "codemirror_mode": {
    "name": "ipython",
    "version": 3
   },
   "file_extension": ".py",
   "mimetype": "text/x-python",
   "name": "python",
   "nbconvert_exporter": "python",
   "pygments_lexer": "ipython3",
   "version": "3.10.2"
  }
 },
 "nbformat": 4,
 "nbformat_minor": 2
}
