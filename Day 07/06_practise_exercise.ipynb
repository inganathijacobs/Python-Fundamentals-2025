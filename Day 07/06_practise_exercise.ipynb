{
 "cells": [
  {
   "cell_type": "code",
   "execution_count": 11,
   "metadata": {},
   "outputs": [
    {
     "name": "stdout",
     "output_type": "stream",
     "text": [
      "['Alice', 'Charlie']\n"
     ]
    }
   ],
   "source": [
    "guests = [\n",
    "    {\"name\": \"Alice\", \"age\": 25, \"code\": \"VIP123\"},\n",
    "    {\"name\": \"Bob\", \"age\": 17, \"code\": \"VIP123\"},\n",
    "    {\"name\": \"Charlie\", \"age\": 30, \"code\": \"VIP123\"},\n",
    "    {\"name\": \"Dave\", \"age\": 22, \"code\": \"GUEST\"},\n",
    "    {\"name\": \"Eve\", \"age\": 29, \"code\": \"VIP123\"},\n",
    "]\n",
    "\n",
    "\n",
    "blacklist = [\"Dave\", \"Eve\"]\n",
    "\n",
    "# Task\n",
    "# People who are 21 or above and VIP123\n",
    "# Blacklist are not allowed\n",
    "\n",
    "\n",
    "PASS_CODE = \"VIP123\"\n",
    "\n",
    "# guestlist = []  # ?\n",
    "# for guest in guests:\n",
    "#     if (\n",
    "#         guest[\"name\"] != \"Eve\"\n",
    "#         and guest[\"name\"] != \"Dave\"\n",
    "#         and guest[\"age\"] >= 21\n",
    "#         and guest[\"code\"] == \"VIP123\"\n",
    "#     ):\n",
    "#         guestlist.append(guest['name'])\n",
    "# print(guestlist)\n",
    "\n",
    "guestlist = [\n",
    "    guest[\"name\"]\n",
    "    for guest in guests\n",
    "    if guest[\"name\"] not in blacklist\n",
    "    and guest[\"age\"] >= 21\n",
    "    and guest[\"code\"] == \"VIP123\"\n",
    "]\n",
    "print(guestlist)"
   ]
  },
  {
   "cell_type": "code",
   "execution_count": 14,
   "metadata": {},
   "outputs": [],
   "source": [
    "# Task 2 (Challenging)\n",
    "\n",
    "# Restaurant menus with emoji food items and prices\n",
    "restaurant_menus = [\n",
    "    {\n",
    "        \"restaurant\": \"Italian Place\",\n",
    "        \"menu\": {\"🍕\": 12.99, \"🍝\": 10.99, \"🥖\": 3.99, \"🥗\": 7.99},\n",
    "    },\n",
    "    {\n",
    "        \"restaurant\": \"Burger Joint\",\n",
    "        \"menu\": {\"🍔\": 8.99, \"🍟\": 3.99, \"🥤\": 1.99, \"🍦\": 4.99},\n",
    "    },\n",
    "    {\n",
    "        \"restaurant\": \"Sushi Bar\",\n",
    "        \"menu\": {\"🍣\": 15.99, \"🍜\": 12.99, \"🍙\": 6.99, \"🍶\": 9.99},\n",
    "    },\n",
    "    {\n",
    "        \"restaurant\": \"Health Spot\",\n",
    "        \"menu\": {\"🥗\": 9.99, \"🥙\": 8.99, \"🥑\": 4.99, \"🥝\": 3.99},\n",
    "    },\n",
    "]\n",
    "\n",
    "# Expected output\n",
    "# Output\n",
    "# {\n",
    "#     \"Italian Place\": {\"🥖\": 3.99, \"🥗\": 7.99},\n",
    "#     \"Burger Joint\": {\"🍔\": 8.99, \"🍟\": 3.99, \"🥤\": 1.99, \"🍦\": 4.99},\n",
    "#     \"Sushi Bar\": {\"🍙\": 6.99},\n",
    "#     \"Health Spot\": {\"🥙\": 8.99, \"🥑\": 4.99, \"🥝\": 3.99},\n",
    "# }\n",
    "# restau= {key['name']: item for key,item in restaurant_menus for item in key}\n",
    "# print(restau)\n",
    "# rest={}\n",
    "# for menu,item in restaurant_menus:\n",
    "#     for item in menu:\n",
    "#         restau\n"
   ]
  }
 ],
 "metadata": {
  "kernelspec": {
   "display_name": "Python 3",
   "language": "python",
   "name": "python3"
  },
  "language_info": {
   "codemirror_mode": {
    "name": "ipython",
    "version": 3
   },
   "file_extension": ".py",
   "mimetype": "text/x-python",
   "name": "python",
   "nbconvert_exporter": "python",
   "pygments_lexer": "ipython3",
   "version": "3.10.2"
  }
 },
 "nbformat": 4,
 "nbformat_minor": 2
}
