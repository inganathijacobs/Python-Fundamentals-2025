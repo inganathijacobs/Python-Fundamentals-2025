{
 "cells": [
  {
   "cell_type": "code",
   "execution_count": 9,
   "metadata": {},
   "outputs": [
    {
     "name": "stdout",
     "output_type": "stream",
     "text": [
      "{'1': 1, '2': 4, '3': 9, '4': 16, '5': 25}\n",
      "{'1': 1, '2': 4, '3': 9, '4': 16, '5': 25}\n"
     ]
    }
   ],
   "source": [
    "# Task\n",
    "# Creating the below dictionary with for loop\n",
    "\n",
    "{\"1\": 1, \"2\": 4, \"3\": 9, \"4\": 16, \"5\": 25}\n",
    "# squares={\"i\":i**2 for i in range(5)}\n",
    "squares={}\n",
    "for i in range(1,6):\n",
    "\n",
    "    squares[str(i)] = i**2\n",
    "nums={str(i): i**2 for i in range(1,6)}\n",
    "print(squares)\n",
    "print(nums)"
   ]
  },
  {
   "cell_type": "code",
   "execution_count": 15,
   "metadata": {},
   "outputs": [
    {
     "name": "stdout",
     "output_type": "stream",
     "text": [
      "{1: 'odd', 2: 'even', 3: 'odd', 4: 'even', 5: 'odd', 6: 'even', 7: 'odd', 8: 'even', 9: 'odd', 10: 'even'}\n"
     ]
    }
   ],
   "source": [
    "### Task 1.1: Odd/Even Classification\n",
    "\n",
    "# Create a dictionary where keys are numbers from 1 to 10 and values are strings indicating whether the number is 'odd' or 'even'.\n",
    "\n",
    "# **Expected Output:**\n",
    "# ```python\n",
    "# {1: 'odd', 2: 'even', 3: 'odd', 4: 'even', 5: 'odd', 6: 'even', 7: 'odd', 8: 'even', 9: 'odd', 10: 'even'}\n",
    "# ```\n",
    "\n",
    "odd_or_even={ i:'even'if i%2==0 else 'odd'for i in range(1,11)  }\n",
    "print(odd_or_even)"
   ]
  }
 ],
 "metadata": {
  "kernelspec": {
   "display_name": "Python 3",
   "language": "python",
   "name": "python3"
  },
  "language_info": {
   "codemirror_mode": {
    "name": "ipython",
    "version": 3
   },
   "file_extension": ".py",
   "mimetype": "text/x-python",
   "name": "python",
   "nbconvert_exporter": "python",
   "pygments_lexer": "ipython3",
   "version": "3.10.2"
  }
 },
 "nbformat": 4,
 "nbformat_minor": 2
}
