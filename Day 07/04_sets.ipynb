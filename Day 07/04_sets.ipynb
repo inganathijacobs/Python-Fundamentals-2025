{
 "cells": [
  {
   "cell_type": "markdown",
   "metadata": {},
   "source": [
    "## Sets\n",
    "- No duplicates allowed or they will be removed\n",
    "- Order not guaranteed\n",
    "- Creating set {}\n",
    "- It is mutable\n",
    "- Can't use index"
   ]
  },
  {
   "cell_type": "code",
   "execution_count": 2,
   "metadata": {},
   "outputs": [
    {
     "name": "stdout",
     "output_type": "stream",
     "text": [
      "{1, 2, 3, 4} <class 'set'>\n"
     ]
    }
   ],
   "source": [
    "nums={1,2,3,4}\n",
    "print(nums,type(nums))"
   ]
  },
  {
   "cell_type": "code",
   "execution_count": 3,
   "metadata": {},
   "outputs": [
    {
     "name": "stdout",
     "output_type": "stream",
     "text": [
      "<class 'dict'>\n"
     ]
    }
   ],
   "source": [
    "x= {}  ## NOT EMPTY SET\n",
    "print(type(x))"
   ]
  },
  {
   "cell_type": "code",
   "execution_count": null,
   "metadata": {},
   "outputs": [],
   "source": [
    "y = set() ##EMPTY SET"
   ]
  },
  {
   "cell_type": "markdown",
   "metadata": {},
   "source": [
    "## SET CRUD Methods\n",
    "- Create : set()\n",
    "- Read: print entire set or for loop\n",
    "- Update :update() or add()\n",
    "- Delete : discard() ##You won't get error if element is not available"
   ]
  },
  {
   "cell_type": "code",
   "execution_count": 5,
   "metadata": {},
   "outputs": [
    {
     "name": "stdout",
     "output_type": "stream",
     "text": [
      "{'💗 pink', '🟢 green', '🔵 blue', '🔴 red'}\n"
     ]
    }
   ],
   "source": [
    "# Task\n",
    "# Remove the duplicates\n",
    "colors = [\"🔴 red\", \"🔵 blue\", \"🔴 red\", \"🟢 green\", \"💗 pink\", \"🔵 blue\"]\n",
    "\n",
    "\n",
    "# \"🔴 red\", \"🔵 blue\", \"🟢 green\", \"💗 pink\"\n",
    "print(set(colors))"
   ]
  },
  {
   "cell_type": "code",
   "execution_count": 14,
   "metadata": {},
   "outputs": [
    {
     "name": "stdout",
     "output_type": "stream",
     "text": [
      "{'💗 pink', '🟢 green', '🔵 blue', '🔴 red'}\n"
     ]
    }
   ],
   "source": [
    "colors = [\"🔴 red\", \"🔵 blue\", \"🔴 red\", \"🟢 green\", \"💗 pink\", \"🔵 blue\"]\n",
    "colors1= set()\n",
    "for color in colors:\n",
    " colors1.add(color)\n",
    "print(colors1)"
   ]
  },
  {
   "cell_type": "markdown",
   "metadata": {},
   "source": [
    "## Methods of sets\n",
    "-\n",
    "add(): one item \n",
    "update(): add multiples values"
   ]
  }
 ],
 "metadata": {
  "kernelspec": {
   "display_name": "Python 3",
   "language": "python",
   "name": "python3"
  },
  "language_info": {
   "codemirror_mode": {
    "name": "ipython",
    "version": 3
   },
   "file_extension": ".py",
   "mimetype": "text/x-python",
   "name": "python",
   "nbconvert_exporter": "python",
   "pygments_lexer": "ipython3",
   "version": "3.10.2"
  }
 },
 "nbformat": 4,
 "nbformat_minor": 2
}
