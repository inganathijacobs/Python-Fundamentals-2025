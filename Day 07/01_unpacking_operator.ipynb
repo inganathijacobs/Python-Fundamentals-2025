{
 "cells": [
  {
   "cell_type": "code",
   "execution_count": 1,
   "metadata": {},
   "outputs": [
    {
     "name": "stdout",
     "output_type": "stream",
     "text": [
      "[90, 70, 45] <class 'list'>\n"
     ]
    }
   ],
   "source": [
    "m1, *t1, m2 = [80,90,70,45,90]\n",
    "print(t1,type(t1)) ## unpacking operator"
   ]
  },
  {
   "cell_type": "code",
   "execution_count": 2,
   "metadata": {},
   "outputs": [
    {
     "name": "stdout",
     "output_type": "stream",
     "text": [
      "[100, 200, 300, 400]\n"
     ]
    }
   ],
   "source": [
    "t1=[100,200]\n",
    "t2=[300,400]\n",
    "t3= t1\n",
    "print(t3)"
   ]
  },
  {
   "cell_type": "code",
   "execution_count": 5,
   "metadata": {},
   "outputs": [
    {
     "name": "stdout",
     "output_type": "stream",
     "text": [
      "[None]\n"
     ]
    }
   ],
   "source": [
    "t1=[100.200]\n",
    "t2=[300,400]\n",
    "t3=[t1.extend(t2)]\n",
    "print(t3)"
   ]
  },
  {
   "cell_type": "code",
   "execution_count": 7,
   "metadata": {},
   "outputs": [
    {
     "name": "stdout",
     "output_type": "stream",
     "text": [
      "[100, 200]\n"
     ]
    }
   ],
   "source": [
    "t1 = [100, 200]\n",
    "t2 = [300, 400]\n",
    "t3 = [*t1]\n",
    "print(t3)\n"
   ]
  },
  {
   "cell_type": "code",
   "execution_count": 9,
   "metadata": {},
   "outputs": [
    {
     "data": {
      "text/plain": [
       "(100, 200, 300, 400)"
      ]
     },
     "execution_count": 9,
     "metadata": {},
     "output_type": "execute_result"
    }
   ],
   "source": [
    "t1 = [100, 200]  ## using unpacking\n",
    "t2 = [300, 400]\n",
    "t3 = [*t1,*t2]\n",
    "t3"
   ]
  },
  {
   "cell_type": "code",
   "execution_count": 10,
   "metadata": {},
   "outputs": [
    {
     "data": {
      "text/plain": [
       "(100, 200, 300, 400)"
      ]
     },
     "execution_count": 10,
     "metadata": {},
     "output_type": "execute_result"
    }
   ],
   "source": [
    "t1 = (100, 200)  ## using unpacking  ##works with tuple too\n",
    "t2 = (300, 400)\n",
    "t3 = (*t1, *t2)\n",
    "t3\n"
   ]
  },
  {
   "cell_type": "code",
   "execution_count": 11,
   "metadata": {},
   "outputs": [
    {
     "data": {
      "text/plain": [
       "(100, 200, 300, 400)"
      ]
     },
     "execution_count": 11,
     "metadata": {},
     "output_type": "execute_result"
    }
   ],
   "source": [
    "t1 = [100, 200]  ## using unpacking\n",
    "t2 = [300, 400]\n",
    "t3 = (*t1, *t2)\n",
    "t3\n"
   ]
  },
  {
   "cell_type": "code",
   "execution_count": 15,
   "metadata": {},
   "outputs": [
    {
     "data": {
      "text/plain": [
       "[[1, '🍅'], [10, '🥔'], [3, '🥕', '🍏']]"
      ]
     },
     "execution_count": 15,
     "metadata": {},
     "output_type": "execute_result"
    }
   ],
   "source": [
    "veggie=([[1,\"🍅\"], [2,\"🥔\"],[3, \"🥕\"]])\n",
    "\n",
    "##Case 1\n",
    "veggie[1][0]=10\n",
    "\n",
    "##Case 2\n",
    "veggie[2].append(\"🍏\")\n",
    "veggie"
   ]
  },
  {
   "cell_type": "code",
   "execution_count": 16,
   "metadata": {},
   "outputs": [
    {
     "data": {
      "text/plain": [
       "{'name': 'Jamie', 'age': 20, 'job': 'Sanlam', 'country': 'SA'}"
      ]
     },
     "execution_count": 16,
     "metadata": {},
     "output_type": "execute_result"
    }
   ],
   "source": [
    "student={\"name\": \"Jamie\", \"age\":20}\n",
    "detail ={\"job\":\"Sanlam\",\"country\":\"SA\"}\n",
    "all_details={**student, **detail}  ## ANOTHER UNPACKING OPERATOR\n",
    "all_details"
   ]
  },
  {
   "cell_type": "code",
   "execution_count": 17,
   "metadata": {},
   "outputs": [
    {
     "data": {
      "text/plain": [
       "{'name': 'Jamie', 'age': 19, 'job': 'Sanlam', 'country': 'SA'}"
      ]
     },
     "execution_count": 17,
     "metadata": {},
     "output_type": "execute_result"
    }
   ],
   "source": [
    "student = {\"name\": \"Jamie\", \"age\": 20,}\n",
    "detail = {\"job\": \"Sanlam\", \"country\": \"SA\", \"age\":19}\n",
    "all_details = {**student, **detail}  ## LAST ONE OVERWRITES PREVIOUS ONE\n",
    "\n",
    "## Dictionary Rules -> all keys have to be unique\n",
    "all_details"
   ]
  },
  {
   "cell_type": "code",
   "execution_count": null,
   "metadata": {},
   "outputs": [],
   "source": [
    "x={\"nice\":1, \"nice\":1}"
   ]
  },
  {
   "cell_type": "code",
   "execution_count": null,
   "metadata": {},
   "outputs": [],
   "source": [
    "student = {\n",
    "    \"name\": \"Jamie\",\n",
    "    \"age\": 20,\n",
    "}\n",
    "detail = {\"job\": \"Sanlam\", \"country\": \"SA\", \"age\": 19}\n",
    "all_details = {\"country_code\": \"+27\" ,** student, **detail, \"age\":18}  ## LAST ONE OVERWRITES PREVIOUS ONE\n",
    "## MAKE DEFAULT VALUE FIRST\n",
    "## Dictionary Rules -> all keys have to be unique\n",
    "all_details\n"
   ]
  }
 ],
 "metadata": {
  "kernelspec": {
   "display_name": "Python 3",
   "language": "python",
   "name": "python3"
  },
  "language_info": {
   "codemirror_mode": {
    "name": "ipython",
    "version": 3
   },
   "file_extension": ".py",
   "mimetype": "text/x-python",
   "name": "python",
   "nbconvert_exporter": "python",
   "pygments_lexer": "ipython3",
   "version": "3.10.2"
  }
 },
 "nbformat": 4,
 "nbformat_minor": 2
}
