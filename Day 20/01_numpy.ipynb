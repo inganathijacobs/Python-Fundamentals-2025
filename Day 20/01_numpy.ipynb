{
 "cells": [
  {
   "cell_type": "markdown",
   "metadata": {},
   "source": [
    "## Data Analyst\n",
    "- people who know SQL\n",
    "- hired by MNC companies as Developers\n",
    "- Use powerBI -> build charts/graphs\n",
    "- insights from data\n",
    "- create charts and graphs to show higher ups(CEO)\n",
    "- get data that data scientists ask for\n",
    "- One shot query\n",
    "\n",
    "## Data Scientist\n",
    "- provide more insights from the insights\n",
    "- they will make predicitions using the insights\n",
    "- they also have to clean the data\n",
    "- used an Excel sheet\n",
    "- Python - numpy, pandas\n",
    "- scale -millions of rows\n",
    "- data predictions: Scikit\n",
    "- Matplot, seaborn -Charts\n",
    "- Line by line (Step)"
   ]
  },
  {
   "cell_type": "code",
   "execution_count": 11,
   "metadata": {},
   "outputs": [],
   "source": [
    "import numpy as np"
   ]
  },
  {
   "cell_type": "markdown",
   "metadata": {},
   "source": [
    "## Numpy\n",
    "- Good with working with arrays(1D)\n",
    "- Performant (compared Python List)\n",
    "- C language\n",
    "- Statistical oriented- mean, median, mode\n",
    "- foundation for Pandas( good for 2D data)"
   ]
  },
  {
   "cell_type": "code",
   "execution_count": 2,
   "metadata": {},
   "outputs": [
    {
     "name": "stdout",
     "output_type": "stream",
     "text": [
      "[90, 80, 20, 40, 90, 80, 20, 40]\n"
     ]
    }
   ],
   "source": [
    "marks1=[90,80,20,40]\n",
    "print(marks1 *2)"
   ]
  },
  {
   "cell_type": "code",
   "execution_count": 12,
   "metadata": {},
   "outputs": [
    {
     "name": "stdout",
     "output_type": "stream",
     "text": [
      "[180 160  40  80]\n"
     ]
    }
   ],
   "source": [
    "marks2= np.array([90,80,20,40])\n",
    "print(marks2*2)"
   ]
  },
  {
   "cell_type": "markdown",
   "metadata": {},
   "source": [
    "## Python way to double the list"
   ]
  },
  {
   "cell_type": "code",
   "execution_count": 4,
   "metadata": {},
   "outputs": [
    {
     "data": {
      "text/plain": [
       "[180, 160, 40, 80]"
      ]
     },
     "execution_count": 4,
     "metadata": {},
     "output_type": "execute_result"
    }
   ],
   "source": [
    "marks_dbl=[mark * 2 for mark in marks1]\n",
    "marks_dbl"
   ]
  },
  {
   "cell_type": "code",
   "execution_count": null,
   "metadata": {},
   "outputs": [
    {
     "data": {
      "text/plain": [
       "array([1., 1., 1., 1., 1., 1., 1., 1., 1., 1., 1., 1., 1., 1., 1., 1., 1.,\n",
       "       1., 1., 1., 1., 1., 1., 1., 1., 1., 1., 1., 1., 1., 1., 1., 1., 1.,\n",
       "       1., 1., 1., 1., 1., 1., 1., 1., 1., 1., 1., 1., 1., 1., 1., 1., 1.,\n",
       "       1., 1., 1., 1., 1., 1., 1., 1., 1., 1., 1., 1., 1., 1., 1., 1., 1.,\n",
       "       1., 1., 1., 1., 1., 1., 1., 1., 1., 1., 1., 1., 1., 1., 1., 1., 1.,\n",
       "       1., 1., 1., 1., 1., 1., 1., 1., 1., 1., 1., 1., 1., 1., 1.])"
      ]
     },
     "execution_count": 5,
     "metadata": {},
     "output_type": "execute_result"
    }
   ],
   "source": [
    "np.ones(10)\n",
    "np.ones(100)\n",
    "\n",
    "# Identity matrix"
   ]
  },
  {
   "cell_type": "code",
   "execution_count": null,
   "metadata": {},
   "outputs": [
    {
     "data": {
      "text/plain": [
       "array([5., 5., 5., 5., 5., 5., 5., 5., 5., 5., 5., 5., 5., 5., 5., 5., 5.,\n",
       "       5., 5., 5.])"
      ]
     },
     "execution_count": 7,
     "metadata": {},
     "output_type": "execute_result"
    }
   ],
   "source": [
    "# Array of 20 5's\n",
    "fives =5*np.ones(20)  #( use list of same number by using ones and multiplying it with wanted number )\n",
    "fives"
   ]
  },
  {
   "cell_type": "code",
   "execution_count": 11,
   "metadata": {},
   "outputs": [
    {
     "data": {
      "text/plain": [
       "array([0, 1, 2, 3, 4, 5, 6, 7, 8, 9])"
      ]
     },
     "execution_count": 11,
     "metadata": {},
     "output_type": "execute_result"
    }
   ],
   "source": [
    "np.arange(10) # a stands for array"
   ]
  },
  {
   "cell_type": "code",
   "execution_count": null,
   "metadata": {},
   "outputs": [],
   "source": [
    "#Task: 1->10\n",
    "np.arange(1,11)"
   ]
  },
  {
   "cell_type": "code",
   "execution_count": null,
   "metadata": {},
   "outputs": [
    {
     "data": {
      "text/plain": [
       "array([1, 3, 5, 7, 9])"
      ]
     },
     "execution_count": 12,
     "metadata": {},
     "output_type": "execute_result"
    }
   ],
   "source": [
    "np.arange(1, 11 ,2) # use skip to get odd/even\n"
   ]
  },
  {
   "cell_type": "markdown",
   "metadata": {},
   "source": [
    "## Operations\n",
    "- normal operations:\n",
    "    1. multipication\n",
    "    2. division\n",
    "    3. subtraction\n",
    "    4. addition\n",
    "- Boolean(matrix/mask)"
   ]
  },
  {
   "cell_type": "code",
   "execution_count": null,
   "metadata": {},
   "outputs": [
    {
     "data": {
      "text/plain": [
       "array([ 2,  4,  6,  8, 10, 12, 14, 16, 18, 20])"
      ]
     },
     "execution_count": 13,
     "metadata": {},
     "output_type": "execute_result"
    }
   ],
   "source": [
    "np.arange(1,11) * 2 # times all numbers in range"
   ]
  },
  {
   "cell_type": "code",
   "execution_count": 14,
   "metadata": {},
   "outputs": [
    {
     "data": {
      "text/plain": [
       "array([0.5, 1. , 1.5, 2. , 2.5, 3. , 3.5, 4. , 4.5, 5. ])"
      ]
     },
     "execution_count": 14,
     "metadata": {},
     "output_type": "execute_result"
    }
   ],
   "source": [
    "np.arange(1, 11) / 2\n"
   ]
  },
  {
   "cell_type": "code",
   "execution_count": 15,
   "metadata": {},
   "outputs": [
    {
     "data": {
      "text/plain": [
       "array([ 3,  4,  5,  6,  7,  8,  9, 10, 11, 12])"
      ]
     },
     "execution_count": 15,
     "metadata": {},
     "output_type": "execute_result"
    }
   ],
   "source": [
    "np.arange(1, 11) + 2\n"
   ]
  },
  {
   "cell_type": "code",
   "execution_count": 16,
   "metadata": {},
   "outputs": [
    {
     "data": {
      "text/plain": [
       "array([-1,  0,  1,  2,  3,  4,  5,  6,  7,  8])"
      ]
     },
     "execution_count": 16,
     "metadata": {},
     "output_type": "execute_result"
    }
   ],
   "source": [
    "np.arange(1, 11) - 2\n"
   ]
  },
  {
   "cell_type": "code",
   "execution_count": null,
   "metadata": {},
   "outputs": [
    {
     "data": {
      "text/plain": [
       "array([ 2,  4,  6,  8, 10, 12, 14, 16, 18, 20])"
      ]
     },
     "execution_count": 17,
     "metadata": {},
     "output_type": "execute_result"
    }
   ],
   "source": [
    "np.arange(1, 11) + np.arange(1, 11)\n",
    "# each element will be added up"
   ]
  },
  {
   "cell_type": "code",
   "execution_count": 21,
   "metadata": {},
   "outputs": [
    {
     "data": {
      "text/plain": [
       "array([10,  4,  8])"
      ]
     },
     "execution_count": 21,
     "metadata": {},
     "output_type": "execute_result"
    }
   ],
   "source": [
    "np.array([9,2,3]) + np.array([1,2,5]) # Metrix addition"
   ]
  },
  {
   "cell_type": "code",
   "execution_count": null,
   "metadata": {},
   "outputs": [
    {
     "data": {
      "text/plain": [
       "[9, 2, 3, 1, 2, 3]"
      ]
     },
     "execution_count": 19,
     "metadata": {},
     "output_type": "execute_result"
    }
   ],
   "source": [
    "[9,2,3]+[1,2,3]   #concatenates two arrays"
   ]
  },
  {
   "cell_type": "code",
   "execution_count": null,
   "metadata": {},
   "outputs": [
    {
     "data": {
      "text/plain": [
       "array([False, False, False, False, False,  True,  True,  True,  True,\n",
       "        True])"
      ]
     },
     "execution_count": 22,
     "metadata": {},
     "output_type": "execute_result"
    }
   ],
   "source": [
    "np.arange(1,11)>5 ## True or false of value>5"
   ]
  },
  {
   "cell_type": "code",
   "execution_count": 25,
   "metadata": {},
   "outputs": [
    {
     "data": {
      "text/plain": [
       "array([ 6,  7,  8,  9, 10])"
      ]
     },
     "execution_count": 25,
     "metadata": {},
     "output_type": "execute_result"
    }
   ],
   "source": [
    "first_ten_nums= np.arange(1,11)\n",
    "only_five_bm= first_ten_nums>5\n",
    "first_ten_nums[only_five_bm]"
   ]
  },
  {
   "cell_type": "code",
   "execution_count": null,
   "metadata": {},
   "outputs": [
    {
     "name": "stdout",
     "output_type": "stream",
     "text": [
      "[ 9 10  2  5  1]\n"
     ]
    }
   ],
   "source": [
    "nums= np.array([5,6,6,7,8,9,10,2,5,1])\n",
    "bm= np.arange(1,11)>5\n",
    "print(nums[bm])\n",
    "## wherever it is true, you will get the value"
   ]
  },
  {
   "cell_type": "code",
   "execution_count": 34,
   "metadata": {},
   "outputs": [
    {
     "data": {
      "text/plain": [
       "array([  0,   2,   4,   6,   8,  10,  12,  14,  16,  18,  20,  22,  24,\n",
       "        26,  28,  30,  32,  34,  36,  38,  40,  42,  44,  46,  48,  50,\n",
       "        52,  54,  56,  58,  60,  62,  64,  66,  68,  70,  72,  74,  76,\n",
       "        78,  80,  82,  84,  86,  88,  90,  92,  94,  96,  98, 100, 102,\n",
       "       104, 106, 108, 110, 112, 114, 116, 118, 120, 122, 124, 126, 128,\n",
       "       130, 132, 134, 136, 138, 140, 142, 144, 146, 148, 150, 152, 154,\n",
       "       156, 158, 160, 162, 164, 166, 168, 170, 172, 174, 176, 178, 180,\n",
       "       182, 184, 186, 188, 190, 192, 194, 196, 198, 200])"
      ]
     },
     "execution_count": 34,
     "metadata": {},
     "output_type": "execute_result"
    }
   ],
   "source": [
    "#1.1 Task :with skips\n",
    "# 1-200 even numbers\n",
    "np.arange(0,201,2)"
   ]
  },
  {
   "cell_type": "code",
   "execution_count": 35,
   "metadata": {},
   "outputs": [
    {
     "name": "stdout",
     "output_type": "stream",
     "text": [
      "[  2   4   6   8  10  12  14  16  18  20  22  24  26  28  30  32  34  36\n",
      "  38  40  42  44  46  48  50  52  54  56  58  60  62  64  66  68  70  72\n",
      "  74  76  78  80  82  84  86  88  90  92  94  96  98 100 102 104 106 108\n",
      " 110 112 114 116 118 120 122 124 126 128 130 132 134 136 138 140 142 144\n",
      " 146 148 150 152 154 156 158 160 162 164 166 168 170 172 174 176 178 180\n",
      " 182 184 186 188 190 192 194 196 198 200]\n"
     ]
    }
   ],
   "source": [
    "# Task 1.2\n",
    "# 1-200 only even numbers | Dont use skip of arange\n",
    "nums= np.arange(1,201)\n",
    "bm= np.arange(1,201) %2==0\n",
    "print(nums[bm])"
   ]
  },
  {
   "cell_type": "code",
   "execution_count": 40,
   "metadata": {},
   "outputs": [
    {
     "data": {
      "text/plain": [
       "array([  2,   4,   6,   8,  10,  12,  14,  16,  18,  20,  22,  24,  26,\n",
       "        28,  30,  32,  34,  36,  38,  40,  42,  44,  46,  48,  50,  52,\n",
       "        54,  56,  58,  60,  62,  64,  66,  68,  70,  72,  74,  76,  78,\n",
       "        80,  82,  84,  86,  88,  90,  92,  94,  96,  98, 100, 102, 104,\n",
       "       106, 108, 110, 112, 114, 116, 118, 120, 122, 124, 126, 128, 130,\n",
       "       132, 134, 136, 138, 140, 142, 144, 146, 148, 150, 152, 154, 156,\n",
       "       158, 160, 162, 164, 166, 168, 170, 172, 174, 176, 178, 180, 182,\n",
       "       184, 186, 188, 190, 192, 194, 196, 198, 200])"
      ]
     },
     "execution_count": 40,
     "metadata": {},
     "output_type": "execute_result"
    }
   ],
   "source": [
    "nums=np.arange(1,201)\n",
    "nums[nums%2==0]"
   ]
  },
  {
   "cell_type": "code",
   "execution_count": 36,
   "metadata": {},
   "outputs": [
    {
     "data": {
      "text/plain": [
       "array([ 3,  0, -2])"
      ]
     },
     "execution_count": 36,
     "metadata": {},
     "output_type": "execute_result"
    }
   ],
   "source": [
    "np.array([9,2,3]) - np.array([6,2,5])"
   ]
  },
  {
   "cell_type": "code",
   "execution_count": null,
   "metadata": {},
   "outputs": [
    {
     "data": {
      "text/plain": [
       "array([531441,      4,    243])"
      ]
     },
     "execution_count": 38,
     "metadata": {},
     "output_type": "execute_result"
    }
   ],
   "source": [
    "np.array([9,2,3]) - np.array([6,2,5,7]) #cant't perform operations on arrays/metrix with different sizes/lenghts"
   ]
  },
  {
   "cell_type": "code",
   "execution_count": null,
   "metadata": {},
   "outputs": [
    {
     "data": {
      "text/plain": [
       "array([729,   4, 243])"
      ]
     },
     "execution_count": 39,
     "metadata": {},
     "output_type": "execute_result"
    }
   ],
   "source": [
    "np.array([9, 2, 3]) ** np.array([3, 2, 5])\n",
    "#powers each number in array based on second array number in same index"
   ]
  },
  {
   "cell_type": "markdown",
   "metadata": {},
   "source": [
    "## CREATE ARRAYS\n",
    "-ones\n",
    "array()\n",
    "np.arange"
   ]
  },
  {
   "cell_type": "code",
   "execution_count": 43,
   "metadata": {},
   "outputs": [
    {
     "name": "stdout",
     "output_type": "stream",
     "text": [
      "[20 45 18 29 20]\n",
      "[20, 45, 18, 29, 20]\n"
     ]
    }
   ],
   "source": [
    "ages=np.random.randint(18,60,5)   #(from:to, how many numbers)\n",
    "print(ages)\n",
    "ages_list=ages.tolist()\n",
    "print(ages_list)\n"
   ]
  },
  {
   "cell_type": "code",
   "execution_count": 47,
   "metadata": {},
   "outputs": [
    {
     "name": "stdout",
     "output_type": "stream",
     "text": [
      "[24 40 51 31 56 58 48 22 19 34 50 19 52 53 52 30 24 56 50 59 27 36 33 56\n",
      " 43 47 30 46 56 45 21 41 39 56 36 34 45 44 37 42 18 51 34 58 49 44 26 59\n",
      " 38 40]\n"
     ]
    },
    {
     "data": {
      "text/plain": [
       "array([40, 51, 31, 56, 58, 48, 34, 50, 52, 53, 52, 30, 56, 50, 59, 27, 36,\n",
       "       33, 56, 43, 47, 30, 46, 56, 45, 41, 39, 56, 36, 34, 45, 44, 37, 42,\n",
       "       51, 34, 58, 49, 44, 26, 59, 38, 40], dtype=int32)"
      ]
     },
     "execution_count": 47,
     "metadata": {},
     "output_type": "execute_result"
    }
   ],
   "source": [
    "ages = np.random.randint(18, 60, 50)\n",
    "print(ages)\n",
    "ages[ages>25]"
   ]
  },
  {
   "cell_type": "code",
   "execution_count": 49,
   "metadata": {},
   "outputs": [
    {
     "name": "stdout",
     "output_type": "stream",
     "text": [
      "CPU times: total: 0 ns\n",
      "Wall time: 0 ns\n"
     ]
    },
    {
     "data": {
      "text/plain": [
       "[20, 45, 18, 29, 20]"
      ]
     },
     "execution_count": 49,
     "metadata": {},
     "output_type": "execute_result"
    }
   ],
   "source": [
    "%%time\n",
    "ages_list"
   ]
  },
  {
   "cell_type": "code",
   "execution_count": 50,
   "metadata": {},
   "outputs": [
    {
     "name": "stdout",
     "output_type": "stream",
     "text": [
      "[20, 45, 18, 29, 20]\n"
     ]
    }
   ],
   "source": [
    "ages=np.random.randint(18,60,500_00)\n",
    "age_list= ages.tolist()\n",
    "print(ages_list)"
   ]
  },
  {
   "cell_type": "code",
   "execution_count": 57,
   "metadata": {},
   "outputs": [
    {
     "name": "stdout",
     "output_type": "stream",
     "text": [
      "CPU times: total: 0 ns\n",
      "Wall time: 0 ns\n"
     ]
    }
   ],
   "source": [
    "%%time\n",
    "ages_list = [age * 2 for age in ages_list]\n"
   ]
  },
  {
   "cell_type": "markdown",
   "metadata": {},
   "source": [
    "## Performance\n",
    "- numpy arrays are 100-1000 times the performance of python list\n",
    "- %%time -time operation"
   ]
  },
  {
   "cell_type": "markdown",
   "metadata": {},
   "source": [
    "## Statistical oriented - mean, mode, median, std\n",
    "\n",
    "- mean -> Average\n",
    "- mode-> The most repeated number (most popular)\n",
    "- median -> The middle value in sorted(ascending order) arrays\n",
    "- tell you if there is a wide gap, which means the distribution is wide ( lots of people with high marks, and a few with low marks)\n",
    "- std- average distance between mean and other numbers"
   ]
  },
  {
   "cell_type": "code",
   "execution_count": 16,
   "metadata": {},
   "outputs": [
    {
     "name": "stdout",
     "output_type": "stream",
     "text": [
      "[88 76 83 76 56 81 49 40 54 66]\n",
      "66.9\n",
      "66.9\n"
     ]
    }
   ],
   "source": [
    "marks = np.random.randint(40,100,10)\n",
    "print(marks)\n",
    "print(marks.mean())\n",
    "print(np.mean(marks))"
   ]
  },
  {
   "cell_type": "code",
   "execution_count": 17,
   "metadata": {},
   "outputs": [
    {
     "name": "stdout",
     "output_type": "stream",
     "text": [
      "71.0\n"
     ]
    }
   ],
   "source": [
    "print(np.median(marks))"
   ]
  },
  {
   "cell_type": "code",
   "execution_count": 19,
   "metadata": {},
   "outputs": [
    {
     "name": "stdout",
     "output_type": "stream",
     "text": [
      "669\n"
     ]
    }
   ],
   "source": [
    "print(np.sum(marks))"
   ]
  },
  {
   "cell_type": "code",
   "execution_count": 20,
   "metadata": {},
   "outputs": [
    {
     "name": "stdout",
     "output_type": "stream",
     "text": [
      "15.488382743204662\n"
     ]
    }
   ],
   "source": [
    "print(np.std(marks))"
   ]
  },
  {
   "cell_type": "code",
   "execution_count": 21,
   "metadata": {},
   "outputs": [
    {
     "data": {
      "text/plain": [
       "np.float64(64.0)"
      ]
     },
     "execution_count": 21,
     "metadata": {},
     "output_type": "execute_result"
    }
   ],
   "source": [
    "sixty_four=np.ones(10) *64\n",
    "np.mean(sixty_four)"
   ]
  },
  {
   "cell_type": "code",
   "execution_count": 22,
   "metadata": {},
   "outputs": [
    {
     "data": {
      "text/plain": [
       "np.float64(0.0)"
      ]
     },
     "execution_count": 22,
     "metadata": {},
     "output_type": "execute_result"
    }
   ],
   "source": [
    "np.std(sixty_four)"
   ]
  },
  {
   "cell_type": "markdown",
   "metadata": {},
   "source": [
    "## ORDER OF OPERATION MATTERS!!!"
   ]
  },
  {
   "cell_type": "markdown",
   "metadata": {},
   "source": [
    "### Task 2\n",
    "At the year of ten years what will be the balance"
   ]
  },
  {
   "cell_type": "code",
   "execution_count": 30,
   "metadata": {},
   "outputs": [
    {
     "name": "stdout",
     "output_type": "stream",
     "text": [
      "[1050.         1102.5        1157.625      1215.50625    1276.2815625\n",
      " 1340.09564063 1407.10042266 1477.45544379 1551.32821598 1628.89462678]\n"
     ]
    }
   ],
   "source": [
    "investment_amount=1_000\n",
    "interest_rate= 0.05\n",
    "n=1\n",
    "num_years= np.arange(1,11)\n",
    "\n",
    "\n",
    "amount=investment_amount*(1+ interest_rate/n)**( n*num_years)\n",
    "\n",
    "print(amount)\n"
   ]
  },
  {
   "cell_type": "code",
   "execution_count": null,
   "metadata": {},
   "outputs": [
    {
     "name": "stdout",
     "output_type": "stream",
     "text": [
      "1628.894626777442\n"
     ]
    }
   ],
   "source": [
    "### Task 2\n",
    "#At the year of ten years what will be the balance\n",
    "\n",
    "after_ten_yrs= amount[-1]\n",
    "print(after_ten_yrs)"
   ]
  },
  {
   "cell_type": "code",
   "execution_count": 40,
   "metadata": {},
   "outputs": [
    {
     "name": "stdout",
     "output_type": "stream",
     "text": [
      "62.8894626777442\n"
     ]
    }
   ],
   "source": [
    "### Task 3\n",
    "#How is much % its increase as compared to first year\n",
    "\n",
    "\n",
    "diff=amount[-1]-investment_amount\n",
    "percentage = diff / investment_amount * 100\n",
    "print(percentage)"
   ]
  },
  {
   "cell_type": "markdown",
   "metadata": {},
   "source": [
    "## Useful Methods\n",
    "- max,min- argmax,argmin"
   ]
  },
  {
   "cell_type": "code",
   "execution_count": 41,
   "metadata": {},
   "outputs": [
    {
     "data": {
      "text/plain": [
       "array([2565, 2427, 7369, 3572, 6455, 1470, 5822, 9431, 2853, 5250],\n",
       "      dtype=int32)"
      ]
     },
     "execution_count": 41,
     "metadata": {},
     "output_type": "execute_result"
    }
   ],
   "source": [
    "salaries=np.random.randint(1_000,10_000,10)\n",
    "salaries"
   ]
  },
  {
   "cell_type": "code",
   "execution_count": 42,
   "metadata": {},
   "outputs": [
    {
     "data": {
      "text/plain": [
       "np.int32(9431)"
      ]
     },
     "execution_count": 42,
     "metadata": {},
     "output_type": "execute_result"
    }
   ],
   "source": [
    "np.max(salaries)"
   ]
  },
  {
   "cell_type": "code",
   "execution_count": 43,
   "metadata": {},
   "outputs": [
    {
     "data": {
      "text/plain": [
       "np.int32(1470)"
      ]
     },
     "execution_count": 43,
     "metadata": {},
     "output_type": "execute_result"
    }
   ],
   "source": [
    "np.min(salaries)"
   ]
  },
  {
   "cell_type": "code",
   "execution_count": null,
   "metadata": {},
   "outputs": [
    {
     "data": {
      "text/plain": [
       "np.int64(7)"
      ]
     },
     "execution_count": 44,
     "metadata": {},
     "output_type": "execute_result"
    }
   ],
   "source": [
    "np.argmax(salaries)  ## POSITION OF MAX VALUE(INDEX)"
   ]
  },
  {
   "cell_type": "code",
   "execution_count": null,
   "metadata": {},
   "outputs": [
    {
     "data": {
      "text/plain": [
       "np.int64(5)"
      ]
     },
     "execution_count": 45,
     "metadata": {},
     "output_type": "execute_result"
    }
   ],
   "source": [
    "np.argmin(salaries)  ## POSITION OF MIN VALUE(INDEX)"
   ]
  },
  {
   "cell_type": "code",
   "execution_count": 46,
   "metadata": {},
   "outputs": [
    {
     "data": {
      "text/plain": [
       "array([2, 1, 3, 2, 3, 3, 2, 3, 1, 3], dtype=int32)"
      ]
     },
     "execution_count": 46,
     "metadata": {},
     "output_type": "execute_result"
    }
   ],
   "source": [
    "nums=np.random.randint(1,4,10)\n",
    "nums"
   ]
  },
  {
   "cell_type": "code",
   "execution_count": null,
   "metadata": {},
   "outputs": [
    {
     "data": {
      "text/plain": [
       "array([1, 2, 3], dtype=int32)"
      ]
     },
     "execution_count": 50,
     "metadata": {},
     "output_type": "execute_result"
    }
   ],
   "source": [
    "np.unique(nums)   ## removes duplicates in array"
   ]
  },
  {
   "cell_type": "code",
   "execution_count": null,
   "metadata": {},
   "outputs": [
    {
     "data": {
      "text/plain": [
       "array([3, 2, 1], dtype=int32)"
      ]
     },
     "execution_count": 51,
     "metadata": {},
     "output_type": "execute_result"
    }
   ],
   "source": [
    "np.flip(np.unique(nums))   ## reverses array"
   ]
  },
  {
   "cell_type": "markdown",
   "metadata": {},
   "source": [
    "## Task 1\n",
    " \n",
    "hourly_visitors = [468, 279,  73, 272 ,406 ,128 ,302 ,216, 140, 82]\n",
    " \n",
    "- 1.1 Total visitors in the day?\n",
    "- 1.2 Which is the peak hour?\n",
    "- 1.3 On average how many people visit per hour\n",
    " \n",
    "### Output\n",
    "```\n",
    "Total visitors in the day: 2366\n",
    "Peak hour: 1\n",
    "Average people visit: 237\n",
    "```\n",
    " "
   ]
  },
  {
   "cell_type": "code",
   "execution_count": null,
   "metadata": {},
   "outputs": [
    {
     "name": "stdout",
     "output_type": "stream",
     "text": [
      "Total visitors:2366\n"
     ]
    }
   ],
   "source": [
    "hourly_visitors = [468, 279, 73, 272, 406, 128, 302, 216, 140, 82]\n",
    "tot_visitors= np.sum(hourly_visitors)\n",
    "print (f\"Total visitors in the day:{tot_visitors}\")"
   ]
  },
  {
   "cell_type": "code",
   "execution_count": 65,
   "metadata": {},
   "outputs": [
    {
     "name": "stdout",
     "output_type": "stream",
     "text": [
      "Peak Hour: 1\n"
     ]
    }
   ],
   "source": [
    "hourly_visitors = [468, 279, 73, 272, 406, 128, 302, 216, 140, 82]\n",
    "peak_hour= np.argmax(hourly_visitors)+1\n",
    "print(f\"Peak Hour: {peak_hour}\")\n"
   ]
  },
  {
   "cell_type": "code",
   "execution_count": 67,
   "metadata": {},
   "outputs": [
    {
     "name": "stdout",
     "output_type": "stream",
     "text": [
      "Average people visit: 237.0\n",
      "Average people visit: 237\n"
     ]
    }
   ],
   "source": [
    "avg_visits= np.sum(hourly_visitors)/len(hourly_visitors)\n",
    "print(f\"Average people visit: {np.ceil(avg_visits)}\")\n",
    "print(f\"Average people visit: {round(np.ceil(avg_visits))}\")"
   ]
  },
  {
   "cell_type": "code",
   "execution_count": 68,
   "metadata": {},
   "outputs": [
    {
     "name": "stdout",
     "output_type": "stream",
     "text": [
      "\n",
      "Total visitors in the day:2366\n",
      "Peak Hour: 1\n",
      "Average people visit: 237\n",
      "\n"
     ]
    }
   ],
   "source": [
    "print(f\"\"\"\n",
    "Total visitors in the day:{tot_visitors}\n",
    "Peak Hour: {peak_hour}\n",
    "Average people visit: {round(np.ceil(avg_visits))}\n",
    "\"\"\")"
   ]
  },
  {
   "cell_type": "code",
   "execution_count": null,
   "metadata": {},
   "outputs": [
    {
     "data": {
      "text/plain": [
       "array(['HELLO', 'WORLD', 'NUMPY'], dtype='<U5')"
      ]
     },
     "execution_count": 71,
     "metadata": {},
     "output_type": "execute_result"
    }
   ],
   "source": [
    "words=  np.array(['hello','world','numpy'])  ## CHANGE WORDS TO UPPER CASE\n",
    "np.char.upper(words)                         ## use np.char. to access string methods"
   ]
  },
  {
   "cell_type": "markdown",
   "metadata": {},
   "source": [
    "# Normalise\n",
    "- make everything the same ( CONSISTENT)\n",
    "\n",
    "## Task 2\n",
    "Normalize the Array:\n",
    " \n",
    "- 2.1 Trim leading and trailing spaces.\n",
    "- 2.2 Convert all items to lowercase.\n",
    "- 2.3 Ensure there are no duplicate items in the array.\n",
    " "
   ]
  },
  {
   "cell_type": "code",
   "execution_count": 80,
   "metadata": {},
   "outputs": [
    {
     "data": {
      "text/plain": [
       "array(['apple', 'banana', 'blueberry', 'cucumber', 'grape', 'kiwi',\n",
       "       'lemon', 'mango', 'orange', 'pineapple', 'raspberry', 'tomato'],\n",
       "      dtype='<U10')"
      ]
     },
     "execution_count": 80,
     "metadata": {},
     "output_type": "execute_result"
    }
   ],
   "source": [
    "items = np.array(\n",
    "    [\n",
    "        \" Apple\",\n",
    "        \"banana \",\n",
    "        \"GRAPE\",\n",
    "        \"cucumber\",\n",
    "        \"Pineapple\",\n",
    "        \" tomato \",\n",
    "        \"Orange\",\n",
    "        \" lemon\",\n",
    "        \"Kiwi \",\n",
    "        \"mango\",\n",
    "        \"blueberry \",\n",
    "        \" raspberry\",\n",
    "    ]\n",
    ")\n",
    "\n",
    "stripped= np.char.strip(items)\n",
    "lower= np.char.lower(stripped)\n",
    "normalised= np.unique(lower)\n",
    "normalised"
   ]
  },
  {
   "cell_type": "markdown",
   "metadata": {},
   "source": [
    "## Task 3 (Challenging)  #BOOLEAN MATRIX\n",
    "Filtering Operations:\n",
    "- 3.1 Find and display all items that start with the letter 'b'.\n",
    "- 3.2 Find and display all items that contain the letter 'e' exactly once."
   ]
  },
  {
   "cell_type": "code",
   "execution_count": null,
   "metadata": {},
   "outputs": [
    {
     "name": "stdout",
     "output_type": "stream",
     "text": [
      "['banana' 'blueberry']\n",
      "[ 9 10  2  5  1]\n"
     ]
    }
   ],
   "source": [
    "b_words = normalised[np.char.startswith(normalised,'b')]  ## Wherever the name in normalised starts with b is true\n",
    "print(b_words)\n",
    "\n",
    "nums = np.array([5, 6, 6, 7, 8, 9, 10, 2, 5, 1])\n",
    "bm = np.arange(1, 11) > 5\n",
    "print(nums[bm])"
   ]
  },
  {
   "cell_type": "code",
   "execution_count": null,
   "metadata": {},
   "outputs": [
    {
     "name": "stdout",
     "output_type": "stream",
     "text": [
      "['apple' 'cucumber' 'grape' 'lemon' 'orange' 'raspberry']\n"
     ]
    }
   ],
   "source": [
    "contain_e= np.char.count(normalised,'e')==1   ## counts how many time the letter e appears in the word and where e appears once then it is true\n",
    "print(normalised[contain_e])\n"
   ]
  },
  {
   "cell_type": "markdown",
   "metadata": {},
   "source": [
    "## 2D MATRIX/ARRAYS"
   ]
  },
  {
   "cell_type": "code",
   "execution_count": 94,
   "metadata": {},
   "outputs": [
    {
     "data": {
      "text/plain": [
       "array([[1, 3, 4],\n",
       "       [1, 3, 4],\n",
       "       [1, 3, 4]])"
      ]
     },
     "execution_count": 94,
     "metadata": {},
     "output_type": "execute_result"
    }
   ],
   "source": [
    "num_3x3 = np.array([[1, 3, 4], [1, 3, 4], [1, 3, 4]])\n",
    "num_3x3"
   ]
  },
  {
   "cell_type": "code",
   "execution_count": null,
   "metadata": {},
   "outputs": [
    {
     "data": {
      "text/plain": [
       "(3, 3)"
      ]
     },
     "execution_count": 95,
     "metadata": {},
     "output_type": "execute_result"
    }
   ],
   "source": [
    "num_3x3.shape    ## get dimension of array"
   ]
  },
  {
   "cell_type": "code",
   "execution_count": null,
   "metadata": {},
   "outputs": [
    {
     "data": {
      "text/plain": [
       "array([[2, 6, 8],\n",
       "       [2, 6, 8],\n",
       "       [2, 6, 8]])"
      ]
     },
     "execution_count": 96,
     "metadata": {},
     "output_type": "execute_result"
    }
   ],
   "source": [
    "num_3x3 *2   ## Multiply all items in metrix by 2"
   ]
  },
  {
   "cell_type": "code",
   "execution_count": null,
   "metadata": {},
   "outputs": [
    {
     "data": {
      "text/plain": [
       "array([[3, 5, 6],\n",
       "       [3, 5, 6],\n",
       "       [3, 5, 6]])"
      ]
     },
     "execution_count": 97,
     "metadata": {},
     "output_type": "execute_result"
    }
   ],
   "source": [
    "num_3x3 + 2 #Adds all items in metrix by 1\n"
   ]
  }
 ],
 "metadata": {
  "kernelspec": {
   "display_name": ".venv",
   "language": "python",
   "name": "python3"
  },
  "language_info": {
   "codemirror_mode": {
    "name": "ipython",
    "version": 3
   },
   "file_extension": ".py",
   "mimetype": "text/x-python",
   "name": "python",
   "nbconvert_exporter": "python",
   "pygments_lexer": "ipython3",
   "version": "3.10.2"
  }
 },
 "nbformat": 4,
 "nbformat_minor": 2
}
