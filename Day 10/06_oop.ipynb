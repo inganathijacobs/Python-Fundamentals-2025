{
 "cells": [
  {
   "cell_type": "markdown",
   "metadata": {},
   "source": [
    "## Paradigms (style of coding)\n",
    "- Functional programming - LISP\n",
    "- OOP - Object Oriented programming\n",
    "- Procedural programming\n",
    "- Mathematical programming"
   ]
  },
  {
   "cell_type": "markdown",
   "metadata": {},
   "source": [
    "## Object Oriented Programming?\n",
    "- Inspiration from nature to solve complex problems\n",
    "- Programming abstract\n",
    "- Programing constructs into objects"
   ]
  },
  {
   "cell_type": "markdown",
   "metadata": {},
   "source": [
    "## Car( Blue print)\n",
    "- wheels\n",
    "- engine\n",
    "- make\n",
    "- doors"
   ]
  },
  {
   "cell_type": "markdown",
   "metadata": {},
   "source": [
    "## Object\n",
    "### BMW\n",
    "- Wheels - 4\n",
    "- Engine - v8\n",
    "- model - x5\n",
    "- Doors - 4\n",
    " \n",
    "### Jeep\n",
    "- Wheels - 4\n",
    "- Engine - v6\n",
    "- model - wrangler\n",
    "- Doors - 5\n",
    " \n",
    "### Mclaren\n",
    "- Wheels - 4\n",
    "- Engine - v8\n",
    "- model - 650s\n",
    "- Doors - 2"
   ]
  },
  {
   "cell_type": "code",
   "execution_count": 4,
   "metadata": {},
   "outputs": [
    {
     "name": "stdout",
     "output_type": "stream",
     "text": [
      "4\n",
      "v8\n",
      "x5\n",
      "4\n",
      "4\n",
      "v6\n",
      "wrangler\n",
      "5\n",
      "Vroom Vroom\n"
     ]
    }
   ],
   "source": [
    "class Car: ## Blueprint\n",
    "    ## method init -> called when you create object\n",
    "    def __init__(self,wheels,engine,model,doors):\n",
    "        #instance variables\n",
    "        self.wheels=wheels\n",
    "        self.engine=engine  ##self points to the object you created | in this case=>bmw\n",
    "        self.model=model\n",
    "        self.doors=doors\n",
    "\n",
    "    #instance method\n",
    "    def horn(self):\n",
    "        return \"Vroom Vroom\"\n",
    "\n",
    "bmw=Car (4,\"v8\",\"x5\",4)\n",
    "jeep = Car(4, \"v6\", \"wrangler\", 5)\n",
    "mclaren= Car(4, \"v8\", \"650s\", 2)\n",
    "suzuki= Car(4, \"Z12E\",\"swift\", 4)\n",
    "print(bmw.wheels)\n",
    "print(bmw.engine)\n",
    "print(bmw.model)\n",
    "print(bmw.doors)\n",
    "\n",
    "print(jeep.wheels)\n",
    "print(jeep.engine)\n",
    "print(jeep.model)\n",
    "print(jeep.doors)\n",
    "print(jeep.horn())"
   ]
  },
  {
   "cell_type": "markdown",
   "metadata": {},
   "source": [
    "# Class -> Data + Logic\n",
    "- contains instance variables - Data\n",
    "- contains instance methods - Logic"
   ]
  }
 ],
 "metadata": {
  "kernelspec": {
   "display_name": "Python 3",
   "language": "python",
   "name": "python3"
  },
  "language_info": {
   "codemirror_mode": {
    "name": "ipython",
    "version": 3
   },
   "file_extension": ".py",
   "mimetype": "text/x-python",
   "name": "python",
   "nbconvert_exporter": "python",
   "pygments_lexer": "ipython3",
   "version": "3.10.2"
  }
 },
 "nbformat": 4,
 "nbformat_minor": 2
}
