{
 "cells": [
  {
   "cell_type": "code",
   "execution_count": 9,
   "metadata": {},
   "outputs": [
    {
     "name": "stdout",
     "output_type": "stream",
     "text": [
      "Can't divide by zero\n"
     ]
    }
   ],
   "source": [
    "# EXCEPTION HANDLING/ERROR HANDLING\n",
    "# TRY AND EXCEPT\n",
    "def math_divide(n1,n2):\n",
    "    try:\n",
    "     result= n1/n2 # Lines likey to be ERROR\n",
    "     print(result)\n",
    "    except ZeroDivisionError: ## For specific error\n",
    "       print(\"Can't divide by zero\")\n",
    "\n",
    "\n",
    "# print(math_divide(10, 0)) # ZERODIVISIONERROR\n",
    "math_divide(10,0)\n",
    "\n",
    "# EXCEPTION HANDLIN/ERROR HANDLING"
   ]
  },
  {
   "cell_type": "code",
   "execution_count": null,
   "metadata": {},
   "outputs": [],
   "source": [
    "def math_divide(n1, n2):\n",
    "    try:\n",
    "        result = n1 / n2  # Lines likey to be ERROR\n",
    "    except:  ## catches any error\n",
    "        print(\"something bad happened\")\n",
    "    return result\n",
    "\n",
    "\n",
    "# print(math_divide(10, 0)) # ZERODIVISIONERROR\n",
    "print(math_divide(10, 5))\n",
    "\n",
    "# EXCEPTION HANDLIN/ERROR HANDLING\n"
   ]
  },
  {
   "cell_type": "code",
   "execution_count": null,
   "metadata": {},
   "outputs": [
    {
     "name": "stdout",
     "output_type": "stream",
     "text": [
      "Invalid: Year cannot be negative\n"
     ]
    }
   ],
   "source": [
    "from datetime import datetime\n",
    "\n",
    "# Task 1.1\n",
    "# Please tell me your year of birth 2000\n",
    "# Your age is 25\n",
    "def calculate_age():\n",
    "    try:\n",
    "        current_year = datetime.now().year\n",
    "        birth_year = int(input(\" Please tell me your year of birth: \"))\n",
    "        if birth_year <= 0:\n",
    "            raise ValueError( \" Year cannot be negative\")\n",
    "        elif birth_year > current_year:\n",
    "            raise ValueError(\" You're not flash to be from the future\")\n",
    "        age = current_year - birth_year\n",
    "        return f\"Your age is {age}\"\n",
    "\n",
    "    except ValueError as err:\n",
    "        print(f\"Invalid:{err}\")\n",
    "\n",
    "    # Catch all errors / keep it last\n",
    "    except Exception as err:\n",
    "        print(f\"Something went really: {err}\")\n",
    "calculate_age()\n",
    "\n",
    "# Task 1.2\n",
    "# Handling Error\n"
   ]
  },
  {
   "cell_type": "markdown",
   "metadata": {},
   "source": [
    "## Business Logical Error\n",
    "- `raise` -> intentionally throwing error- because it goes against business logic\n",
    "## `Types of errors:`\n",
    "- runtime\n",
    "- Logical\n",
    "- syntax"
   ]
  },
  {
   "cell_type": "markdown",
   "metadata": {},
   "source": [
    "# Exception is the base class for all errors"
   ]
  }
 ],
 "metadata": {
  "kernelspec": {
   "display_name": "Python 3",
   "language": "python",
   "name": "python3"
  },
  "language_info": {
   "codemirror_mode": {
    "name": "ipython",
    "version": 3
   },
   "file_extension": ".py",
   "mimetype": "text/x-python",
   "name": "python",
   "nbconvert_exporter": "python",
   "pygments_lexer": "ipython3",
   "version": "3.10.2"
  }
 },
 "nbformat": 4,
 "nbformat_minor": 2
}
