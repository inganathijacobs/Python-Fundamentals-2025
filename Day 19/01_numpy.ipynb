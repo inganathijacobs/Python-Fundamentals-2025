{
 "cells": [
  {
   "cell_type": "markdown",
   "metadata": {},
   "source": [
    "## Data Analyst\n",
    "- people who know SQL\n",
    "- Use powerBI -> build charts/graphs\n",
    "- insights from data\n",
    "- create charts and graphs to show higher ups(CEO)\n",
    "- get data that data scientists ask for\n",
    "- One shot query\n",
    "\n",
    "## Data Scientist\n",
    "- provide more insights from the insights\n",
    "- they will make predicitions using the insights\n",
    "- they also have to clean the data\n",
    "- used an Excel sheet\n",
    "- Python - numpy, pandas\n",
    "- scale -millions of rows\n",
    "- data predictions: Scikit\n",
    "- Matplot, seaborn -Charts\n",
    "- Line by line (Step)"
   ]
  },
  {
   "cell_type": "markdown",
   "metadata": {},
   "source": [
    "## Numpy\n",
    "- Good with working with arrays(1D)\n",
    "- Performant (compared Python List)\n",
    "- C language\n",
    "- Statistical oriented- mean, median, mode"
   ]
  }
 ],
 "metadata": {
  "language_info": {
   "name": "python"
  }
 },
 "nbformat": 4,
 "nbformat_minor": 2
}
