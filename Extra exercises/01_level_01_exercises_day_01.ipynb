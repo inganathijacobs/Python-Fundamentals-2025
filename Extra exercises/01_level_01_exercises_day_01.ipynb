{
 "cells": [
  {
   "cell_type": "markdown",
   "metadata": {},
   "source": [
    "# Day 2\n",
    "## 1. Name Tag Generator (Difficulty: 1)\n",
    "<details>\n",
    "<summary>Topics</summary>\n",
    "\n",
    "- String manipulation\n",
    "- F-strings\n",
    "- User input\n",
    "</details>\n",
    "\n",
    "Create a program that asks for a name and prints a decorated name tag.\n",
    "\n",
    "```python\n",
    "name = input(\"Enter your name: \")\n",
    "# Convert to uppercase and print decorated name\n",
    "```\n",
    "\n",
    "**Expected Output:**\n",
    "```\n",
    "Enter your name: Maria\n",
    "✨ Hello, MARIA! ✨\n",
    "```\n",
    "\n",
    "**Hint:** Use string methods and f-strings."
   ]
  },
  {
   "cell_type": "code",
   "execution_count": 3,
   "metadata": {},
   "outputs": [
    {
     "name": "stdout",
     "output_type": "stream",
     "text": [
      "✨ Hello, MARIA! ✨\n"
     ]
    }
   ],
   "source": [
    "name= input(\"Enter your name: \").upper()\n",
    "print(f\"✨ Hello, {name}! ✨\")\n"
   ]
  },
  {
   "cell_type": "markdown",
   "metadata": {},
   "source": [
    "# Day 3\n",
    "\n",
    "## 1. Emoji Battery Indicator (Difficulty: 1)\n",
    "<details>\n",
    "<summary>Topics</summary>\n",
    "\n",
    "- Floor division\n",
    "- String repetition\n",
    "- F-strings\n",
    "</details>\n",
    "\n",
    "Create a fun battery indicator using emojis based on battery percentage.\n",
    "\n",
    "```python\n",
    "battery = int(input(\"Enter battery percentage (0-100): \"))\n",
    "# Create an emoji battery indicator that shows the battery level\n",
    "```\n",
    "\n",
    "**Expected Output:**\n",
    "```\n",
    "Enter battery percentage (0-100): 70\n",
    "Battery: [🔋🔋🔋🔋🔋🔋🔋⬜⬜⬜] 70%\n",
    "Power status: Good charge! 👍\n",
    "```\n",
    "\n",
    "**Hint:** Use floor division to determine how many battery emoji symbols to display.\n",
    "\n",
    "---"
   ]
  },
  {
   "cell_type": "code",
   "execution_count": 9,
   "metadata": {},
   "outputs": [
    {
     "name": "stdout",
     "output_type": "stream",
     "text": [
      "[🔋🔋🔋🔋🔋🔋🔋🔋⬜⬜84%]\n",
      "      Power status: Good charge! 👍\n"
     ]
    }
   ],
   "source": [
    "battery=int(input(\"Enter your battery percentage (0-100): \"))\n",
    "battery_display= (battery//10)\n",
    "battery_percentage= battery_display* \"🔋\"\n",
    "space_display = (10 - (battery_display)) * \"⬜\"\n",
    "if battery>=60:\n",
    "    status=\"Good charge! 👍\"\n",
    "elif battery<=20:\n",
    "    status= \"Charge your phone! 🪫\"\n",
    "else:\n",
    "    status= \"You might need to charge your phone spon. \"\n",
    "print(f\"\"\"[{battery_percentage}{space_display}{battery}%]\n",
    "      Power status: {status}\"\"\")"
   ]
  },
  {
   "cell_type": "markdown",
   "metadata": {},
   "source": [
    "# Day 4\n",
    "<details>\n",
    "<summary>📋 Exercise 1: Countdown to Launch! (Difficulty: ⭐)</summary>\n",
    "\n",
    "**Task**: Create a countdown loop that prints the countdown from 10 to 1, and then prints \"Blastoff! 🚀\"\n",
    "\n",
    "**Setup Code**:\n",
    "```python\n",
    "# Write a countdown loop from 10 to 1, then print \"Blastoff! 🚀\"\n",
    "```\n",
    "\n",
    "**Expected Output**:\n",
    "```\n",
    "10\n",
    "9\n",
    "8\n",
    "7\n",
    "6\n",
    "5\n",
    "4\n",
    "3\n",
    "2\n",
    "1\n",
    "Blastoff! 🚀\n",
    "```\n",
    "\n",
    "**Hint**: Use a `for` loop with the `range()` function. Remember that `range()` can count down with a negative step.\n",
    "</details>"
   ]
  },
  {
   "cell_type": "code",
   "execution_count": 14,
   "metadata": {},
   "outputs": [
    {
     "name": "stdout",
     "output_type": "stream",
     "text": [
      "10\n",
      "9\n",
      "8\n",
      "7\n",
      "6\n",
      "5\n",
      "4\n",
      "3\n",
      "2\n",
      "1\n",
      "Blastoff! 🚀\n"
     ]
    }
   ],
   "source": [
    "for numb in range (10,0,-1):\n",
    "    print(numb)\n",
    "    if numb==1:\n",
    "        print(\"Blastoff! 🚀\")"
   ]
  },
  {
   "cell_type": "markdown",
   "metadata": {},
   "source": [
    "# Day 5 part 01\n",
    "## Multi-line Strings 📝\n",
    "\n",
    "<details>\n",
    "<summary>Exercise 1: Poetry Generator (⭐⭐)</summary>\n",
    "\n",
    "### Task\n",
    "Create a multi-line string poem about programming, then extract and print only the first and last lines.\n",
    "\n",
    "```python\n",
    "# Your code here\n",
    "# Hint: Use triple quotes for multi-line strings\n",
    "```\n",
    "\n",
    "### Expected Output\n",
    "```\n",
    "Python is magical, powerful and fun\n",
    "Happy coding to everyone!\n",
    "```\n",
    "\n",
    "</details>"
   ]
  },
  {
   "cell_type": "code",
   "execution_count": 56,
   "metadata": {},
   "outputs": [
    {
     "name": "stdout",
     "output_type": "stream",
     "text": [
      "Python is magical, powerful and fun\n",
      "Happy coding to everyone! \n"
     ]
    }
   ],
   "source": [
    "poem = \"\"\"Python is magical, powerful and fun\n",
    "It is best the language there is\n",
    "When I compare it to those that exist\n",
    "Happy coding to everyone! \"\"\"\n",
    "extr = poem.split(\"\\n\")\n",
    "print(f\"\"\"{extr[0]}\n",
    "{extr[-1]}\"\"\")"
   ]
  },
  {
   "cell_type": "markdown",
   "metadata": {},
   "source": [
    "## Day 5 part 2\n",
    "<details>\n",
    "<summary> 📋 Exercise 1: Tuple Time! (Difficulty: ⭐)</summary>\n",
    "\n",
    "**Task**: Create and manipulate tuples to store information about movies.\n",
    "\n",
    "**Setup Code**:\n",
    "```python\n",
    "# Create a tuple for each movie with (title, year, rating)\n",
    "# Then access and display different elements\n",
    "```\n",
    "\n",
    "**Expected Output**:\n",
    "```\n",
    "Movie 1: ('The Shawshank Redemption', 1994, 9.3)\n",
    "Movie 2: ('The Dark Knight', 2008, 9.0)\n",
    "First movie title: The Shawshank Redemption\n",
    "Second movie year: 2008\n",
    "All movie ratings: [9.3, 9.0]\n",
    "```\n",
    "\n",
    "**Hint**: Remember that tuples are immutable, but you can access their elements using indexing.\n",
    "</details>"
   ]
  },
  {
   "cell_type": "code",
   "execution_count": 60,
   "metadata": {},
   "outputs": [
    {
     "name": "stdout",
     "output_type": "stream",
     "text": [
      "First movie title: The Shawshank Redemption\n",
      "Second movie year: 2008\n",
      "All movie ratings: [9.3, 9.0]\n"
     ]
    }
   ],
   "source": [
    "\n",
    "\n",
    "movie_1= ('The Shawshank Redemption', 1994, 9.3)\n",
    "movie_2= ('The Dark Knight', 2008, 9.0)\n",
    "first_mov= movie_1[0]\n",
    "second_mov_yr= movie_2[1]\n",
    "movie_ratings = [movie_1[-1] , movie_2[-1]]\n",
    "\n",
    "print(f\"\"\"First movie title: {first_mov}\n",
    "Second movie year: {second_mov_yr}\n",
    "All movie ratings: {movie_ratings}\"\"\")"
   ]
  },
  {
   "cell_type": "markdown",
   "metadata": {},
   "source": [
    "# Python Day 6: Exercises (Part 1) 🐍\n",
    "\n",
    "These exercises cover several Python concepts from Day 6:\n",
    "- Advanced Dictionary Operations\n",
    "- Inventory Management System\n",
    "- Safe Dictionary Access\n",
    "\n",
    "## Exercise Difficulty Legend\n",
    "- ⭐ - Basic\n",
    "- ⭐⭐ - Straightforward \n",
    "- ⭐⭐⭐ - Moderate\n",
    "- ⭐⭐⭐⭐ - Challenging\n",
    "- ⭐⭐⭐⭐⭐ - Complex\n",
    "\n",
    "## Advanced Dictionary Operations 📚\n",
    "\n",
    "<details>\n",
    "<summary>Exercise 1: Book Database Queries (⭐⭐)</summary>\n",
    "\n",
    "### Task\n",
    "Given a list of dictionaries containing book information, extract various pieces of information.\n",
    "\n",
    "```python\n",
    "books = [\n",
    "    {\"title\": \"Infinite Jest\", \"rating\": 4.5, \"genre\": \"Fiction\"},\n",
    "    {\"title\": \"The Catcher in the Rye\", \"rating\": 3.9, \"genre\": \"Fiction\"},\n",
    "    {\"title\": \"Sapiens\", \"rating\": 4.9, \"genre\": \"History\"},\n",
    "    {\"title\": \"A Brief History of Time\", \"rating\": 4.8, \"genre\": \"Science\"},\n",
    "    {\"title\": \"Clean Code\", \"rating\": 4.7, \"genre\": \"Technology\"},\n",
    "]\n",
    "\n",
    "# 1. Extract all book titles into a list\n",
    "\n",
    "# 2. Extract only Fiction book titles\n",
    "\n",
    "# 3. Find the highest rated books (rating >= 4.7)\n",
    "```\n",
    "\n",
    "### Expected Output\n",
    "```\n",
    "# Output for task 1:\n",
    "['Infinite Jest', 'The Catcher in the Rye', 'Sapiens', 'A Brief History of Time', 'Clean Code']\n",
    "\n",
    "# Output for task 2:\n",
    "['Infinite Jest', 'The Catcher in the Rye']\n",
    "\n",
    "# Output for task 3:\n",
    "Highest rated books are: Sapiens, A Brief History of Time and Clean Code\n",
    "```\n",
    "\n",
    "</details>"
   ]
  },
  {
   "cell_type": "code",
   "execution_count": 61,
   "metadata": {},
   "outputs": [
    {
     "name": "stdout",
     "output_type": "stream",
     "text": [
      "['Infinite Jest', 'The Catcher in the Rye', 'Sapiens', 'A Brief History of Time', 'Clean Code']\n"
     ]
    }
   ],
   "source": [
    "## Task 1\n",
    "books = [\n",
    "    {\"title\": \"Infinite Jest\", \"rating\": 4.5, \"genre\": \"Fiction\"},\n",
    "    {\"title\": \"The Catcher in the Rye\", \"rating\": 3.9, \"genre\": \"Fiction\"},\n",
    "    {\"title\": \"Sapiens\", \"rating\": 4.9, \"genre\": \"History\"},\n",
    "    {\"title\": \"A Brief History of Time\", \"rating\": 4.8, \"genre\": \"Science\"},\n",
    "    {\"title\": \"Clean Code\", \"rating\": 4.7, \"genre\": \"Technology\"},\n",
    "]\n",
    "titles=[book['title'] for book in books]\n",
    "print(titles)"
   ]
  },
  {
   "cell_type": "code",
   "execution_count": 64,
   "metadata": {},
   "outputs": [
    {
     "name": "stdout",
     "output_type": "stream",
     "text": [
      "['Infinite Jest', 'The Catcher in the Rye']\n"
     ]
    }
   ],
   "source": [
    "## Task 2\n",
    "books = [\n",
    "    {\"title\": \"Infinite Jest\", \"rating\": 4.5, \"genre\": \"Fiction\"},\n",
    "    {\"title\": \"The Catcher in the Rye\", \"rating\": 3.9, \"genre\": \"Fiction\"},\n",
    "    {\"title\": \"Sapiens\", \"rating\": 4.9, \"genre\": \"History\"},\n",
    "    {\"title\": \"A Brief History of Time\", \"rating\": 4.8, \"genre\": \"Science\"},\n",
    "    {\"title\": \"Clean Code\", \"rating\": 4.7, \"genre\": \"Technology\"},\n",
    "]\n",
    "fic_titles= [book['title'] for book in books if book[\"genre\"]=='Fiction']\n",
    "print(fic_titles)"
   ]
  },
  {
   "cell_type": "code",
   "execution_count": 69,
   "metadata": {},
   "outputs": [
    {
     "name": "stdout",
     "output_type": "stream",
     "text": [
      "Sapiens, A Brief History of Time and Clean Code \n"
     ]
    }
   ],
   "source": [
    "## Task 3\n",
    "books = [\n",
    "    {\"title\": \"Infinite Jest\", \"rating\": 4.5, \"genre\": \"Fiction\"},\n",
    "    {\"title\": \"The Catcher in the Rye\", \"rating\": 3.9, \"genre\": \"Fiction\"},\n",
    "    {\"title\": \"Sapiens\", \"rating\": 4.9, \"genre\": \"History\"},\n",
    "    {\"title\": \"A Brief History of Time\", \"rating\": 4.8, \"genre\": \"Science\"},\n",
    "    {\"title\": \"Clean Code\", \"rating\": 4.7, \"genre\": \"Technology\"},\n",
    "]\n",
    "### Output for task 3:\n",
    "##Highest rated books are: Sapiens, A Brief History of Time and Clean Code\n",
    "high_rated_books=[]\n",
    "for book in books:\n",
    "    if book['rating']>=4.7:\n",
    "        high_rated_books.append(book['title'])\n",
    "if len(high_rated_books)>1:\n",
    " print(f\"{', '.join(high_rated_books[0:-1])} and {high_rated_books[-1]} \")\n",
    "elif len(high_rated_books)==0:\n",
    " print(\"There are no high rated books.\")\n",
    "else:\n",
    " print(high_rated_books)"
   ]
  },
  {
   "cell_type": "markdown",
   "metadata": {},
   "source": [
    "# Python Day 6: Exercises (Part 2) 🐍\n",
    "\n",
    "## Truthy and Falsy Values ✅❌\n",
    "\n",
    "<details>\n",
    "<summary>Exercise 1: Value Evaluation (⭐)</summary>\n",
    "\n",
    "### Task\n",
    "For each of the following values, determine whether it is truthy or falsy.\n",
    "\n",
    "```python\n",
    "# Determine if each value is truthy or falsy\n",
    "values = [\n",
    "    0,                  # ?\n",
    "    1,                  # ?\n",
    "    -1,                 # ?\n",
    "    \"\",                 # ?\n",
    "    \"Hello\",            # ?\n",
    "    [],                 # ?\n",
    "    [0],                # ?\n",
    "    {},                 # ?\n",
    "    {\"key\": \"value\"},   # ?\n",
    "    None,               # ?\n",
    "    True,               # ?\n",
    "    False,              # ?\n",
    "    (),                 # ?\n",
    "    (1,),               # ?\n",
    "    set(),              # ?\n",
    "    {1, 2}              # ?\n",
    "]\n",
    "\n",
    "def is_truthy(value):\n",
    "    # Return True if the value is truthy, False if it's falsy\n",
    "    pass\n",
    "```\n",
    "\n",
    "### Expected Output\n",
    "```\n",
    "0: Falsy\n",
    "1: Truthy\n",
    "-1: Truthy\n",
    "\"\": Falsy\n",
    "\"Hello\": Truthy\n",
    "[]: Falsy\n",
    "[0]: Truthy\n",
    "{}: Falsy\n",
    "{\"key\": \"value\"}: Truthy\n",
    "None: Falsy\n",
    "True: Truthy\n",
    "False: Falsy\n",
    "(): Falsy\n",
    "(1,): Truthy\n",
    "set(): Falsy\n",
    "{1, 2}: Truthy\n",
    "```\n",
    "\n",
    "\n",
    "\n",
    "</details>"
   ]
  },
  {
   "cell_type": "code",
   "execution_count": 71,
   "metadata": {},
   "outputs": [
    {
     "name": "stdout",
     "output_type": "stream",
     "text": [
      "0 :Falsey\n",
      "1 :True\n",
      "-1 :True\n",
      " :Falsey\n",
      "Hello :True\n",
      "[] :Falsey\n",
      "[0] :True\n",
      "{} :Falsey\n",
      "{'key': 'value'} :True\n",
      "None :Falsey\n",
      "True :True\n",
      "False :Falsey\n",
      "() :Falsey\n",
      "(1,) :True\n",
      "set() :Falsey\n",
      "{1, 2} :True\n"
     ]
    }
   ],
   "source": [
    "values = [\n",
    "    0,  # ?\n",
    "    1,  # ?\n",
    "    -1,  # ?\n",
    "    \"\",  # ?\n",
    "    \"Hello\",  # ?\n",
    "    [],  # ?\n",
    "    [0],  # ?\n",
    "    {},  # ?\n",
    "    {\"key\": \"value\"},  # ?\n",
    "    None,  # ?\n",
    "    True,  # ?\n",
    "    False,  # ?\n",
    "    (),  # ?\n",
    "    (1,),  # ?\n",
    "    set(),  # ?\n",
    "    {1, 2},  # ?\n",
    "]\n",
    "def is_truthy (val):\n",
    "    true_or_false= bool(val)\n",
    "    if true_or_false==False:\n",
    "      return \"Falsey\"\n",
    "    else:\n",
    "       return \"True\"\n",
    "for val in values:\n",
    "    print(f\"{val} :{is_truthy(val)}\")"
   ]
  }
 ],
 "metadata": {
  "kernelspec": {
   "display_name": "Python 3",
   "language": "python",
   "name": "python3"
  },
  "language_info": {
   "codemirror_mode": {
    "name": "ipython",
    "version": 3
   },
   "file_extension": ".py",
   "mimetype": "text/x-python",
   "name": "python",
   "nbconvert_exporter": "python",
   "pygments_lexer": "ipython3",
   "version": "3.10.2"
  }
 },
 "nbformat": 4,
 "nbformat_minor": 2
}
