{
 "cells": [
  {
   "cell_type": "markdown",
   "metadata": {},
   "source": [
    "# Why function?\n",
    "- Reuse logic\n",
    "- Logic update in one place\n",
    "- Bug raises- fix in one place\n",
    "- Adding feature is easier"
   ]
  },
  {
   "cell_type": "code",
   "execution_count": 1,
   "metadata": {},
   "outputs": [
    {
     "data": {
      "text/plain": [
       "4"
      ]
     },
     "execution_count": 1,
     "metadata": {},
     "output_type": "execute_result"
    }
   ],
   "source": [
    "a=1\n",
    "b=3\n",
    "a+b"
   ]
  },
  {
   "cell_type": "markdown",
   "metadata": {},
   "source": [
    "# DRY\n",
    "- Don't \n",
    "- Repeat\n",
    "- Yourself\n",
    "Principle. Code Smell( fruit gets spoiled you get a pungent smell):(It could be better)\n",
    " - whenever you see logic repeated = code smell\n",
    " - if not DRY -> ROOM FOR IMPROVEMENT IN CODE"
   ]
  },
  {
   "cell_type": "code",
   "execution_count": 3,
   "metadata": {},
   "outputs": [
    {
     "name": "stdout",
     "output_type": "stream",
     "text": [
      "4 14 9\n"
     ]
    }
   ],
   "source": [
    "# a + b ## logic repeated\n",
    "def add(a,b): ## function declaration/definition - 1 time\n",
    "    return a + b\n",
    "c1=add(1,3) ## function call\n",
    "c2=add(4,10)\n",
    "c3=add(5,4)\n",
    "print(c1,c2,c3)"
   ]
  },
  {
   "cell_type": "code",
   "execution_count": 5,
   "metadata": {},
   "outputs": [
    {
     "name": "stdout",
     "output_type": "stream",
     "text": [
      "4 14.56 9 10.79\n"
     ]
    }
   ],
   "source": [
    "def add(a, b):  ## function declaration\n",
    "    return round((a + b),2)\n",
    "\n",
    "\n",
    "c1 = add(1, 3)  ## function call\n",
    "c2 = add(4, 10.5555)\n",
    "c3= add(5,4)\n",
    "c4 = add(5.892323, 4.899)\n",
    "print(c1, c2, c3,c4)\n"
   ]
  },
  {
   "cell_type": "code",
   "execution_count": null,
   "metadata": {},
   "outputs": [],
   "source": [
    "#HOW?\n",
    "# Definition\n",
    "#a,b -> Parameter\n",
    "#1,3 -> Arguments\n",
    "## add -> Function name\n",
    "## Function bodyy -> after the :\n",
    "def add(a, b):  ## function declaration\n",
    "    return round((a + b), 2)  ##returning to where it was called/ where it started and assigns value to where it was called\n",
    "c1=add(1,3)  ##execution starts\n"
   ]
  },
  {
   "cell_type": "markdown",
   "metadata": {},
   "source": [
    "## Function Terms\n",
    "- Definition / Declaration\n",
    "- Name\n",
    "- Body\n",
    "- Parameters\n",
    "- Argument\n",
    "- Call"
   ]
  },
  {
   "cell_type": "code",
   "execution_count": 8,
   "metadata": {},
   "outputs": [
    {
     "name": "stdout",
     "output_type": "stream",
     "text": [
      "None\n"
     ]
    }
   ],
   "source": [
    "def add(a, b):  ## function declaration\n",
    "    c=round(a + b), 2\n",
    "    c ##will still return none because we did not specify return\n",
    "## EOF\n",
    "\n",
    "\n",
    "c1 = add(1, 3)\n",
    "print(c1)"
   ]
  },
  {
   "cell_type": "code",
   "execution_count": 10,
   "metadata": {},
   "outputs": [
    {
     "data": {
      "text/plain": [
       "'Hi Ragav !👋'"
      ]
     },
     "execution_count": 10,
     "metadata": {},
     "output_type": "execute_result"
    }
   ],
   "source": [
    "name=\"Ragav\"\n",
    "def greet(na):\n",
    "    return \"Hi \"+na +\" !👋\"\n",
    "greet(name)"
   ]
  },
  {
   "cell_type": "code",
   "execution_count": 16,
   "metadata": {},
   "outputs": [
    {
     "data": {
      "text/plain": [
       "'Anita is eligble for driving.'"
      ]
     },
     "execution_count": 16,
     "metadata": {},
     "output_type": "execute_result"
    }
   ],
   "source": [
    "# Task 2\n",
    "# Create a function named driving_test which takes name, age are parameter and returns eligibility\n",
    "\n",
    "# Case 1:\n",
    "# Anita is eligible for driving.\n",
    "\n",
    "# Case 2:\n",
    "# Try again after few years 👶🍼\n",
    "name = \"Anita\"\n",
    "age=18\n",
    "def driving_test (nm,ag):\n",
    "    if(ag>=18):\n",
    "        return nm +\" is eligble for driving.\"\n",
    "    else:\n",
    "        return \"Try again after few years 👶🍼\"\n",
    "driving_test(name,age)"
   ]
  },
  {
   "cell_type": "code",
   "execution_count": 53,
   "metadata": {},
   "outputs": [
    {
     "name": "stdout",
     "output_type": "stream",
     "text": [
      "🥕\n",
      "🥕🥕\n",
      "🥕🥕🥕\n",
      "🥕🥕🥕🥕\n",
      "🥕🥕🥕🥕🥕\n"
     ]
    }
   ],
   "source": [
    "## Task 3\n",
    "# Pattern creation\n",
    "\n",
    "# `pattern(\"🥕\", 5)`\n",
    "\n",
    "# ## Output\n",
    "# 🥕\n",
    "# 🥕🥕\n",
    "# 🥕🥕🥕\n",
    "# 🥕🥕🥕🥕\n",
    "# 🥕🥕🥕🥕🥕\n",
    "\n",
    "# `pattern(\"🥔\", 3)`\n",
    "\n",
    "# ## Output\n",
    "# 🥔\n",
    "# 🥔🥔\n",
    "# 🥔🥔🥔\n",
    "emoji= \"🥕\"\n",
    "times= 5\n",
    "def pattern(emj,tms):\n",
    "    for i in range(1,tms+1):\n",
    "        print(i * emj)\n",
    "\n",
    "pattern(emoji,times)"
   ]
  },
  {
   "cell_type": "code",
   "execution_count": 55,
   "metadata": {},
   "outputs": [
    {
     "name": "stdout",
     "output_type": "stream",
     "text": [
      "Hi Anita! 👋\n",
      "Hi Jamie! 👋\n",
      "Hi Divyali! 👋\n",
      "Hi Siyanda! 👋\n"
     ]
    }
   ],
   "source": [
    "# Task 4\n",
    "\n",
    "\n",
    "def greet(name):\n",
    "    return f\"Hi {name}! 👋\"\n",
    "\n",
    "\n",
    "names = [\"Anita\", \"Jamie\", \"Divyali\", \"Siyanda\"]\n",
    "\n",
    "# Output\n",
    "# Hi Anita! 👋\n",
    "# Hi Jamie! 👋\n",
    "# Hi Divyali! 👋\n",
    "# Hi Siyanda! 👋\n",
    "for name in names:\n",
    "    print(greet(name))"
   ]
  },
  {
   "cell_type": "code",
   "execution_count": 59,
   "metadata": {},
   "outputs": [
    {
     "name": "stdout",
     "output_type": "stream",
     "text": [
      " Main menu:\n",
      " 1. Add book to the library\n",
      " 2. Print all the books\n",
      " 3. Exit\n",
      "      \n"
     ]
    }
   ],
   "source": [
    "# Output\n",
    "# Welcome to our Library app\n",
    "# Main menu:\n",
    "# 1. Add book to the library\n",
    "# 2. Print all the books\n",
    "# 3. Exit\n",
    "\n",
    "# Please choose an option: 1\n",
    "# Please tell me the title?\n",
    "# Please tell me the author?\n",
    "# Please tell me the year?\n",
    "# Please tell me the available?\n",
    "\n",
    "# Successfully added 😄✅\n",
    "\n",
    "# Main menu:\n",
    "# 1. Add book to the library\n",
    "# 2. Print all the books\n",
    "# 3. Exit\n",
    "\n",
    "# Please choose an option: 2\n",
    "\n",
    "[\n",
    "    {\n",
    "        \"title\": \"Python Programming\",\n",
    "        \"author\": \"Eric Matthes\",\n",
    "        \"year\": 2019,\n",
    "        \"available\": True,\n",
    "    },\n",
    "    {\n",
    "        \"title\": \"Automate the Boring Stuff with Python\",\n",
    "        \"author\": \"Al Sweigart\",\n",
    "        \"year\": 2020,\n",
    "        \"available\": True,\n",
    "    },\n",
    "    {\n",
    "        \"title\": \"Learning Python I\",\n",
    "        \"author\": \"Mark Lutz\",\n",
    "        \"year\": 2013,\n",
    "        \"available\": False,\n",
    "    },\n",
    "    {\n",
    "        \"title\": \"Fluent Python\",\n",
    "        \"author\": \"Luciano Ramalho\",\n",
    "        \"year\": 2015,\n",
    "        \"available\": True,\n",
    "    },\n",
    "    {\n",
    "        \"title\": \"Adavance Python\",\n",
    "        \"author\": \"Mark Lutz\",\n",
    "        \"year\": 2015,\n",
    "        \"available\": False,\n",
    "    },\n",
    "]\n",
    "def display_option():\n",
    " print(\"\"\" Main menu:\n",
    " 1. Add book to the library\n",
    " 2. Print all the books\n",
    " 3. Exit\n",
    "      \"\"\")\n",
    "display_option()\n",
    "cont=True\n",
    "user_input= input(display_option)\n",
    "if(user_input==2):\n",
    "\n",
    "# Main menu:\n",
    "# 1. Add book to the library\n",
    "# 2. Print all the books\n",
    "# 3. Exit\n",
    "\n",
    "# Bye 😄👋\n"
   ]
  }
 ],
 "metadata": {
  "kernelspec": {
   "display_name": "Python 3",
   "language": "python",
   "name": "python3"
  },
  "language_info": {
   "codemirror_mode": {
    "name": "ipython",
    "version": 3
   },
   "file_extension": ".py",
   "mimetype": "text/x-python",
   "name": "python",
   "nbconvert_exporter": "python",
   "pygments_lexer": "ipython3",
   "version": "3.10.2"
  }
 },
 "nbformat": 4,
 "nbformat_minor": 2
}
