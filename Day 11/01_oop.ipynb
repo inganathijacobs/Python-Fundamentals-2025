{
 "cells": [
  {
   "cell_type": "markdown",
   "metadata": {},
   "source": [
    "## Paradigms (style of coding)\n",
    "- Functional programming - LISP\n",
    "- OOP - Object Oriented programming\n",
    "- Procedural programming\n",
    "- Mathematical programming"
   ]
  },
  {
   "cell_type": "markdown",
   "metadata": {},
   "source": [
    "## Object Oriented Programming?\n",
    "- Inspiration from nature to solve complex problems\n",
    "- Programming abstract\n",
    "- Programing constructs into objects"
   ]
  },
  {
   "cell_type": "markdown",
   "metadata": {},
   "source": [
    "## Car( Blue print)\n",
    "- wheels\n",
    "- engine\n",
    "- make\n",
    "- doors"
   ]
  },
  {
   "cell_type": "markdown",
   "metadata": {},
   "source": [
    "## Object\n",
    "### BMW\n",
    "- Wheels - 4\n",
    "- Engine - v8\n",
    "- model - x5\n",
    "- Doors - 4\n",
    " \n",
    "### Jeep\n",
    "- Wheels - 4\n",
    "- Engine - v6\n",
    "- model - wrangler\n",
    "- Doors - 5\n",
    " \n",
    "### Mclaren\n",
    "- Wheels - 4\n",
    "- Engine - v8\n",
    "- model - 650s\n",
    "- Doors - 2"
   ]
  },
  {
   "cell_type": "code",
   "execution_count": 4,
   "metadata": {},
   "outputs": [
    {
     "name": "stdout",
     "output_type": "stream",
     "text": [
      "4\n",
      "v8\n",
      "x5\n",
      "4\n",
      "4\n",
      "v6\n",
      "wrangler\n",
      "5\n",
      "Vroom Vroom\n"
     ]
    }
   ],
   "source": [
    "class Car: ## Blueprint\n",
    "    ## method init -> called when you create object\n",
    "    def __init__(self,wheels,engine,model,doors):\n",
    "        #instance variables\n",
    "        self.wheels=wheels\n",
    "        self.engine=engine  ##self points to the object you created | in this case=>bmw\n",
    "        self.model=model\n",
    "        self.doors=doors\n",
    "\n",
    "    #instance method\n",
    "    def horn(self):\n",
    "        return \"Vroom Vroom\"\n",
    "\n",
    "bmw=Car (4,\"v8\",\"x5\",4)\n",
    "jeep = Car(4, \"v6\", \"wrangler\", 5)\n",
    "mclaren= Car(4, \"v8\", \"650s\", 2)\n",
    "suzuki= Car(4, \"Z12E\",\"swift\", 4)\n",
    "print(bmw.wheels)\n",
    "print(bmw.engine)\n",
    "print(bmw.model)\n",
    "print(bmw.doors)\n",
    "\n",
    "print(jeep.wheels)\n",
    "print(jeep.engine)\n",
    "print(jeep.model)\n",
    "print(jeep.doors)\n",
    "print(jeep.horn())"
   ]
  },
  {
   "cell_type": "markdown",
   "metadata": {},
   "source": [
    "# Class -> Data + Logic\n",
    "- contains instance variables - Data\n",
    "- contains instance methods - Logic"
   ]
  },
  {
   "cell_type": "markdown",
   "metadata": {},
   "source": [
    "## Bank\n",
    "1. acc_no\n",
    "2. name\n",
    "3. balance"
   ]
  },
  {
   "cell_type": "code",
   "execution_count": 41,
   "metadata": {},
   "outputs": [
    {
     "name": "stdout",
     "output_type": "stream",
     "text": [
      "Chleo, 100_000, 24681012\n",
      "Jevan, 800_000, 36812184\n",
      "Diyali, 60_000, 510612816\n",
      "Success.Your balance is: R99,500.00\n",
      "Your balance is: R99,500.00\n",
      "Success.Your balance is: R65,000.00\n",
      "Your balance is: R65,000.00\n",
      "Success.Your balance is: R64,000.00\n"
     ]
    }
   ],
   "source": [
    "class Bank:\n",
    "    def __init__(self,acc_no,name,balance):\n",
    "        self.acc_no=acc_no\n",
    "        self.name=name\n",
    "        self.balance=balance\n",
    "\n",
    "    def display_balance(self):\n",
    "        return f\"Your balance is: R{self.balance:,.2f}\"\n",
    "\n",
    "    ##Abstraction - beautiful abstraction - complexity is hidden\n",
    "    def withdraw(self,amount):\n",
    "        if amount>self.balance:\n",
    "            return f\"Withdrawal amount is larger than balance. {self.display_balance()}\"\n",
    "        elif amount<=0:\n",
    "            return f\"Enter a valid amount to withdraw.{self.display_balance()}\"\n",
    "        else:\n",
    "            self.balance -= amount\n",
    "            return f\"Success.{self.display_balance()}\"\n",
    "\n",
    "    def deposit(self,amount):\n",
    "        if amount<=0:\n",
    "            return f\"Enter a valid amount to deposit.{self.display_balance()}\"\n",
    "        else:\n",
    "            self.balance += amount\n",
    "            return f\"Success.{self.display_balance()}\"\n",
    "\n",
    "chleo=Bank(24681012,\"Chleo\",100_000) ##'_' -> numeric operator\n",
    "jevan= Bank(36812184, \"Jevan\", 800_000)\n",
    "diyali = Bank(510612816, \"Diyali\", 60_000)\n",
    "print(f\"{chleo.name}, {chleo.balance:_}, {chleo.acc_no}\")\n",
    "print(f\"{jevan.name}, {jevan.balance:_}, {jevan.acc_no}\")\n",
    "print(f\"{diyali.name}, {diyali.balance:_}, {diyali.acc_no}\")\n",
    "print(chleo.withdraw(500))\n",
    "print(chleo.display_balance())\n",
    "print(diyali.deposit(5_000))  # Successfully deposited. Your balance is: R65,000.00\n",
    "print(diyali.display_balance())  # Your balance is: R65,000.00\n",
    "print(diyali.withdraw(1_000))\n"
   ]
  },
  {
   "cell_type": "markdown",
   "metadata": {},
   "source": [
    "## Task 1.3\n",
    " \n",
    "```py\n",
    "print(chelo.display_balance())  # Your balance is: R100,000.00\n",
    "```\n",
    "print(bank_acc1.display_balance())\n",
    " "
   ]
  },
  {
   "cell_type": "markdown",
   "metadata": {},
   "source": [
    "## Task 1.4\n",
    " \n",
    "```py\n",
    "print(chelo.withdraw(2_000))  # Success. Your balance is: R98,000.00\n",
    "print(chelo.display_balance())  # Your balance is: R98,000.00\n",
    "```\n",
    "def withdraw(self,amount):\n",
    "        if amount>self.balance:\n",
    "            return f\"Withdrawal amount is larger than balance. {self.display_balance()}\"\n",
    "        elif amount<=0:\n",
    "            return f\"Enter a valid amount to withdraw.{self.display_balance()}\"\n",
    "        else:\n",
    "            self.balance -= amount\n",
    "            return f\"Success.{self.display_balance()}\""
   ]
  },
  {
   "cell_type": "markdown",
   "metadata": {},
   "source": [
    "## Task 1.5\n",
    " \n",
    "```py\n",
    "print(diyali.deposit(5_000))  # Successfully deposited. Your balance is: R65,000.00\n",
    "print(diyali.display_balance())  # Your balance is: R65,000.00\n",
    "print(diyali.withdraw(1_000)) # Success. Your balance is: R64,000.00\n",
    "```"
   ]
  },
  {
   "cell_type": "markdown",
   "metadata": {},
   "source": [
    "# Encapsulation\n",
    "- data + logic-> instance variable + instance methods-> put them in one container (Class) \n",
    "- class is good example of encapsulation\n",
    "- should not be able to access data outside of class\n",
    "- access to data"
   ]
  },
  {
   "cell_type": "markdown",
   "metadata": {},
   "source": [
    "# Class instance\n",
    "- for all the instance values remains the same\n",
    "- instance variable -> for each instance value is defined"
   ]
  },
  {
   "cell_type": "code",
   "execution_count": 40,
   "metadata": {},
   "outputs": [
    {
     "name": "stdout",
     "output_type": "stream",
     "text": [
      "12.56\n",
      "50.24\n"
     ]
    }
   ],
   "source": [
    "\n",
    "class Circle:\n",
    "    ## Class Variable\n",
    "    pi=3.14\n",
    "\n",
    "    def __init__(self,radius):\n",
    "        # instance variable\n",
    "        self.radius= radius\n",
    "\n",
    "    @staticmethod\n",
    "    def perimeter(radius):\n",
    "      return 2 *Circle.pi * radius\n",
    "\n",
    "    def calc_area(self):\n",
    "        area= self.pi *(self.radius**2)\n",
    "        return area\n",
    "\n",
    "c1= Circle(2)\n",
    "c2 = Circle(4)\n",
    "print(c1.calc_area())\n",
    "print(c2.calc_area())"
   ]
  },
  {
   "cell_type": "markdown",
   "metadata": {},
   "source": [
    "1. @staticmethod\n",
    "2. @classmethod\n",
    "@ -> Decorator"
   ]
  },
  {
   "cell_type": "code",
   "execution_count": 42,
   "metadata": {},
   "outputs": [
    {
     "name": "stdout",
     "output_type": "stream",
     "text": [
      "12.56\n"
     ]
    }
   ],
   "source": [
    "#Calculation and not modifying radius\n",
    "def perimeter(radius):\n",
    "    return 2 * Circle.pi * radius\n",
    "\n",
    "print(perimeter(2))"
   ]
  },
  {
   "cell_type": "markdown",
   "metadata": {},
   "source": [
    "# Static method\n",
    "1. Lose access to self\n",
    "2. For the purpose of calculation\n",
    "3. Modify the instance variable\n",
    "4. Use when you don't need access to self(the object created)\n",
    "5. Do you need access to self? YES -> STATIC METHOD| NO-> NORMAL INSTANCE METHOD\n",
    "6. Can access method using 'circle' only\n",
    "7. Circle.perimeter(2)"
   ]
  },
  {
   "cell_type": "markdown",
   "metadata": {},
   "source": [
    "# Class method\n",
    "- gives access to class"
   ]
  },
  {
   "cell_type": "code",
   "execution_count": null,
   "metadata": {},
   "outputs": [],
   "source": [
    "\n",
    "\n",
    "\n",
    "class Circle:\n",
    "    ## Class Variable\n",
    "    pi = 3.14\n",
    "\n",
    "    def __init__(self, radius):\n",
    "        # instance variable\n",
    "        self.radius = radius\n",
    "\n",
    "    @staticmethod ##is actually a function\n",
    "    def perimeter(radius):\n",
    "        return 2 * Circle.pi * radius\n",
    "\n",
    "    @classmethod\n",
    "    def from_diameter(cls,diameter): ## cls = the actual class\n",
    "        radius = diameter / 2\n",
    "        return cls(radius)\n",
    "\n",
    "    def calc_area(self):\n",
    "        area = self.pi * (self.radius**2)\n",
    "        return area\n",
    "c1=Circle(2)\n",
    "c2=Circle.from_diameter(6)\n",
    "c2.calc_area()\n"
   ]
  },
  {
   "cell_type": "markdown",
   "metadata": {},
   "source": [
    "# Task 1.6\n",
    "- interest_rate 2%\n",
    "- One year is done\n",
    "```py\n",
    "chelo.apply_interest()\n",
    "diyali.apply_interest()\n",
    "jevan.apply_interest()\n",
    "```"
   ]
  },
  {
   "cell_type": "code",
   "execution_count": null,
   "metadata": {},
   "outputs": [
    {
     "name": "stdout",
     "output_type": "stream",
     "text": [
      "Your interest accumulated is: R4,000.00. Your balance is: R104,000.00\n",
      "In total we have 3\n"
     ]
    }
   ],
   "source": [
    "class Bank:\n",
    "    interest_rate=0\n",
    "    no_of_accounts=0\n",
    "    def __init__(self, acc_no, name, balance):\n",
    "        self.acc_no = acc_no\n",
    "        self.name = name\n",
    "        self.balance = balance  # int\n",
    "        Bank.no_of_accounts+=1\n",
    "\n",
    "    # instance method -> self (always first parameter)\n",
    "    def display_balance(self):\n",
    "        return f\"Your balance is: R{self.balance:,.2f}\"\n",
    "\n",
    "    # 2. Abstraction - Beautiful - Complexity Hidden\n",
    "    def withdraw(self, amount):\n",
    "        if amount <= 0:\n",
    "            return \"Invalid amount\"\n",
    "\n",
    "        if amount > self.balance:\n",
    "            return f\"Insufficient funds. {self.display_balance()}\"\n",
    "\n",
    "        self.balance -= amount\n",
    "        return f\"Success. {self.display_balance()}\"\n",
    "\n",
    "    def apply_interest(self):\n",
    "        interest = self.balance * self.interest_rate\n",
    "        self.balance += interest\n",
    "        return f\"Your interest accumulated is: R{interest:,.2f}. {self.display_balance()}\"\n",
    "\n",
    "    @classmethod\n",
    "    def update_interest_rate(cls,updated_interest):\n",
    "        if updated_interest> 100:\n",
    "         return f\"Interest too high\"\n",
    "        elif updated_interest<=0:\n",
    "         return f\"Invalid amount\"\n",
    "        else:\n",
    "         cls.interest_rate=updated_interest/100\n",
    "         return f\"Success. New interest rate is: {updated_interest}\"\n",
    "        cls.interest_rate=updated_interest/100\n",
    "        return f\"Success. Updated interest rate:{updated_interest}\"\n",
    "\n",
    "    @classmethod\n",
    "    def get_total_no_account(cls):\n",
    "       return f\"In total we have {cls.no_of_accounts} accounts\"\n",
    "\n",
    "chleo = Bank(123, \"Chleo Smith\", 100_000)\n",
    "diyali = Bank(124, \"Diyali Devraj\", 60_000)\n",
    "jevan = Bank(125, \"Jevan Peters\", 800_000)\n",
    "# print(chleo.apply_interest())\n",
    "# print(jevan.apply_interest())\n",
    "# print(diyali.apply_interest())\n",
    "Bank.update_interest_rate(4)\n",
    "print(chleo.apply_interest())\n",
    "print(Bank.get_total_no_account())"
   ]
  },
  {
   "cell_type": "markdown",
   "metadata": {},
   "source": [
    "Task 1.6\n",
    "Bank.update_interest_rate(4) # 4%\n",
    "Task 1.7\n",
    "print(Bank.get_total_no_accounts())  # In total we have 3 accounts"
   ]
  },
  {
   "cell_type": "code",
   "execution_count": null,
   "metadata": {},
   "outputs": [],
   "source": [
    "#. Inheritance\n"
   ]
  },
  {
   "cell_type": "code",
   "execution_count": null,
   "metadata": {},
   "outputs": [
    {
     "name": "stdout",
     "output_type": "stream",
     "text": [
      "Some sound\n",
      "wags tail!!\n",
      "woof wooof!!\n"
     ]
    }
   ],
   "source": [
    "class Animal:\n",
    "    def __init__(self,name):\n",
    "        self.name=name\n",
    "    def speak(self):\n",
    "        return \"Some sound\"\n",
    "\n",
    "# class Dog(Animal): # state where you are inheriting from | Dog is child class\n",
    "\n",
    "#   def __init__(self,name):\n",
    "# #   def run(self):\n",
    "#     pass ## don't need extra constructors\n",
    "\n",
    "#     return \"wags tail!!\"\n",
    "#  ##Method overriding: Functionality of base class is overridden\n",
    "#   def speak(self):\n",
    "#     return \"woof wooof!!\"\n",
    "\n",
    "# toby = Animal('toby')\n",
    "# maxy = Dog('maxy')\n",
    "# print(toby.speak())\n",
    "# # print(maxy.run())\n",
    "# print(maxy.speak())\n",
    "\n",
    "class Dog(Animal):\n",
    "    def __init__(self, name, speed):\n",
    "        super().__init__(name)  # super -> Animal (takes care of name)\n",
    "        self.speed = speed\n",
    "\n",
    "    # eg: Method Overriding: Functionality of Base class is overridden\n",
    "    def speak(self):\n",
    "        return \"Woof Woof!! 🐕\"\n",
    "\n",
    "    def run(self):\n",
    "        return \"🐶 wags tails!! 🐕\"\n",
    "\n",
    "    def speed_bonus(self):\n",
    "        return f\"Running at {self.speed * 2}Km/hr\"\n",
    "\n",
    "\n",
    "toby = Animal(\"toby\")  # speak\n",
    "maxy = Dog(\"maxy\", 20)  # speak, run\n",
    "\n",
    "\n",
    "print(toby.speak())\n",
    "print(maxy.speak())\n",
    "maxy.run()\n",
    "\n",
    "# toby.run() ❌\n",
    "# toby.speed ❌\n",
    "print(maxy.speed)\n",
    "print(maxy.speed_bonus())"
   ]
  },
  {
   "cell_type": "markdown",
   "metadata": {},
   "source": [
    "`If parent class and child class have same constructors, you don't need to do the init function in child class`"
   ]
  },
  {
   "cell_type": "markdown",
   "metadata": {},
   "source": [
    "Task 1.8 & Task 1.9\n",
    "1.  SavingsAccount - 5%\n",
    "2.  CheckingAccount - R1 - transaction fee, Interest rate does not change\n",
    " \n",
    "```py\n",
    "chelo = SavingsAccount(123, \"Chleo Smith\", 100_000)\n",
    "```"
   ]
  },
  {
   "cell_type": "code",
   "execution_count": 39,
   "metadata": {},
   "outputs": [
    {
     "name": "stdout",
     "output_type": "stream",
     "text": [
      "Your interest accumulated is: R4,000.00. Your balance is: R104,000.00\n",
      "Your interest accumulated is: R3,284.57. Your balance is: R85,398.71\n"
     ]
    }
   ],
   "source": [
    "class SavingsAccount(Bank):\n",
    "   interest_rate=0.05\n",
    "\n",
    "   # def apply_interest(self):\n",
    "   #    interest = self.balance * self.interest_rate\n",
    "   #    self.balance += interest\n",
    "   #    return f\"Your interest accumulated is: R{interest:,.2f}. {self.display_balance()}\"\n",
    "\n",
    "chleo = SavingsAccount(123, \"Chleo Smith\", 100_000)\n",
    "print(chleo.apply_interest())\n",
    "print(diyali.apply_interest())"
   ]
  },
  {
   "cell_type": "code",
   "execution_count": 48,
   "metadata": {},
   "outputs": [
    {
     "name": "stdout",
     "output_type": "stream",
     "text": [
      "Success.Your balance is: R98,999.00\n"
     ]
    }
   ],
   "source": [
    "class CheckingAccount(Bank):\n",
    "    transaction_fee=1\n",
    "\n",
    "    def withdraw(self, amount):\n",
    "        super().withdraw\n",
    "        self.balance -= amount+ self.transaction_fee\n",
    "        return f\"Success.{self.display_balance()}\"\n",
    "\n",
    "chleo = CheckingAccount(123, \"Chleo Smith\", 100_000)\n",
    "print(chleo.withdraw(1000))"
   ]
  },
  {
   "cell_type": "code",
   "execution_count": null,
   "metadata": {},
   "outputs": [],
   "source": []
  }
 ],
 "metadata": {
  "kernelspec": {
   "display_name": "Python 3",
   "language": "python",
   "name": "python3"
  },
  "language_info": {
   "codemirror_mode": {
    "name": "ipython",
    "version": 3
   },
   "file_extension": ".py",
   "mimetype": "text/x-python",
   "name": "python",
   "nbconvert_exporter": "python",
   "pygments_lexer": "ipython3",
   "version": "3.10.2"
  }
 },
 "nbformat": 4,
 "nbformat_minor": 2
}
