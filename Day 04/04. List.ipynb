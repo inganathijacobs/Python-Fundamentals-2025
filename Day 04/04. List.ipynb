{
 "cells": [
  {
   "cell_type": "markdown",
   "metadata": {},
   "source": [
    "# Intro List\n",
    "- Non-primitive data type - variables hold multiple values\n",
    "- Holds multiple values\n",
    "- Holds same data types( recommended)\n",
    "- Don't mix data types- you can BUT DON'T\n",
    "- Methods\n",
    "  - C - Create List\n",
    "  - R - Index & slice\n",
    "  - U - Append, Insert, Using Slices, Index (Mutates)\n",
    "  - D - Remove(), Pop()\n",
    "- Can use len method on other data types (not exclusive to one data type only)\n",
    "- Lists are mutable - can be changed"
   ]
  },
  {
   "cell_type": "code",
   "execution_count": 4,
   "metadata": {},
   "outputs": [
    {
     "name": "stdout",
     "output_type": "stream",
     "text": [
      "35\n"
     ]
    }
   ],
   "source": [
    "x = 15\n",
    "y = 20\n",
    "print(x + y)\n"
   ]
  },
  {
   "cell_type": "code",
   "execution_count": 5,
   "metadata": {},
   "outputs": [
    {
     "name": "stdout",
     "output_type": "stream",
     "text": [
      "[80, 90, 70, 45, 95] <class 'list'>\n"
     ]
    }
   ],
   "source": [
    "marks = [80, 90, 70, 45, 95] #in other languages its an array, in Python its a list\n",
    "print(marks,type(marks))"
   ]
  },
  {
   "cell_type": "markdown",
   "metadata": {},
   "source": [
    "# Index\n",
    "- Positive works\n",
    "- negative works"
   ]
  },
  {
   "cell_type": "code",
   "execution_count": 3,
   "metadata": {},
   "outputs": [
    {
     "name": "stdout",
     "output_type": "stream",
     "text": [
      "[70, 45, 95]\n"
     ]
    }
   ],
   "source": [
    "marks = [80, 90, 70, 45, 95]\n",
    "print(marks[2:])"
   ]
  },
  {
   "cell_type": "markdown",
   "metadata": {},
   "source": [
    "# Get values from one point in list to another\n",
    "- Use slices"
   ]
  },
  {
   "cell_type": "code",
   "execution_count": null,
   "metadata": {},
   "outputs": [],
   "source": [
    "marks = [80, 90, 70, 45, 95]\n",
    "print(marks[1:])\n"
   ]
  },
  {
   "cell_type": "markdown",
   "metadata": {},
   "source": [
    "# Reverse list"
   ]
  },
  {
   "cell_type": "code",
   "execution_count": 8,
   "metadata": {},
   "outputs": [
    {
     "name": "stdout",
     "output_type": "stream",
     "text": [
      "[95, 45, 70, 90, 80]\n"
     ]
    }
   ],
   "source": [
    "marks = [80, 90, 70, 45, 95]\n",
    "print(marks[::-1])\n"
   ]
  },
  {
   "cell_type": "markdown",
   "metadata": {},
   "source": [
    "# List of Strings\n",
    "- Can add two lists together\n"
   ]
  },
  {
   "cell_type": "code",
   "execution_count": 9,
   "metadata": {},
   "outputs": [
    {
     "data": {
      "text/plain": [
       "['🍎', '🍊', '🍓', '🍍', '🥕', '🥒', '🍆', '🥔']"
      ]
     },
     "execution_count": 9,
     "metadata": {},
     "output_type": "execute_result"
    }
   ],
   "source": [
    "fruit = [\"🍎\", \"🍊\", \"🍓\", \"🍍\"]\n",
    "veg = [\"🥕\", \"🥒\", \"🍆\", \"🥔\"]\n",
    "fruit + veg\n"
   ]
  },
  {
   "cell_type": "markdown",
   "metadata": {},
   "source": [
    "# One list that has been repeated twice"
   ]
  },
  {
   "cell_type": "code",
   "execution_count": 10,
   "metadata": {},
   "outputs": [
    {
     "data": {
      "text/plain": [
       "['🥕', '🥒', '🍆', '🥔', '🥕', '🥒', '🍆', '🥔']"
      ]
     },
     "execution_count": 10,
     "metadata": {},
     "output_type": "execute_result"
    }
   ],
   "source": [
    "veg *2"
   ]
  },
  {
   "cell_type": "code",
   "execution_count": 11,
   "metadata": {},
   "outputs": [
    {
     "data": {
      "text/plain": [
       "'💓💓💓💓💓💓💓💓💓💓💓💓💓💓💓💓💓💓💓💓'"
      ]
     },
     "execution_count": 11,
     "metadata": {},
     "output_type": "execute_result"
    }
   ],
   "source": [
    "\"💓\" * 20"
   ]
  },
  {
   "cell_type": "code",
   "execution_count": 14,
   "metadata": {},
   "outputs": [
    {
     "data": {
      "text/plain": [
       "4"
      ]
     },
     "execution_count": 14,
     "metadata": {},
     "output_type": "execute_result"
    }
   ],
   "source": [
    "veg = [\"🥕\", \"🥒\", \"🍆\", \"🥔\"]  #count elements in  a list\n",
    "len(veg)\n"
   ]
  },
  {
   "cell_type": "code",
   "execution_count": 13,
   "metadata": {},
   "outputs": [
    {
     "data": {
      "text/plain": [
       "7"
      ]
     },
     "execution_count": 13,
     "metadata": {},
     "output_type": "execute_result"
    }
   ],
   "source": [
    "len(\"Siyanda\") # 7 characters"
   ]
  },
  {
   "cell_type": "markdown",
   "metadata": {},
   "source": [
    "# Mutable example"
   ]
  },
  {
   "cell_type": "code",
   "execution_count": 16,
   "metadata": {},
   "outputs": [
    {
     "name": "stdout",
     "output_type": "stream",
     "text": [
      "['🍎', '🍊', '🫐', '🍍']\n"
     ]
    }
   ],
   "source": [
    "fruit = [\"🍎\", \"🍊\", \"🍓\", \"🍍\"]\n",
    "fruit[2]=\"🫐\"\n",
    "print(fruit)"
   ]
  },
  {
   "cell_type": "markdown",
   "metadata": {},
   "source": [
    "# Long way"
   ]
  },
  {
   "cell_type": "code",
   "execution_count": 18,
   "metadata": {},
   "outputs": [
    {
     "data": {
      "text/plain": [
       "['🍎', '🍌', '🍓', '🍍']"
      ]
     },
     "execution_count": 18,
     "metadata": {},
     "output_type": "execute_result"
    }
   ],
   "source": [
    "fruit = [\"🍎\", \"🍊\", \"🍓\", \"🍍\"]\n",
    "fruit[:1]  + [\"🍌\"] + fruit[2:]\n"
   ]
  },
  {
   "cell_type": "markdown",
   "metadata": {},
   "source": [
    "# Add\n",
    "- `append() - add at end`\n",
    "- `insert()-middle`"
   ]
  },
  {
   "cell_type": "code",
   "execution_count": 19,
   "metadata": {},
   "outputs": [
    {
     "data": {
      "text/plain": [
       "[80, 90, 100, 60, 85, 100]"
      ]
     },
     "execution_count": 19,
     "metadata": {},
     "output_type": "execute_result"
    }
   ],
   "source": [
    "marks=[80,90,100,60,85]\n",
    "marks.append(100)\n",
    "marks"
   ]
  },
  {
   "cell_type": "code",
   "execution_count": 21,
   "metadata": {},
   "outputs": [
    {
     "data": {
      "text/plain": [
       "[55, 80, 90, 100, 60, 85, 100]"
      ]
     },
     "execution_count": 21,
     "metadata": {},
     "output_type": "execute_result"
    }
   ],
   "source": [
    "marks = [80, 90, 100, 60, 85]\n",
    "marks.append(100)\n",
    "marks.insert(0,55)\n",
    "marks"
   ]
  },
  {
   "cell_type": "markdown",
   "metadata": {},
   "source": [
    "## Remove items\n",
    "- `Remove`\n",
    "- `Pop`"
   ]
  },
  {
   "cell_type": "code",
   "execution_count": 22,
   "metadata": {},
   "outputs": [
    {
     "data": {
      "text/plain": [
       "['Hulk', 'Iron man', 'Black widow', 'Captain America', ' Spider man']"
      ]
     },
     "execution_count": 22,
     "metadata": {},
     "output_type": "execute_result"
    }
   ],
   "source": [
    "avengers=[\"Hulk\", \"Iron man\", \"Black widow\", \"Captain America\",\" Spider man\", \"Thor\"]\n",
    "avengers.pop() ##removes last one if empty - but usually uses index value\n",
    "avengers"
   ]
  },
  {
   "cell_type": "code",
   "execution_count": 25,
   "metadata": {},
   "outputs": [
    {
     "data": {
      "text/plain": [
       "['Hulk', 'Iron man', 'Black widow', 'Captain America', 'Thor']"
      ]
     },
     "execution_count": 25,
     "metadata": {},
     "output_type": "execute_result"
    }
   ],
   "source": [
    "avengers=[\"Hulk\", \"Iron man\", \"Black widow\", \"Captain America\",\"Spider man\", \"Thor\"]\n",
    "avengers.remove(\"Spider man\") ## removes first occurence of what you specified in brackets\n",
    "avengers"
   ]
  },
  {
   "cell_type": "markdown",
   "metadata": {},
   "source": [
    "## Task\n",
    "- Print each number in separate line"
   ]
  },
  {
   "cell_type": "code",
   "execution_count": 27,
   "metadata": {},
   "outputs": [
    {
     "name": "stdout",
     "output_type": "stream",
     "text": [
      "0 80\n",
      "1 90\n",
      "2 100\n",
      "3 60\n",
      "4 85\n"
     ]
    }
   ],
   "source": [
    "marks=[ 80, 90, 100, 60, 85]\n",
    "for i in range(len(marks)):\n",
    "    print(i,marks[i])"
   ]
  },
  {
   "cell_type": "markdown",
   "metadata": {},
   "source": [
    "## Task 1.1\n",
    "Find the letters in each characters names and store in new list\n",
    "```py\n",
    "avengers=[\"Hulk\", \"Iron man\", \"Black widow\", \"Captain America\",\" Spider man\", \"Thor\"]\n",
    "```\n",
    "\n",
    "Output\n",
    "[4,8,11,15,10,4]"
   ]
  },
  {
   "cell_type": "code",
   "execution_count": 38,
   "metadata": {},
   "outputs": [
    {
     "data": {
      "text/plain": [
       "[4, 8, 11, 15, 11, 4]"
      ]
     },
     "execution_count": 38,
     "metadata": {},
     "output_type": "execute_result"
    }
   ],
   "source": [
    "avengers = [\"Hulk\", \"Iron man\", \"Black widow\", \"Captain America\", \" Spider man\", \"Thor\"]\n",
    "new_lst= []\n",
    "for i in range(len(avengers)):\n",
    "    number_of_char = len(avengers[i])\n",
    "    new_lst.append(number_of_char)\n",
    "new_lst"
   ]
  },
  {
   "cell_type": "markdown",
   "metadata": {},
   "source": [
    "## Answer"
   ]
  },
  {
   "cell_type": "code",
   "execution_count": 40,
   "metadata": {},
   "outputs": [
    {
     "data": {
      "text/plain": [
       "[4, 8, 11, 15, 11, 4]"
      ]
     },
     "execution_count": 40,
     "metadata": {},
     "output_type": "execute_result"
    }
   ],
   "source": [
    "avengers = [\"Hulk\", \"Iron man\", \"Black widow\", \"Captain America\", \" Spider man\", \"Thor\"]\n",
    "new_lst = []\n",
    "for i in range(len(avengers)):\n",
    "    new_lst.append(len(avengers[i]))\n",
    "new_lst\n"
   ]
  },
  {
   "cell_type": "markdown",
   "metadata": {},
   "source": [
    "##Answer"
   ]
  },
  {
   "cell_type": "markdown",
   "metadata": {},
   "source": [
    "### Task 1.2\n",
    "Find  the longer names ( more than 10 characters)\n",
    "\n",
    "Output\n",
    "[\"Black widow\", \"Captain America\"]"
   ]
  },
  {
   "cell_type": "markdown",
   "metadata": {},
   "source": [
    "## Task 2.1\n",
    " \n",
    "Calculate the total of shopping_items & apply tax of 10%\n",
    " \n",
    "```py\n",
    "shopping_items = [1000, 5000,  4000, 2000, 3000]\n",
    "```\n",
    " \n",
    " \n",
    "Expected Output\n",
    " \n",
    "```\n",
    "Your total is R15000\n",
    "Tax is 10%      R1500\n",
    "Your grand total is R16500"
   ]
  },
  {
   "cell_type": "code",
   "execution_count": 15,
   "metadata": {},
   "outputs": [
    {
     "name": "stdout",
     "output_type": "stream",
     "text": [
      "Your grand total is R 15000\n",
      "Tax is 10%    R 1500\n",
      "Your grand total is R 16500\n"
     ]
    }
   ],
   "source": [
    "shopping_items = [1000, 5000,  4000, 2000, 3000]\n",
    "shoppin_item_int=0\n",
    "for i in range(len(shopping_items)):\n",
    " shoppin_item_int= shoppin_item_int+ int(shopping_items[i])\n",
    "\n",
    "tax= int(shoppin_item_int*0.1)\n",
    "grand_total=  int(tax+ shoppin_item_int)\n",
    "print(f\"Your grand total is R {shoppin_item_int}\")\n",
    "print(f\"Tax is 10%    R {tax}\")\n",
    "print(f\"Your grand total is R {grand_total}\")\n"
   ]
  },
  {
   "cell_type": "markdown",
   "metadata": {},
   "source": [
    "## Common Methods\n",
    "### Strings and list\n",
    "- SLICE\n",
    "- index +ve -ve\n",
    "- len\n",
    "- count\n",
    "- concat(+)\n",
    "- repetition(*)"
   ]
  },
  {
   "cell_type": "markdown",
   "metadata": {},
   "source": [
    "## Numeric Separators"
   ]
  },
  {
   "cell_type": "code",
   "execution_count": 6,
   "metadata": {},
   "outputs": [
    {
     "name": "stdout",
     "output_type": "stream",
     "text": [
      "10000000\n"
     ]
    }
   ],
   "source": [
    "x = 10000000 ##instead of this\n",
    "##add underscores to read better\n",
    "x= 10_000_000 ##python ignores the underscores\n",
    "print(x)"
   ]
  },
  {
   "cell_type": "markdown",
   "metadata": {},
   "source": [
    "- `The above improves developer experience (DX)`"
   ]
  },
  {
   "cell_type": "code",
   "execution_count": 7,
   "metadata": {},
   "outputs": [
    {
     "name": "stdout",
     "output_type": "stream",
     "text": [
      "(5, 600)\n"
     ]
    }
   ],
   "source": [
    "y= 5,600 ##creates a tuple\n",
    "print(y)"
   ]
  },
  {
   "cell_type": "markdown",
   "metadata": {},
   "source": [
    "# For loop with List\n",
    "1. for with index - use when you need index and value\n",
    "2. simple for loop - use when you only need a value"
   ]
  },
  {
   "cell_type": "markdown",
   "metadata": {},
   "source": [
    "# For with index"
   ]
  },
  {
   "cell_type": "code",
   "execution_count": 9,
   "metadata": {},
   "outputs": [
    {
     "name": "stdout",
     "output_type": "stream",
     "text": [
      "180\n",
      "160\n",
      "100\n",
      "130\n"
     ]
    }
   ],
   "source": [
    "powers=[90, 80, 50, 65]\n",
    "\n",
    "##you want to loop them and double all the numbers\n",
    "\n",
    "for i in range (len(powers)):\n",
    "    print(powers[i]*2)"
   ]
  },
  {
   "cell_type": "markdown",
   "metadata": {},
   "source": [
    "# Simple for loop"
   ]
  },
  {
   "cell_type": "code",
   "execution_count": 11,
   "metadata": {},
   "outputs": [
    {
     "name": "stdout",
     "output_type": "stream",
     "text": [
      "90\n",
      "80\n",
      "50\n",
      "65\n"
     ]
    }
   ],
   "source": [
    "powers = [90, 80, 50, 65]\n",
    "for power in powers: ## improves dx\n",
    "    print(power *2)"
   ]
  },
  {
   "cell_type": "markdown",
   "metadata": {},
   "source": [
    "## Refactor with simple for loop\n",
    "## Task 2.1\n",
    " \n",
    "Calculate the total of shopping_items & apply tax of 10%\n",
    " \n",
    "```py\n",
    "shopping_items = [1000, 5000,  4000, 2000, 3000]\n",
    "```\n",
    " \n",
    " \n",
    "Expected Output\n",
    " \n",
    "```\n",
    "Your total is R15000\n",
    "Tax is 10%      R1500\n",
    "Your grand total is R16500"
   ]
  },
  {
   "cell_type": "code",
   "execution_count": 19,
   "metadata": {},
   "outputs": [
    {
     "name": "stdout",
     "output_type": "stream",
     "text": [
      "Your total is R15000\n",
      "Your tax is R1500\n",
      "Your total is R16500\n"
     ]
    }
   ],
   "source": [
    "shopping_items = [1_000, 5_000, 4_000, 2_000, 3_000]\n",
    "total=0\n",
    "for item in shopping_items:\n",
    "     total= total+int(item)\n",
    "tax_amount= int(total* 0.1)\n",
    "grand_total= int(total+ tax_amount)\n",
    "print(f\"Your total is R{total}\")\n",
    "print(f\"Your tax is R{tax_amount}\")\n",
    "print(f\"Your total is R{grand_total}\")"
   ]
  }
 ],
 "metadata": {
  "kernelspec": {
   "display_name": "Python 3",
   "language": "python",
   "name": "python3"
  },
  "language_info": {
   "codemirror_mode": {
    "name": "ipython",
    "version": 3
   },
   "file_extension": ".py",
   "mimetype": "text/x-python",
   "name": "python",
   "nbconvert_exporter": "python",
   "pygments_lexer": "ipython3",
   "version": "3.10.2"
  }
 },
 "nbformat": 4,
 "nbformat_minor": 2
}
