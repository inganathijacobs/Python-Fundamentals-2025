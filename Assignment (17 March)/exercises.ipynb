{
 "cells": [
  {
   "cell_type": "markdown",
   "metadata": {},
   "source": [
    "## Exercise 1: Data Sorting and Ranking (⭐⭐)\n",
    "🏆 Objective\n",
    "Sort a complex data structure and add a ranking key based on a specific criterion.\n",
    "\n",
    "# Setup Code\n",
    "students = [\n",
    "    {\"name\": \"Alice\", \"grade\": 88},\n",
    "    {\"name\": \"Bob\", \"grade\": 75},\n",
    "    {\"name\": \"Charlie\", \"grade\": 93}\n",
    "]\n",
    "# Expected Task: Sort the list of dictionaries by grade in descending order and add a \"rank\" key to each dictionary based on the sorting.\n",
    "\n",
    "# Your solution here:\n",
    "# sorted_students = ...\n",
    "\n",
    "# Expected Output\n",
    "# print(sorted_students)\n",
    "Expected Output\n",
    "[\n",
    "    {\"name\": \"Charlie\", \"grade\": 93, \"rank\": 1},\n",
    "    {\"name\": \"Alice\", \"grade\": 88, \"rank\": 2},\n",
    "    {\"name\": \"Bob\", \"grade\": 75, \"rank\": 3}\n",
    "]"
   ]
  },
  {
   "cell_type": "code",
   "execution_count": 11,
   "metadata": {},
   "outputs": [
    {
     "name": "stdout",
     "output_type": "stream",
     "text": [
      "[{'name': 'Charlie', 'grade': 93, 'rank': 1}, {'name': 'Alice', 'grade': 88, 'rank': 2}, {'name': 'Bob', 'grade': 75, 'rank': 3}]\n"
     ]
    }
   ],
   "source": [
    "\n",
    "students = [\n",
    "    {\"name\": \"Alice\", \"grade\": 88},\n",
    "    {\"name\": \"Bob\", \"grade\": 75},\n",
    "    {\"name\": \"Charlie\", \"grade\": 93},\n",
    "]\n",
    "\n",
    "\n",
    "def rank(stdnts):\n",
    " sorted_students= sorted(stdnts, key=lambda student: student['grade'], reverse=True)\n",
    " return sorted_students\n",
    "\n",
    "def add_ranking(studs):\n",
    " rank = 1\n",
    " for student in studs:\n",
    "    student['rank']= rank\n",
    "    rank+=1\n",
    " return studs\n",
    "\n",
    "\n",
    "print(list(add_ranking(rank(students))))\n"
   ]
  },
  {
   "cell_type": "markdown",
   "metadata": {},
   "source": [
    "Exercise 2: Merging Data from Two Lists (⭐⭐)\n",
    "🔄 Objective\n",
    "Merge data from two lists of dictionaries based on a common key.\n",
    "\n",
    "# Setup Code\n",
    "employees = [{\"id\": 1, \"name\": \"Alice\"}, {\"id\": 2, \"name\": \"Bob\"}]\n",
    "salaries = [{\"id\": 1, \"salary\": 50000}, {\"id\": 2, \"salary\": 60000}]\n",
    "# Expected Task: Merge these lists into a single list of dictionaries by matching the \"id\" field, including all keys.\n",
    "\n",
    "# Your solution here:\n",
    "# merged_data = ...\n",
    "\n",
    "# Expected Output\n",
    "# print(merged_data)\n",
    "Expected Output\n",
    "[\n",
    "    {\"id\": 1, \"name\": \"Alice\", \"salary\": 50000},\n",
    "    {\"id\": 2, \"name\": \"Bob\", \"salary\": 60000}\n",
    "]"
   ]
  },
  {
   "cell_type": "code",
   "execution_count": 4,
   "metadata": {},
   "outputs": [
    {
     "name": "stdout",
     "output_type": "stream",
     "text": [
      "[{'id': 1, 'name': 'Alice', 'salary': 50000}, {'id': 2, 'name': 'Bob', 'salary': 60000}]\n"
     ]
    }
   ],
   "source": [
    "employees = [{\"id\": 1, \"name\": \"Alice\"}, {\"id\": 2, \"name\": \"Bob\"}]\n",
    "salaries = [{\"id\": 1, \"salary\": 50000}, {\"id\": 2, \"salary\": 60000}]\n",
    "merged_data=[]\n",
    "for employee in employees:\n",
    "    merged_emp = [\n",
    "        {**employee, \"salary\": salary[\"salary\"]}\n",
    "        for salary in salaries\n",
    "        if employee[\"id\"] == salary[\"id\"]\n",
    "    ]\n",
    "    merged_data.extend(merged_emp)\n",
    "print(merged_data)\n"
   ]
  },
  {
   "cell_type": "code",
   "execution_count": null,
   "metadata": {},
   "outputs": [
    {
     "name": "stdout",
     "output_type": "stream",
     "text": [
      "{1: 50000, 2: 60000}\n",
      "[{'id': 1, 'name': 'Alice', 'salary': 50000}, {'id': 2, 'name': 'Bob', 'salary': 60000}]\n"
     ]
    }
   ],
   "source": [
    "# employees = [{\"id\": 1, \"name\": \"Alice\"}, {\"id\": 2, \"name\": \"Bob\"}]\n",
    "# salaries = [\n",
    "#     {\"id\": 1, \"salary\": 50000},\n",
    "#     {\"id\": 2, \"salary\": 60000},\n",
    "# ]\n",
    "# salaries_dictionary={salary['id']: salary['salary'] for salary in salaries}\n",
    "# merged_data=[]\n",
    "\n",
    "# for employee in employees:\n",
    "#     if employee['id'] in salaries_dictionary:\n",
    "#         employee['salary'] = salaries_dictionary[employee['id']]\n",
    "# print(salaries_dictionary)\n",
    "\n",
    "# print(employees)"
   ]
  },
  {
   "cell_type": "markdown",
   "metadata": {},
   "source": [
    "Exercise 3: Advanced Filtering with Multiple Conditions (⭐⭐)\n",
    "🔍 Objective\n",
    "Apply multiple filtering criteria to a list of dictionaries.\n",
    "\n",
    "# Setup Code\n",
    "products = [\n",
    "    {\"id\": 1, \"category\": \"Electronics\", \"price\": 850},\n",
    "    {\"id\": 2, \"category\": \"Furniture\", \"price\": 1200},\n",
    "    {\"id\": 3, \"category\": \"Electronics\", \"price\": 400}\n",
    "]\n",
    "# Expected Task: Filter the list to include only products in the \"Electronics\" category with a price less than 500.\n",
    "\n",
    "# Your solution here:\n",
    "# filtered_products = ...\n",
    "\n",
    "# Expected Output\n",
    "# print(filtered_products)\n",
    "Expected Output\n",
    "[\n",
    "    {\"id\": 3, \"category\": \"Electronics\", \"price\": 400}\n",
    "]"
   ]
  },
  {
   "cell_type": "code",
   "execution_count": 10,
   "metadata": {},
   "outputs": [
    {
     "name": "stdout",
     "output_type": "stream",
     "text": [
      "[{'id': 3, 'category': 'Electronics', 'price': 400}]\n"
     ]
    }
   ],
   "source": [
    "products = [\n",
    "    {\"id\": 1, \"category\": \"Electronics\", \"price\": 850},\n",
    "    {\"id\": 2, \"category\": \"Furniture\", \"price\": 1200},\n",
    "    {\"id\": 3, \"category\": \"Electronics\", \"price\": 400},\n",
    "]\n",
    "filtered_products= filter(lambda product: product['category']==\"Electronics\" and product['price']<500, products )\n",
    "print(list(filtered_products))"
   ]
  },
  {
   "cell_type": "markdown",
   "metadata": {},
   "source": [
    "Exercise 4: Complex Data Transformation (⭐⭐⭐)\n",
    "🔄 Objective\n",
    "Transform a list of dictionaries into a new structure.\n",
    "\n",
    "# Setup Code\n",
    "orders = [\n",
    "    {\"order_id\": 1, \"items\": [{\"product\": \"A\", \"quantity\": 2}, {\"product\": \"B\", \"quantity\": 3}]},\n",
    "    {\"order_id\": 2, \"items\": [{\"product\": \"A\", \"quantity\": 1}, {\"product\": \"C\", \"quantity\": 1}]}\n",
    "]\n",
    "# Expected Task: Transform this list into a dictionary where keys are product names and values are total quantities ordered across all orders.\n",
    "\n",
    "# Your solution here:\n",
    "# product_quantities = ...\n",
    "\n",
    "# Expected Output\n",
    "# print(product_quantities)\n",
    "{\n",
    "    \"A\": 3,\n",
    "    \"B\": 3,\n",
    "    \"C\": 1\n",
    "}"
   ]
  },
  {
   "cell_type": "code",
   "execution_count": 8,
   "metadata": {},
   "outputs": [
    {
     "name": "stdout",
     "output_type": "stream",
     "text": [
      "{'A': 3, 'B': 3, 'C': 1}\n"
     ]
    }
   ],
   "source": [
    "orders = [\n",
    "    {\"order_id\": 1, \"items\": [{\"product\": \"A\", \"quantity\": 2}, {\"product\": \"B\", \"quantity\": 3}]},\n",
    "    {\"order_id\": 2, \"items\": [{\"product\": \"A\", \"quantity\": 1}, {\"product\": \"C\", \"quantity\": 1}]}\n",
    "]\n",
    "product_quanties={}\n",
    "for order in orders:\n",
    "    for items in order['items']:\n",
    "        product= items['product']\n",
    "        quantity = items['quantity']\n",
    "        if product in product_quanties:\n",
    "           product_quanties[product]+=quantity\n",
    "        else:\n",
    "          product_quanties[product]= quantity\n",
    "print (product_quanties)\n"
   ]
  },
  {
   "cell_type": "markdown",
   "metadata": {},
   "source": [
    "Exercise 5: Data Consolidation and Summarization (⭐⭐⭐)\n",
    "📊 Objective\n",
    "Consolidate and summarize data from a list of dictionaries.\n",
    "\n",
    "# Setup Code\n",
    "transactions = [\n",
    "    {\"date\": \"2021-01-01\", \"amount\": 100, \"category\": \"Food\"},\n",
    "    {\"date\": \"2021-01-01\", \"amount\": 200, \"category\": \"Transport\"},\n",
    "    {\"date\": \"2021-01-02\", \"amount\": 150, \"category\": \"Food\"}\n",
    "]\n",
    "# Expected Task: Summarize the total amount spent per category.\n",
    "\n",
    "# Your solution here:\n",
    "# category_totals = ...\n",
    "\n",
    "# Expected Output\n",
    "# print(category_totals)\n",
    "Expected Output\n",
    "{\n",
    "    \"Food\": 250,\n",
    "    \"Transport\": 200\n",
    "}"
   ]
  },
  {
   "cell_type": "code",
   "execution_count": 7,
   "metadata": {},
   "outputs": [
    {
     "name": "stdout",
     "output_type": "stream",
     "text": [
      "{'Food': 250, 'Transport': 200}\n"
     ]
    }
   ],
   "source": [
    "\n",
    "transactions = [\n",
    "    {\"date\": \"2021-01-01\", \"amount\": 100, \"category\": \"Food\"},\n",
    "    {\"date\": \"2021-01-01\", \"amount\": 200, \"category\": \"Transport\"},\n",
    "    {\"date\": \"2021-01-02\", \"amount\": 150, \"category\": \"Food\"}\n",
    "]\n",
    "category_totals={}\n",
    "for transaction in transactions:\n",
    "   category= transaction['category']\n",
    "   amount= transaction['amount']\n",
    "   if category in category_totals:\n",
    "      category_totals[category]+=amount\n",
    "   else:\n",
    "      category_totals[category]=amount\n",
    "print(category_totals)"
   ]
  },
  {
   "cell_type": "markdown",
   "metadata": {},
   "source": [
    "Exercise 6: Grouping and Aggregating Data (⭐⭐⭐)\n",
    "📈 Objective\n",
    "Group data by a specific key and perform aggregation.\n",
    "\n",
    "# Setup Code\n",
    "sales = [\n",
    "    {\"salesperson\": \"Alice\", \"amount\": 200},\n",
    "    {\"salesperson\": \"Bob\", \"amount\": 150},\n",
    "    {\"salesperson\": \"Alice\", \"amount\": 100}\n",
    "]\n",
    "# Expected Task: Group sales by salesperson and calculate the total sales amount for each.\n",
    "\n",
    "# Your solution here:\n",
    "# sales_by_person = ...\n",
    "\n",
    "# Expected Output\n",
    "# print(sales_by_person)\n",
    "Expected Output\n",
    "{\n",
    "    \"Alice\": 300,\n",
    "    \"Bob\": 150\n",
    "}"
   ]
  },
  {
   "cell_type": "code",
   "execution_count": 6,
   "metadata": {},
   "outputs": [
    {
     "name": "stdout",
     "output_type": "stream",
     "text": [
      "{'Alice': 300, 'Bob': 150}\n"
     ]
    }
   ],
   "source": [
    "sales = [\n",
    "    {\"salesperson\": \"Alice\", \"amount\": 200},\n",
    "    {\"salesperson\": \"Bob\", \"amount\": 150},\n",
    "    {\"salesperson\": \"Alice\", \"amount\": 100},\n",
    "]\n",
    "sales_by_person = {}\n",
    "for person in sales:\n",
    "    salesperson= person['salesperson']\n",
    "    amount= person['amount']\n",
    "    if salesperson in sales_by_person:\n",
    "     sales_by_person[salesperson]+=amount\n",
    "    else:\n",
    "     sales_by_person[salesperson] = amount\n",
    "print(sales_by_person)"
   ]
  },
  {
   "cell_type": "markdown",
   "metadata": {},
   "source": [
    "Exercise 7: Lambda Functions for Spell Power (⭐⭐)\n",
    "✨ Objective\n",
    "Use a lambda function to sort a list of spells by their power level.\n",
    "\n",
    "# Setup Code\n",
    "spells = [(\"Lumos\", 5), (\"Obliviate\", 10), (\"Expelliarmus\", 7)]\n",
    "# Expected Task: Sort the spells list by power level in descending order using a lambda function.\n",
    "\n",
    "# Your solution here:\n",
    "# sorted_spells = ...\n",
    "\n",
    "# Expected Output\n",
    "# print(sorted_spells)\n",
    "Expected Output\n",
    "[('Obliviate', 10), ('Expelliarmus', 7), ('Lumos', 5)]"
   ]
  },
  {
   "cell_type": "code",
   "execution_count": 5,
   "metadata": {},
   "outputs": [
    {
     "name": "stdout",
     "output_type": "stream",
     "text": [
      "[('Obliviate', 10), ('Expelliarmus', 7), ('Lumos', 5)]\n"
     ]
    }
   ],
   "source": [
    "spells = [(\"Lumos\", 5), (\"Obliviate\", 10), (\"Expelliarmus\", 7)]\n",
    "sorted_spells= sorted(spells, key=lambda spell: spell[-1], reverse=True)\n",
    "print(sorted_spells)"
   ]
  },
  {
   "cell_type": "markdown",
   "metadata": {},
   "source": [
    "Exercise 8: Map Transformation for Potion Ingredients (⭐⭐)\n",
    "🧪 Objective\n",
    "Transform a list of potion ingredients to their required quantities using map.\n",
    "\n",
    "# Setup Code\n",
    "ingredients = [\"Wolfsbane\", \"Eye of Newt\", \"Dragon Scale\"]\n",
    "# Expected Task: Use `map` to append \": 3 grams\" to each ingredient.\n",
    "\n",
    "# Your solution here:\n",
    "# formatted_ingredients = ...\n",
    "\n",
    "# Expected Output\n",
    "# print(formatted_ingredients)\n",
    "Expected Output\n",
    "['Wolfsbane: 3 grams', 'Eye of Newt: 3 grams', 'Dragon Scale: 3 grams']\n"
   ]
  },
  {
   "cell_type": "code",
   "execution_count": 12,
   "metadata": {},
   "outputs": [
    {
     "name": "stdout",
     "output_type": "stream",
     "text": [
      "['Wolfsbane: 3 grams', 'Eye of Newt: 3 grams', 'Dragon Scale: 3 grams']\n"
     ]
    }
   ],
   "source": [
    "ingredients = [\"Wolfsbane\", \"Eye of Newt\", \"Dragon Scale\"]\n",
    "formatted_ingredients = map(lambda ingredient: ingredient + \": 3 grams\",ingredients)\n",
    "print(list(formatted_ingredients))"
   ]
  },
  {
   "cell_type": "markdown",
   "metadata": {},
   "source": [
    "Exercise 9: Magical Book Filter and Formatter (⭐⭐⭐)\n",
    "📚 Objective\n",
    "Combine filter, map, and lambda functions to process a list of books and format their titles.\n",
    "\n",
    "# Setup Code\n",
    "books = [{\"title\": \"A History of Magic\", \"pages\": 100}, {\"title\": \"Magical Drafts and Potions\", \"pages\": 150}]\n",
    "# Expected Task: Filter books with more than 120 pages and format their titles to uppercase.\n",
    "\n",
    "# Your solution here:\n",
    "# formatted_titles = ...\n",
    "\n",
    "# Expected Output\n",
    "# print(formatted_titles)\n",
    "Expected Output\n",
    "['MAGICAL DRAFTS AND POTIONS']"
   ]
  },
  {
   "cell_type": "code",
   "execution_count": 13,
   "metadata": {},
   "outputs": [
    {
     "name": "stdout",
     "output_type": "stream",
     "text": [
      "['MAGICAL DRAFTS AND POTIONS']\n"
     ]
    }
   ],
   "source": [
    "books = [\n",
    "    {\"title\": \"A History of Magic\", \"pages\": 100},\n",
    "    {\"title\": \"Magical Drafts and Potions\", \"pages\": 150},\n",
    "]\n",
    "heavy_books=filter(lambda book: book['pages']>120,books)\n",
    "formatted_titles= map(lambda bk: bk['title'].upper(), heavy_books)\n",
    "print(list(formatted_titles))"
   ]
  },
  {
   "cell_type": "markdown",
   "metadata": {},
   "source": [
    "Exercise 10: Wizard Duel Game Class (⭐⭐⭐⭐)\n",
    "⚔️ Objective\n",
    "Create a WizardDuel class where wizards can cast spells at each other until one wins.\n",
    "\n",
    "# Setup Code\n",
    "class WizardDuel:\n",
    "    # Your implementation here\n",
    "    pass\n",
    "\n",
    "# Example usage:\n",
    "# duel = WizardDuel(\"Harry\", \"Draco\", 50, 40)\n",
    "# duel.cast_spell(\"Harry\", 10)\n",
    "# duel.cast_spell(\"Draco\", 5)\n",
    "# winner = duel.get_winner()\n",
    "Expected Output\n",
    "After a duel between Harry and Draco, Harry wins with 10 health points left."
   ]
  },
  {
   "cell_type": "code",
   "execution_count": 15,
   "metadata": {},
   "outputs": [
    {
     "name": "stdout",
     "output_type": "stream",
     "text": [
      "After a duel between Harry and Draco, Draco wins with 20 health points left.\n"
     ]
    }
   ],
   "source": [
    "class InvalidPlayerError(Exception):\n",
    "    pass\n",
    "class InvalidValueError(Exception):\n",
    "    pass\n",
    "\n",
    "class WizardDuel:\n",
    "    def __init__(self, player1, player2, life1, life2):\n",
    "        self.player1 = player1\n",
    "        self.player2 = player2\n",
    "        self.life1 = life1\n",
    "        self.life2 = life2\n",
    "\n",
    "    def cast_spell(self,player,points):\n",
    "        if player != self.player1 and player != self.player2:\n",
    "            raise InvalidPlayerError(f\"The player {player} does not exist\")\n",
    "        elif player == self.player1:\n",
    "             if points> self.life2:\n",
    "                 raise InvalidValueError(f\"Points can't be greater than health life.\")\n",
    "             else:\n",
    "              self.life2 -=points\n",
    "        elif player == self.player2:\n",
    "            if points> self.life1:\n",
    "                raise InvalidValueError(f\"Points can't be greater than health life.\")\n",
    "            else:\n",
    "              self.life1 -=points\n",
    "    def get_winner(self):\n",
    "        if self.life1>0 and self.life2<=0:\n",
    "            return f\"After a duel between {self.player1} and {self.player2}, {self.player1} wins with {self.life1} health points left.\"\n",
    "        elif self.life2 > 0 and self.life1 <= 0:\n",
    "            return f\"After a duel between {self.player1} and {self.player2}, {self.player2} wins with {self.life2} health points left.\"\n",
    "        elif self.life1 > 0 and self.life2 > 0:\n",
    "            return f\"After a duel between {self.player1} and {self.player2}, no one won.\"\n",
    "        elif self.life1 == 0 and self.life2 == 0:\n",
    "            return f\"After a duel between {self.player1} and {self.player2}, it is a tie.\"\n",
    "try:\n",
    "    duel = WizardDuel(\"Harry\", \"Draco\", 50, 40)\n",
    "    duel.cast_spell(\"Harry\", 20)\n",
    "    duel.cast_spell(\"Draco\", 50)\n",
    "    winner = duel.get_winner()\n",
    "    print(winner)\n",
    "except InvalidPlayerError as e:\n",
    "    print(f\"Caught InvalidPlayerError: {e}\")\n",
    "except InvalidValueError as e:\n",
    "    print(f\"Caught InvalidPlayerError: {e}\")\n"
   ]
  },
  {
   "cell_type": "markdown",
   "metadata": {},
   "source": [
    "Exercise 11: Custom Error Handling in Potion Making (⭐⭐⭐)\n",
    "🧪 Objective\n",
    "Create a custom exception to handle errors in potion making, such as using the wrong ingredient.\n",
    "\n",
    "# Setup Code\n",
    "class PotionError(Exception):\n",
    "    pass\n",
    "\n",
    "def brew_potion(potion_name, ingredients):\n",
    "    # Your implementation here\n",
    "    pass\n",
    "\n",
    "# Example usage:\n",
    "# try:\n",
    "#     brew_potion(\"Love Potion\", [\"Rose Petal\", \"Unicorn Hair\"])\n",
    "# except PotionError as e:\n",
    "#     print(f\"Caught PotionError: {e}\")\n",
    "Expected Output\n",
    "Caught PotionError: 'Eye of Newt' is not a valid ingredient for the Love Potion."
   ]
  },
  {
   "cell_type": "code",
   "execution_count": 40,
   "metadata": {},
   "outputs": [
    {
     "name": "stdout",
     "output_type": "stream",
     "text": [
      "Caught PotionError: 'Eye of Newt' is not a valid ingredient for the Shrinking Solution.\n"
     ]
    }
   ],
   "source": [
    "potions_and_ingr = {\n",
    "    \"Love Potion\": [\n",
    "        \"Ashwinder Eggs\",\n",
    "        \"Rose Thorns\",\n",
    "        \"Peppermint Oil\",\n",
    "        \"Moonstone\",\n",
    "    ],\n",
    "    \"Shrinking Solution\": [\n",
    "        \"Daisy Roots\",\n",
    "        \"Shrivelfigs\",\n",
    "        \"Caterpillars\",\n",
    "        \"Leech Juice\",\n",
    "    ],\n",
    "}\n",
    "class PotionError(Exception):\n",
    "    pass\n",
    "\n",
    "def brew_potion(potion_name, ingredients):\n",
    "    if potion_name not in potions_and_ingr:\n",
    "        raise PotionError(f\"'{potion_name}' is not a valid potion.\")\n",
    "\n",
    "    else:\n",
    "     for ingredient in ingredients:\n",
    "        if ingredient not in potions_and_ingr[potion_name]:\n",
    "            raise PotionError(\n",
    "                f\"'{ingredient}' is not a valid ingredient for the {potion_name}.\"\n",
    "            )\n",
    "    if len(ingredients)< len(potions_and_ingr[potion_name]):\n",
    "        raise PotionError(\n",
    "            f\"There are missing ingredients for the {potion_name}.\"\n",
    "        )\n",
    "    elif len(ingredients)> len(potions_and_ingr[potion_name]):\n",
    "        raise PotionError(\n",
    "            f\"There are extra ingredients that are unneccessary to brew {potion_name}.\"\n",
    "        )\n",
    "    print(f\"{potion_name} brewed successfully.\" )\n",
    "\n",
    "\n",
    "try:\n",
    "    brew_potion(\n",
    "        \"Shrinking Solution\",\n",
    "        [\"Daisy Roots\", \"Leech Juice\", \"Caterpillars\", \"Shrivelfigs\", \"Eye of Newt\"]\n",
    "    )\n",
    "except PotionError as e:\n",
    "    print(f\"Caught PotionError: {e}\")\n"
   ]
  },
  {
   "cell_type": "markdown",
   "metadata": {},
   "source": [
    "Exercise 12: Hogwarts Library Database Query (⭐⭐)\n",
    "📚 Objective\n",
    "Simulate a database query to find books by a specific author using list comprehensions.\n",
    "\n",
    "# Setup Code\n",
    "library = [\n",
    "    {\"title\": \"Unfogging the Future\", \"author\": \"Cassandra Vablatsky\"},\n",
    "    {\"title\": \"Magical Hieroglyphs and Logograms\", \"author\": \"Bathilda Bagshot\"}\n",
    "]\n",
    "# Expected Task: Use a list comprehension to select books written by Bathilda Bagshot.\n",
    "\n",
    "# Your solution here:\n",
    "# bagshot_books = ...\n",
    "\n",
    "# Expected Output\n",
    "# print(bagshot_books)\n",
    "Expected Output\n",
    "[{'title': 'Magical Hieroglyphs and Logograms', 'author': 'Bathilda Bagshot'}]"
   ]
  },
  {
   "cell_type": "code",
   "execution_count": 16,
   "metadata": {},
   "outputs": [
    {
     "name": "stdout",
     "output_type": "stream",
     "text": [
      "[{'title': 'Magical Hieroglyphs and Logograms', 'author': 'Bathilda Bagshot'}]\n"
     ]
    }
   ],
   "source": [
    "library = [\n",
    "    {\"title\": \"Unfogging the Future\", \"author\": \"Cassandra Vablatsky\"},\n",
    "    {\"title\": \"Magical Hieroglyphs and Logograms\", \"author\": \"Bathilda Bagshot\"},\n",
    "]\n",
    "bagshot_books = [book for book in library if book[\"author\"] == \"Bathilda Bagshot\"]\n",
    "print(bagshot_books)"
   ]
  },
  {
   "cell_type": "markdown",
   "metadata": {},
   "source": [
    "Exercise 13: Hogwarts House Points Calculator (⭐⭐⭐) \n",
    "🏆 Objective\n",
    "Calculate the total points for each house using nested loops and a list of dictionaries.\n",
    "\n",
    "# Setup Code\n",
    "house_points = [\n",
    "    {\"house\": \"Gryffindor\", \"points\": 35},\n",
    "    {\"house\": \"Slytherin\", \"points\": 50},\n",
    "    {\"house\": \"Gryffindor\", \"points\": 60},\n",
    "    {\"house\": \"Slytherin\", \"points\": 40}\n",
    "]\n",
    "# Expected Task: Aggregate points for each house and print the total.\n",
    "\n",
    "# Your solution here:\n",
    "# house_totals = ...\n",
    "\n",
    "# Expected Output\n",
    "# print(house_totals)\n",
    "Expected Output\n",
    "{\n",
    "    \"Gryffindor\": 95,\n",
    "    \"Slytherin\": 90\n",
    "}"
   ]
  },
  {
   "cell_type": "code",
   "execution_count": null,
   "metadata": {},
   "outputs": [
    {
     "name": "stdout",
     "output_type": "stream",
     "text": [
      "{'Gryffindor': 95, 'Slytherin': 90}\n"
     ]
    }
   ],
   "source": [
    "house_points = [\n",
    "    {\"house\": \"Gryffindor\", \"points\": 35},\n",
    "    {\"house\": \"Slytherin\", \"points\": 50},\n",
    "    {\"house\": \"Gryffindor\", \"points\": 60},\n",
    "    {\"house\": \"Slytherin\", \"points\": 40},\n",
    "]\n",
    "\n",
    "houses={}\n",
    "for house_point in house_points:\n",
    "    if house_point[\"house\"] in houses:\n",
    "        houses[house_point[\"house\"]] += house_point[\"points\"]\n",
    "    else:\n",
    "        houses[house_point[\"house\"]] = house_point[\"points\"]\n",
    "print(houses)\n"
   ]
  },
  {
   "cell_type": "markdown",
   "metadata": {},
   "source": [
    "Exercise 14: Class Inheritance for Magical Creatures (⭐⭐⭐⭐)\n",
    "🐉 Objective\n",
    "Implement a class hierarchy for magical creatures where each subclass overrides a common method.\n",
    "\n",
    "# Setup Code\n",
    "class MagicalCreature:\n",
    "    # Your implementation here\n",
    "    pass\n",
    "\n",
    "class Dragon(MagicalCreature):\n",
    "    # Your implementation here\n",
    "    pass\n",
    "\n",
    "class Unicorn(MagicalCreature):\n",
    "    # Your implementation here\n",
    "    pass\n",
    "\n",
    "# Example usage:\n",
    "# dragon = Dragon(\"Norwegian Ridgeback\")\n",
    "# unicorn = Unicorn(\"Silver-maned\")\n",
    "# dragon.sound()  # Should print \"Roar\"\n",
    "# unicorn.sound()  # Should print \"Neigh\"\n",
    "Expected Output\n",
    "Norwegian Ridgeback the Dragon says: Roar!\n",
    "Silver-maned the Unicorn says: Neigh!"
   ]
  },
  {
   "cell_type": "code",
   "execution_count": 17,
   "metadata": {},
   "outputs": [
    {
     "name": "stdout",
     "output_type": "stream",
     "text": [
      "Norwegian Ridgeback the Dragon says: Roar!\n",
      "Silver-maned the Unicorn says: Neigh!\n"
     ]
    }
   ],
   "source": [
    "class MagicalCreature:\n",
    "    def __init__(self, name):\n",
    "        self.name = name\n",
    "\n",
    "    def sound(self):\n",
    "        return \"Some sound\"\n",
    "\n",
    "\n",
    "class Dragon(MagicalCreature):\n",
    "  def __init__(self,name):\n",
    "        self.name=name\n",
    "  def sound(self):\n",
    "   return f\"{self.name} the {self.__class__.__name__} says: Roar!\"\n",
    "\n",
    "\n",
    "\n",
    "class Unicorn(MagicalCreature):\n",
    "    def __init__(self, name):\n",
    "        self.name = name\n",
    "\n",
    "    def sound(self):\n",
    "        return f\"{self.name} the {self.__class__.__name__} says: Neigh!\"\n",
    "\n",
    "\n",
    "dragon = Dragon(\"Norwegian Ridgeback\")\n",
    "unicorn = Unicorn(\"Silver-maned\")\n",
    "print(dragon.sound() )\n",
    "print(unicorn.sound())"
   ]
  },
  {
   "cell_type": "markdown",
   "metadata": {},
   "source": [
    "Exercise 15: Custom Sorting with Lambda for Magical Artifacts (⭐⭐⭐)\n",
    "🔍 Objective\n",
    "Sort a list of magical artifacts by their age and power level using a custom lambda function.\n",
    "\n",
    "# Setup Code\n",
    "artifacts = [\n",
    "    {\"name\": \"Cloak of Invisibility\", \"age\": 657, \"power\": 9.5},\n",
    "    {\"name\": \"Elder Wand\", \"age\": 1000, \"power\": 10},\n",
    "    {\"name\": \"Resurrection Stone\", \"age\": 800, \"power\": 7}\n",
    "]\n",
    "# Expected Task: Sort the artifacts first by age, then by power, using a lambda function.\n",
    "\n",
    "# Your solution here:\n",
    "# sorted_artifacts = ...\n",
    "\n",
    "# Expected Output\n",
    "# print(sorted_artifacts)\n",
    "Expected Output\n",
    "[\n",
    "    {\"name\": \"Cloak of Invisibility\", \"age\": 657, \"power\": 9.5},\n",
    "    {\"name\": \"Resurrection Stone\", \"age\": 800, \"power\": 7},\n",
    "    {\"name\": \"Elder Wand\", \"age\": 1000, \"power\": 10}\n",
    "]"
   ]
  },
  {
   "cell_type": "code",
   "execution_count": 18,
   "metadata": {},
   "outputs": [
    {
     "name": "stdout",
     "output_type": "stream",
     "text": [
      "[{'name': 'Cloak of Invisibility', 'age': 657, 'power': 9.5}, {'name': 'Resurrection Stone', 'age': 800, 'power': 7}, {'name': 'Elder Wand', 'age': 1000, 'power': 10}]\n"
     ]
    }
   ],
   "source": [
    "artifacts = [\n",
    "    {\"name\": \"Cloak of Invisibility\", \"age\": 657, \"power\": 9.5},\n",
    "    {\"name\": \"Elder Wand\", \"age\": 1000, \"power\": 10},\n",
    "    {\"name\": \"Resurrection Stone\", \"age\": 800, \"power\": 7},\n",
    "]\n",
    "sorted_by_age= sorted(artifacts, key= lambda artifact: (artifact['age'], artifact['power']))\n",
    "print(sorted_by_age)"
   ]
  },
  {
   "cell_type": "markdown",
   "metadata": {},
   "source": [
    "Exercise 16: Wizard Profile Generator with f-strings (⭐)\n",
    "🧙‍♂️ Objective\n",
    "Dynamically generate wizard profiles using f-strings and dictionary unpacking.\n",
    "\n",
    "# Setup Code\n",
    "wizard = {\"name\": \"Albus Dumbledore\", \"title\": \"Headmaster\", \"house\": \"Gryffindor\"}\n",
    "# Expected Task: Use an f-string to create a profile string that includes the wizard's name, title, and house.\n",
    "\n",
    "# Your solution here:\n",
    "# profile = ...\n",
    "\n",
    "# Expected Output\n",
    "# print(profile)\n",
    "Expected Output\n",
    "Albus Dumbledore, the Headmaster of Gryffindor."
   ]
  },
  {
   "cell_type": "code",
   "execution_count": 19,
   "metadata": {},
   "outputs": [
    {
     "name": "stdout",
     "output_type": "stream",
     "text": [
      "Albus Dumbledore, the Headmaster of Gryffindor\n"
     ]
    }
   ],
   "source": [
    "wizard = {\"name\": \"Albus Dumbledore\", \"title\": \"Headmaster\", \"house\": \"Gryffindor\"}\n",
    "profile=f\"{wizard['name']}, the {wizard['title']} of {wizard['house']}\"\n",
    "print(profile)"
   ]
  },
  {
   "cell_type": "markdown",
   "metadata": {},
   "source": [
    "Exercise 17: Magical Creature Adoption Matching (⭐⭐⭐)\n",
    "🦄 Objective\n",
    "Match potential magical creature adopters with creatures based on preferences using filter and map.\n",
    "\n",
    "# Setup Code\n",
    "adopters = [(\"Harry\", \"Phoenix\"), (\"Hermione\", \"House Elf\")]\n",
    "creatures = [(\"Fawkes\", \"Phoenix\"), (\"Dobby\", \"House Elf\"), (\"Buckbeak\", \"Hippogriff\")]\n",
    "# Expected Task: Use `filter` and `map` to create a list of matches between adopters and creatures.\n",
    "\n",
    "# Your solution here:\n",
    "# matches = ...\n",
    "\n",
    "# Expected Output\n",
    "# print(matches)\n",
    "Expected Output\n",
    "[('Harry', 'Fawkes'), ('Hermione', 'Dobby')]"
   ]
  },
  {
   "cell_type": "code",
   "execution_count": 20,
   "metadata": {},
   "outputs": [
    {
     "name": "stdout",
     "output_type": "stream",
     "text": [
      "[('Harry', 'Fawkes'), ('Hermione', 'Dobby')]\n"
     ]
    }
   ],
   "source": [
    "adopters = [(\"Harry\", \"Phoenix\"), (\"Hermione\", \"House Elf\")]\n",
    "creatures = [(\"Fawkes\", \"Phoenix\"), (\"Dobby\", \"House Elf\"), (\"Buckbeak\", \"Hippogriff\")]\n",
    "\n",
    "\n",
    "# tup=()\n",
    "# matches=[]\n",
    "# for adopter in adopters:\n",
    "#     for creature in creatures:\n",
    "#         if adopter[-1]==creature[-1]:\n",
    "#          tup=(adopter[0],creature[0])\n",
    "#          matches.append(tup)\n",
    "# print(matches)\n",
    "\n",
    "matches = map(\n",
    "        lambda adopter: (\n",
    "            adopter[0],\n",
    "            list(filter(lambda creature: adopter[-1] == creature[-1], creatures))[0][0]),adopters)\n",
    "print(list(matches))"
   ]
  },
  {
   "cell_type": "markdown",
   "metadata": {},
   "source": [
    "Exercise 18: Advanced Potion Making with Nested Loops (⭐⭐⭐)\n",
    "🧪 Objective\n",
    "Simulate potion making where each combination of ingredients produces a unique result using nested loops.\n",
    "\n",
    "# Setup Code\n",
    "ingredients = [\"Moonstone\", \"Silver Dust\", \"Dragon Blood\"]\n",
    "# Expected Task: For each pair of ingredients, print out the unique potion they produce.\n",
    "\n",
    "# Your solution here:\n",
    "# potential_potions = ...\n",
    "\n",
    "# Expected Output\n",
    "Expected Output\n",
    "Combining Moonstone and Silver Dust produces a unique potion.\n",
    "Combining Moonstone and Dragon Blood produces a unique potion.\n",
    "Combining Silver Dust and Dragon Blood produces a unique potion."
   ]
  },
  {
   "cell_type": "code",
   "execution_count": 32,
   "metadata": {},
   "outputs": [
    {
     "name": "stdout",
     "output_type": "stream",
     "text": [
      "Combining Moonstone and Silver Dust produces a unique potion.\n",
      "Combining Moonstone and Dragon Blood produces a unique potion.\n",
      "Combining Silver Dust and Dragon Blood produces a unique potion.\n"
     ]
    }
   ],
   "source": [
    "ingredients = [\"Moonstone\", \"Silver Dust\", \"Dragon Blood\"]\n",
    "# for ingredient1 in ingredients:\n",
    "#  for ingredient2 in ingredients:\n",
    "#   potential_potions = f\"Combining {ingredient1} and {ingredient2} produces a unique potion.\"\n",
    "#   if(ingredient1!=ingredient2):\n",
    "#    print(potential_potions)\n",
    "potential_potions=''\n",
    "for i in range(len(ingredients)):\n",
    "    for j in range(i + 1, len(ingredients)):\n",
    "        potential_potions = f\"Combining {ingredients[i]} and {ingredients[j]} produces a unique potion.\"\n",
    "        print(potential_potions)"
   ]
  },
  {
   "cell_type": "markdown",
   "metadata": {},
   "source": [
    "Exercise 19: Nested Data Manipulation (⭐⭐⭐⭐)\n",
    "🧩 Objective\n",
    "Navigate and manipulate a nested data structure.\n",
    "\n",
    "# Setup Code\n",
    "data = [\n",
    "    {\"id\": 1, \"name\": \"Item 1\", \"tags\": [\"tag1\", \"tag2\"]},\n",
    "    {\"id\": 2, \"name\": \"Item 2\", \"tags\": [\"tag2\", \"tag3\"]},\n",
    "    {\"id\": 3, \"name\": \"Item 3\", \"tags\": [\"tag1\", \"tag3\"]}\n",
    "]\n",
    "# Expected Task: For each item, add a new tag \"tag4\" only if \"tag1\" is present in the tags list.\n",
    "\n",
    "# Your solution here:\n",
    "# modified_data = ...\n",
    "\n",
    "# Expected Output\n",
    "# print(modified_data)\n",
    "Expected Output\n",
    "[\n",
    "    {\"id\": 1, \"name\": \"Item 1\", \"tags\": [\"tag1\", \"tag2\", \"tag4\"]},\n",
    "    {\"id\": 2, \"name\": \"Item 2\", \"tags\": [\"tag2\", \"tag3\"]},\n",
    "    {\"id\": 3, \"name\": \"Item 3\", \"tags\": [\"tag1\", \"tag3\", \"tag4\"]}\n",
    "]"
   ]
  },
  {
   "cell_type": "code",
   "execution_count": 24,
   "metadata": {},
   "outputs": [
    {
     "name": "stdout",
     "output_type": "stream",
     "text": [
      "[{'id': 1, 'name': 'Item 1', 'tags': ['tag1', 'tag2', 'tag4']}, {'id': 2, 'name': 'Item 2', 'tags': ['tag2', 'tag3']}, {'id': 3, 'name': 'Item 3', 'tags': ['tag1', 'tag3', 'tag4']}]\n"
     ]
    }
   ],
   "source": [
    "\n",
    "\n",
    "\n",
    "data = [\n",
    "    {\"id\": 1, \"name\": \"Item 1\", \"tags\": [\"tag1\", \"tag2\"]},\n",
    "    {\"id\": 2, \"name\": \"Item 2\", \"tags\": [\"tag2\", \"tag3\"]},\n",
    "    {\"id\": 3, \"name\": \"Item 3\", \"tags\": [\"tag1\", \"tag3\"]},\n",
    "]\n",
    "modified_data=data.copy()\n",
    "for dt in modified_data:\n",
    "    if 'tag1' in dt['tags']:\n",
    "     dt['tags'].append('tag4')\n",
    "print(modified_data)\n"
   ]
  },
  {
   "cell_type": "markdown",
   "metadata": {},
   "source": [
    "Exercise 20: Implementing a Custom Sort Function (⭐⭐⭐⭐⭐)\n",
    "🔄 Objective\n",
    "Implement a custom sort function for a list of dictionaries based on multiple criteria.\n",
    "\n",
    "# Setup Code\n",
    "tasks = [\n",
    "    {\"id\": 1, \"priority\": \"High\", \"completed\": False},\n",
    "    {\"id\": 2, \"priority\": \"Low\", \"completed\": True},\n",
    "    {\"id\": 3, \"priority\": \"Medium\", \"completed\": False}\n",
    "]\n",
    "# Expected Task: Sort the tasks by \"completed\" status (False first) and then by priority (\"High\", \"Medium\", \"Low\").\n",
    "\n",
    "# Your solution here:\n",
    "# sorted_tasks = ...\n",
    "\n",
    "# Expected Output\n",
    "# print(sorted_tasks)\n",
    "Expected Output\n",
    "[\n",
    "    {\"id\": 1, \"priority\": \"High\", \"completed\": False},\n",
    "    {\"id\": 3, \"priority\": \"Medium\", \"completed\": False},\n",
    "    {\"id\": 2, \"priority\": \"Low\", \"completed\": True}\n",
    "]"
   ]
  },
  {
   "cell_type": "code",
   "execution_count": null,
   "metadata": {},
   "outputs": [
    {
     "name": "stdout",
     "output_type": "stream",
     "text": [
      "[{'id': 1, 'priority': 'High', 'completed': False}, {'id': 3, 'priority': 'Medium', 'completed': False}, {'id': 2, 'priority': 'Low', 'completed': True}]\n"
     ]
    }
   ],
   "source": [
    "tasks = [\n",
    "    {\"id\": 1, \"priority\": \"High\", \"completed\": False},\n",
    "    {\"id\": 2, \"priority\": \"Low\", \"completed\": True},\n",
    "    {\"id\": 3, \"priority\": \"Medium\", \"completed\": False}\n",
    "]\n",
    "def custom_sort(task):\n",
    "    order = {\"High\": 1, \"Medium\": 2, \"Low\": 3}\n",
    "    return (task['completed'],order[task['priority']] )\n",
    "sorted_tasks= sorted(tasks, key=custom_sort)\n",
    "print(sorted_tasks)\n"
   ]
  }
 ],
 "metadata": {
  "kernelspec": {
   "display_name": "Python 3",
   "language": "python",
   "name": "python3"
  },
  "language_info": {
   "codemirror_mode": {
    "name": "ipython",
    "version": 3
   },
   "file_extension": ".py",
   "mimetype": "text/x-python",
   "name": "python",
   "nbconvert_exporter": "python",
   "pygments_lexer": "ipython3",
   "version": "3.10.2"
  }
 },
 "nbformat": 4,
 "nbformat_minor": 2
}
