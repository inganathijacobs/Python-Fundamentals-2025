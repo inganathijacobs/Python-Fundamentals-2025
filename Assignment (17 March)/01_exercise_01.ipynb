{
 "cells": [
  {
   "cell_type": "markdown",
   "metadata": {},
   "source": [
    "## Exercise 1: Data Sorting and Ranking (⭐⭐)\n",
    "🏆 Objective\n",
    "Sort a complex data structure and add a ranking key based on a specific criterion.\n",
    "\n",
    "# Setup Code\n",
    "students = [\n",
    "    {\"name\": \"Alice\", \"grade\": 88},\n",
    "    {\"name\": \"Bob\", \"grade\": 75},\n",
    "    {\"name\": \"Charlie\", \"grade\": 93}\n",
    "]\n",
    "# Expected Task: Sort the list of dictionaries by grade in descending order and add a \"rank\" key to each dictionary based on the sorting.\n",
    "\n",
    "# Your solution here:\n",
    "# sorted_students = ...\n",
    "\n",
    "# Expected Output\n",
    "# print(sorted_students)"
   ]
  },
  {
   "cell_type": "code",
   "execution_count": null,
   "metadata": {},
   "outputs": [
    {
     "name": "stdout",
     "output_type": "stream",
     "text": [
      "[{'name': 'Charlie', 'grade': 93, 'rank': 1}, {'name': 'Alice', 'grade': 88, 'rank': 2}, {'name': 'Bob', 'grade': 75, 'rank': 3}]\n"
     ]
    }
   ],
   "source": [
    "\n",
    "students = [\n",
    "    {\"name\": \"Alice\", \"grade\": 88},\n",
    "    {\"name\": \"Bob\", \"grade\": 75},\n",
    "    {\"name\": \"Charlie\", \"grade\": 93},\n",
    "]\n",
    "\n",
    "\n",
    "def rank(stdnts):\n",
    " sorted_students= sorted(stdnts, key=lambda student: student['grade'], reverse=True)\n",
    " return sorted_students\n",
    "\n",
    "def add_ranking(studs):\n",
    " rank = 1\n",
    " for student in studs:\n",
    "    student['rank']= rank\n",
    "    rank+=1\n",
    " return studs\n",
    "\n",
    "\n",
    "print(list(add_ranking(rank(students))))\n"
   ]
  },
  {
   "cell_type": "markdown",
   "metadata": {},
   "source": [
    "Exercise 2: Merging Data from Two Lists (⭐⭐)\n",
    "🔄 Objective\n",
    "Merge data from two lists of dictionaries based on a common key.\n",
    "\n",
    "# Setup Code\n",
    "employees = [{\"id\": 1, \"name\": \"Alice\"}, {\"id\": 2, \"name\": \"Bob\"}]\n",
    "salaries = [{\"id\": 1, \"salary\": 50000}, {\"id\": 2, \"salary\": 60000}]\n",
    "# Expected Task: Merge these lists into a single list of dictionaries by matching the \"id\" field, including all keys.\n",
    "\n",
    "# Your solution here:\n",
    "# merged_data = ...\n",
    "\n",
    "# Expected Output\n",
    "# print(merged_data)"
   ]
  },
  {
   "cell_type": "code",
   "execution_count": null,
   "metadata": {},
   "outputs": [
    {
     "name": "stdout",
     "output_type": "stream",
     "text": [
      "[{'id': 2, 'name': 'Bob', 'salary': 60000}]\n"
     ]
    }
   ],
   "source": [
    "employees = [{\"id\": 1, \"name\": \"Alice\"}, {\"id\": 2, \"name\": \"Bob\"}]\n",
    "salaries = [{\"id\": 1, \"salary\": 50000}, {\"id\": 2, \"salary\": 60000}]\n",
    "for employee in employees:\n",
    "    merged_data = [\n",
    "        {**employee, \"salary\": salary[\"salary\"]}\n",
    "        for salary in salaries\n",
    "        if employee[\"id\"] == salary[\"id\"]\n",
    "    ]\n",
    "\n",
    "print(merged_data)\n"
   ]
  },
  {
   "cell_type": "code",
   "execution_count": null,
   "metadata": {},
   "outputs": [
    {
     "name": "stdout",
     "output_type": "stream",
     "text": [
      "{1: 50000, 2: 60000}\n",
      "[{'id': 1, 'name': 'Alice', 'salary': 50000}, {'id': 2, 'name': 'Bob', 'salary': 60000}]\n"
     ]
    }
   ],
   "source": [
    "employees = [{\"id\": 1, \"name\": \"Alice\"}, {\"id\": 2, \"name\": \"Bob\"}]\n",
    "salaries = [\n",
    "    {\"id\": 1, \"salary\": 50000},\n",
    "    {\"id\": 2, \"salary\": 60000},\n",
    "]\n",
    "salaries_dictionary={salary['id']: salary['salary'] for salary in salaries}\n",
    "merged_data=[]\n",
    "\n",
    "for employee in employees:\n",
    "    if employee['id'] in salaries_dictionary:\n",
    "        employee['salary'] = salaries_dictionary[employee['id']]\n",
    "print(salaries_dictionary)\n",
    "\n",
    "print(employees)"
   ]
  },
  {
   "cell_type": "markdown",
   "metadata": {},
   "source": [
    "Exercise 3: Advanced Filtering with Multiple Conditions (⭐⭐)\n",
    "🔍 Objective\n",
    "Apply multiple filtering criteria to a list of dictionaries.\n",
    "\n",
    "# Setup Code\n",
    "products = [\n",
    "    {\"id\": 1, \"category\": \"Electronics\", \"price\": 850},\n",
    "    {\"id\": 2, \"category\": \"Furniture\", \"price\": 1200},\n",
    "    {\"id\": 3, \"category\": \"Electronics\", \"price\": 400}\n",
    "]\n",
    "# Expected Task: Filter the list to include only products in the \"Electronics\" category with a price less than 500.\n",
    "\n",
    "# Your solution here:\n",
    "# filtered_products = ...\n",
    "\n",
    "# Expected Output\n",
    "# print(filtered_products)"
   ]
  },
  {
   "cell_type": "code",
   "execution_count": 37,
   "metadata": {},
   "outputs": [
    {
     "name": "stdout",
     "output_type": "stream",
     "text": [
      "[{'id': 3, 'category': 'Electronics', 'price': 400}]\n"
     ]
    }
   ],
   "source": [
    "products = [\n",
    "    {\"id\": 1, \"category\": \"Electronics\", \"price\": 850},\n",
    "    {\"id\": 2, \"category\": \"Furniture\", \"price\": 1200},\n",
    "    {\"id\": 3, \"category\": \"Electronics\", \"price\": 400},\n",
    "]\n",
    "filtered_products= filter(lambda product: product['category']==\"Electronics\" and product['price']<500, products )\n",
    "print(list(filtered_products))"
   ]
  },
  {
   "cell_type": "markdown",
   "metadata": {},
   "source": [
    "Exercise 4: Complex Data Transformation (⭐⭐⭐)\n",
    "🔄 Objective\n",
    "Transform a list of dictionaries into a new structure.\n",
    "\n",
    "# Setup Code\n",
    "orders = [\n",
    "    {\"order_id\": 1, \"items\": [{\"product\": \"A\", \"quantity\": 2}, {\"product\": \"B\", \"quantity\": 3}]},\n",
    "    {\"order_id\": 2, \"items\": [{\"product\": \"A\", \"quantity\": 1}, {\"product\": \"C\", \"quantity\": 1}]}\n",
    "]\n",
    "# Expected Task: Transform this list into a dictionary where keys are product names and values are total quantities ordered across all orders.\n",
    "\n",
    "# Your solution here:\n",
    "# product_quantities = ...\n",
    "\n",
    "# Expected Output\n",
    "# print(product_quantities)"
   ]
  },
  {
   "cell_type": "code",
   "execution_count": 83,
   "metadata": {},
   "outputs": [
    {
     "name": "stdout",
     "output_type": "stream",
     "text": [
      "{'A': 3, 'B': 3, 'C': 1}\n"
     ]
    }
   ],
   "source": [
    "orders = [\n",
    "    {\"order_id\": 1, \"items\": [{\"product\": \"A\", \"quantity\": 2}, {\"product\": \"B\", \"quantity\": 3}]},\n",
    "    {\"order_id\": 2, \"items\": [{\"product\": \"A\", \"quantity\": 1}, {\"product\": \"C\", \"quantity\": 1}]}\n",
    "]\n",
    "product_quanties={}\n",
    "for order in orders:\n",
    "    for items in order['items']:\n",
    "        product= items['product']\n",
    "        quantity = items['quantity']\n",
    "        if product in product_quanties:\n",
    "           product_quanties[product]+=quantity\n",
    "        else:\n",
    "          product_quanties[product]= quantity\n",
    "print (product_quanties)\n"
   ]
  },
  {
   "cell_type": "markdown",
   "metadata": {},
   "source": [
    "Exercise 5: Data Consolidation and Summarization (⭐⭐⭐)\n",
    "📊 Objective\n",
    "Consolidate and summarize data from a list of dictionaries.\n",
    "\n",
    "# Setup Code\n",
    "transactions = [\n",
    "    {\"date\": \"2021-01-01\", \"amount\": 100, \"category\": \"Food\"},\n",
    "    {\"date\": \"2021-01-01\", \"amount\": 200, \"category\": \"Transport\"},\n",
    "    {\"date\": \"2021-01-02\", \"amount\": 150, \"category\": \"Food\"}\n",
    "]\n",
    "# Expected Task: Summarize the total amount spent per category.\n",
    "\n",
    "# Your solution here:\n",
    "# category_totals = ...\n",
    "\n",
    "# Expected Output\n",
    "# print(category_totals)\n",
    "Expected Output\n",
    "{\n",
    "    \"Food\": 250,\n",
    "    \"Transport\": 200\n",
    "}"
   ]
  },
  {
   "cell_type": "code",
   "execution_count": null,
   "metadata": {},
   "outputs": [
    {
     "name": "stdout",
     "output_type": "stream",
     "text": [
      "{'Food': 250, 'Transport': 200}\n"
     ]
    }
   ],
   "source": [
    "\n",
    "transactions = [\n",
    "    {\"date\": \"2021-01-01\", \"amount\": 100, \"category\": \"Food\"},\n",
    "    {\"date\": \"2021-01-01\", \"amount\": 200, \"category\": \"Transport\"},\n",
    "    {\"date\": \"2021-01-02\", \"amount\": 150, \"category\": \"Food\"}\n",
    "]\n",
    "category_totals={}\n",
    "for transaction in transactions:\n",
    "   category= transaction['category']\n",
    "   amount= transaction['amount']\n",
    "   if category in category_totals:\n",
    "      category_totals[category]+=amount\n",
    "   else:\n",
    "      category_totals[category]=amount\n",
    "print(category_totals)"
   ]
  },
  {
   "cell_type": "markdown",
   "metadata": {},
   "source": [
    "Exercise 6: Grouping and Aggregating Data (⭐⭐⭐)\n",
    "📈 Objective\n",
    "Group data by a specific key and perform aggregation.\n",
    "\n",
    "# Setup Code\n",
    "sales = [\n",
    "    {\"salesperson\": \"Alice\", \"amount\": 200},\n",
    "    {\"salesperson\": \"Bob\", \"amount\": 150},\n",
    "    {\"salesperson\": \"Alice\", \"amount\": 100}\n",
    "]\n",
    "# Expected Task: Group sales by salesperson and calculate the total sales amount for each.\n",
    "\n",
    "# Your solution here:\n",
    "# sales_by_person = ...\n",
    "\n",
    "# Expected Output\n",
    "# print(sales_by_person)\n",
    "Expected Output\n",
    "{\n",
    "    \"Alice\": 300,\n",
    "    \"Bob\": 150\n",
    "}"
   ]
  },
  {
   "cell_type": "code",
   "execution_count": 135,
   "metadata": {},
   "outputs": [
    {
     "name": "stdout",
     "output_type": "stream",
     "text": [
      "{'Alice': 300, 'Bob': 150}\n"
     ]
    }
   ],
   "source": [
    "sales = [\n",
    "    {\"salesperson\": \"Alice\", \"amount\": 200},\n",
    "    {\"salesperson\": \"Bob\", \"amount\": 150},\n",
    "    {\"salesperson\": \"Alice\", \"amount\": 100},\n",
    "]\n",
    "sales_by_person = {}\n",
    "for person in sales:\n",
    "    salesperson= person['salesperson']\n",
    "    amount= person['amount']\n",
    "    if salesperson in sales_by_person:\n",
    "     sales_by_person[salesperson]+=amount\n",
    "    else:\n",
    "     sales_by_person[salesperson] = amount\n",
    "print(sales_by_person)"
   ]
  },
  {
   "cell_type": "markdown",
   "metadata": {},
   "source": [
    "Exercise 7: Lambda Functions for Spell Power (⭐⭐)\n",
    "✨ Objective\n",
    "Use a lambda function to sort a list of spells by their power level.\n",
    "\n",
    "# Setup Code\n",
    "spells = [(\"Lumos\", 5), (\"Obliviate\", 10), (\"Expelliarmus\", 7)]\n",
    "# Expected Task: Sort the spells list by power level in descending order using a lambda function.\n",
    "\n",
    "# Your solution here:\n",
    "# sorted_spells = ...\n",
    "\n",
    "# Expected Output\n",
    "# print(sorted_spells)\n",
    "Expected Output\n",
    "[('Obliviate', 10), ('Expelliarmus', 7), ('Lumos', 5)]"
   ]
  },
  {
   "cell_type": "code",
   "execution_count": 147,
   "metadata": {},
   "outputs": [
    {
     "name": "stdout",
     "output_type": "stream",
     "text": [
      "[('Obliviate', 10), ('Expelliarmus', 7), ('Lumos', 5)]\n"
     ]
    }
   ],
   "source": [
    "spells = [(\"Lumos\", 5), (\"Obliviate\", 10), (\"Expelliarmus\", 7)]\n",
    "sorted_spells= sorted(spells, key=lambda spell: spell[-1], reverse=True)\n",
    "print(sorted_spells)"
   ]
  },
  {
   "cell_type": "markdown",
   "metadata": {},
   "source": [
    "Exercise 8: Map Transformation for Potion Ingredients (⭐⭐)\n",
    "🧪 Objective\n",
    "Transform a list of potion ingredients to their required quantities using map.\n",
    "\n",
    "# Setup Code\n",
    "ingredients = [\"Wolfsbane\", \"Eye of Newt\", \"Dragon Scale\"]\n",
    "# Expected Task: Use `map` to append \": 3 grams\" to each ingredient.\n",
    "\n",
    "# Your solution here:\n",
    "# formatted_ingredients = ...\n",
    "\n",
    "# Expected Output\n",
    "# print(formatted_ingredients)\n",
    "Expected Output\n",
    "['Wolfsbane: 3 grams', 'Eye of Newt: 3 grams', 'Dragon Scale: 3 grams']\n"
   ]
  },
  {
   "cell_type": "code",
   "execution_count": 149,
   "metadata": {},
   "outputs": [
    {
     "name": "stdout",
     "output_type": "stream",
     "text": [
      "['Wolfsbane: 3 grams', 'Eye of Newt: 3 grams', 'Dragon Scale: 3 grams']\n"
     ]
    }
   ],
   "source": [
    "ingredients = [\"Wolfsbane\", \"Eye of Newt\", \"Dragon Scale\"]\n",
    "formatted_ingredients = map(lambda ingredient: ingredient + \": 3 grams\",ingredients)\n",
    "print(list(formatted_ingredients))"
   ]
  },
  {
   "cell_type": "markdown",
   "metadata": {},
   "source": [
    "Exercise 9: Magical Book Filter and Formatter (⭐⭐⭐)\n",
    "📚 Objective\n",
    "Combine filter, map, and lambda functions to process a list of books and format their titles.\n",
    "\n",
    "# Setup Code\n",
    "books = [{\"title\": \"A History of Magic\", \"pages\": 100}, {\"title\": \"Magical Drafts and Potions\", \"pages\": 150}]\n",
    "# Expected Task: Filter books with more than 120 pages and format their titles to uppercase.\n",
    "\n",
    "# Your solution here:\n",
    "# formatted_titles = ...\n",
    "\n",
    "# Expected Output\n",
    "# print(formatted_titles)\n",
    "Expected Output\n",
    "['MAGICAL DRAFTS AND POTIONS']"
   ]
  },
  {
   "cell_type": "code",
   "execution_count": 151,
   "metadata": {},
   "outputs": [
    {
     "name": "stdout",
     "output_type": "stream",
     "text": [
      "['MAGICAL DRAFTS AND POTIONS']\n"
     ]
    }
   ],
   "source": [
    "books = [\n",
    "    {\"title\": \"A History of Magic\", \"pages\": 100},\n",
    "    {\"title\": \"Magical Drafts and Potions\", \"pages\": 150},\n",
    "]\n",
    "heavy_books=filter(lambda book: book['pages']>120,books)\n",
    "formatted_titles= map(lambda bk: bk['title'].upper(), heavy_books)\n",
    "print(list(formatted_titles))"
   ]
  },
  {
   "cell_type": "markdown",
   "metadata": {},
   "source": [
    "Exercise 10: Wizard Duel Game Class (⭐⭐⭐⭐)\n",
    "⚔️ Objective\n",
    "Create a WizardDuel class where wizards can cast spells at each other until one wins.\n",
    "\n",
    "# Setup Code\n",
    "class WizardDuel:\n",
    "    # Your implementation here\n",
    "    pass\n",
    "\n",
    "# Example usage:\n",
    "# duel = WizardDuel(\"Harry\", \"Draco\", 50, 40)\n",
    "# duel.cast_spell(\"Harry\", 10)\n",
    "# duel.cast_spell(\"Draco\", 5)\n",
    "# winner = duel.get_winner()\n",
    "Expected Output\n",
    "After a duel between Harry and Draco, Harry wins with 10 health points left."
   ]
  },
  {
   "cell_type": "code",
   "execution_count": null,
   "metadata": {},
   "outputs": [],
   "source": []
  },
  {
   "cell_type": "markdown",
   "metadata": {},
   "source": [
    "Exercise 12: Hogwarts Library Database Query (⭐⭐)\n",
    "📚 Objective\n",
    "Simulate a database query to find books by a specific author using list comprehensions.\n",
    "\n",
    "# Setup Code\n",
    "library = [\n",
    "    {\"title\": \"Unfogging the Future\", \"author\": \"Cassandra Vablatsky\"},\n",
    "    {\"title\": \"Magical Hieroglyphs and Logograms\", \"author\": \"Bathilda Bagshot\"}\n",
    "]\n",
    "# Expected Task: Use a list comprehension to select books written by Bathilda Bagshot.\n",
    "\n",
    "# Your solution here:\n",
    "# bagshot_books = ...\n",
    "\n",
    "# Expected Output\n",
    "# print(bagshot_books)\n",
    "Expected Output\n",
    "[{'title': 'Magical Hieroglyphs and Logograms', 'author': 'Bathilda Bagshot'}]"
   ]
  },
  {
   "cell_type": "code",
   "execution_count": 225,
   "metadata": {},
   "outputs": [
    {
     "name": "stdout",
     "output_type": "stream",
     "text": [
      "[{'title': 'Magical Hieroglyphs and Logograms', 'author': 'Bathilda Bagshot'}]\n"
     ]
    }
   ],
   "source": [
    "library = [\n",
    "    {\"title\": \"Unfogging the Future\", \"author\": \"Cassandra Vablatsky\"},\n",
    "    {\"title\": \"Magical Hieroglyphs and Logograms\", \"author\": \"Bathilda Bagshot\"},\n",
    "]\n",
    "bagshot_books = [book for book in library if book[\"author\"] == \"Bathilda Bagshot\"]\n",
    "print(bagshot_books)"
   ]
  },
  {
   "cell_type": "markdown",
   "metadata": {},
   "source": [
    "Exercise 15: Custom Sorting with Lambda for Magical Artifacts (⭐⭐⭐)\n",
    "🔍 Objective\n",
    "Sort a list of magical artifacts by their age and power level using a custom lambda function.\n",
    "\n",
    "# Setup Code\n",
    "artifacts = [\n",
    "    {\"name\": \"Cloak of Invisibility\", \"age\": 657, \"power\": 9.5},\n",
    "    {\"name\": \"Elder Wand\", \"age\": 1000, \"power\": 10},\n",
    "    {\"name\": \"Resurrection Stone\", \"age\": 800, \"power\": 7}\n",
    "]\n",
    "# Expected Task: Sort the artifacts first by age, then by power, using a lambda function.\n",
    "\n",
    "# Your solution here:\n",
    "# sorted_artifacts = ...\n",
    "\n",
    "# Expected Output\n",
    "# print(sorted_artifacts)\n",
    "Expected Output\n",
    "[\n",
    "    {\"name\": \"Cloak of Invisibility\", \"age\": 657, \"power\": 9.5},\n",
    "    {\"name\": \"Resurrection Stone\", \"age\": 800, \"power\": 7},\n",
    "    {\"name\": \"Elder Wand\", \"age\": 1000, \"power\": 10}\n",
    "]"
   ]
  },
  {
   "cell_type": "code",
   "execution_count": 224,
   "metadata": {},
   "outputs": [
    {
     "name": "stdout",
     "output_type": "stream",
     "text": [
      "[{'name': 'Resurrection Stone', 'age': 800, 'power': 7}, {'name': 'Cloak of Invisibility', 'age': 800, 'power': 9.5}, {'name': 'Elder Wand', 'age': 800, 'power': 10}]\n"
     ]
    }
   ],
   "source": [
    "artifacts = [\n",
    "    {\"name\": \"Cloak of Invisibility\", \"age\": 800, \"power\": 9.5},\n",
    "    {\"name\": \"Elder Wand\", \"age\": 800, \"power\": 10},\n",
    "    {\"name\": \"Resurrection Stone\", \"age\": 800, \"power\": 7},\n",
    "\n",
    "]\n",
    "sorted_by_age= sorted(artifacts, key= lambda artifact: (artifact['age'], artifact['power']))\n",
    "print(sorted_by_age)"
   ]
  },
  {
   "cell_type": "markdown",
   "metadata": {},
   "source": [
    "Exercise 16: Wizard Profile Generator with f-strings (⭐)\n",
    "🧙‍♂️ Objective\n",
    "Dynamically generate wizard profiles using f-strings and dictionary unpacking.\n",
    "\n",
    "# Setup Code\n",
    "wizard = {\"name\": \"Albus Dumbledore\", \"title\": \"Headmaster\", \"house\": \"Gryffindor\"}\n",
    "# Expected Task: Use an f-string to create a profile string that includes the wizard's name, title, and house.\n",
    "\n",
    "# Your solution here:\n",
    "# profile = ...\n",
    "\n",
    "# Expected Output\n",
    "# print(profile)\n",
    "Expected Output\n",
    "Albus Dumbledore, the Headmaster of Gryffindor."
   ]
  },
  {
   "cell_type": "code",
   "execution_count": 153,
   "metadata": {},
   "outputs": [
    {
     "name": "stdout",
     "output_type": "stream",
     "text": [
      "Albus Dumbledore, the Headmaster of Gryffindor\n"
     ]
    }
   ],
   "source": [
    "wizard = {\"name\": \"Albus Dumbledore\", \"title\": \"Headmaster\", \"house\": \"Gryffindor\"}\n",
    "profile=f\"{wizard['name']}, the {wizard['title']} of {wizard['house']}\"\n",
    "print(profile)"
   ]
  },
  {
   "cell_type": "markdown",
   "metadata": {},
   "source": [
    "Exercise 17: Magical Creature Adoption Matching (⭐⭐⭐)\n",
    "🦄 Objective\n",
    "Match potential magical creature adopters with creatures based on preferences using filter and map.\n",
    "\n",
    "# Setup Code\n",
    "adopters = [(\"Harry\", \"Phoenix\"), (\"Hermione\", \"House Elf\")]\n",
    "creatures = [(\"Fawkes\", \"Phoenix\"), (\"Dobby\", \"House Elf\"), (\"Buckbeak\", \"Hippogriff\")]\n",
    "# Expected Task: Use `filter` and `map` to create a list of matches between adopters and creatures.\n",
    "\n",
    "# Your solution here:\n",
    "# matches = ...\n",
    "\n",
    "# Expected Output\n",
    "# print(matches)\n",
    "Expected Output\n",
    "[('Harry', 'Fawkes'), ('Hermione', 'Dobby')]"
   ]
  },
  {
   "cell_type": "code",
   "execution_count": null,
   "metadata": {},
   "outputs": [
    {
     "name": "stdout",
     "output_type": "stream",
     "text": [
      "[]\n"
     ]
    }
   ],
   "source": [
    "adopters = [(\"Harry\", \"Phoenix\"), (\"Hermione\", \"House Elf\")]\n",
    "creatures = [(\"Fawkes\", \"Phoenix\"), (\"Dobby\", \"House Elf\"), (\"Buckbeak\", \"Hippogriff\")]\n",
    "matches= filter( lambda adopter: adopter[0],adopters)\n"
   ]
  }
 ],
 "metadata": {
  "kernelspec": {
   "display_name": "Python 3",
   "language": "python",
   "name": "python3"
  },
  "language_info": {
   "codemirror_mode": {
    "name": "ipython",
    "version": 3
   },
   "file_extension": ".py",
   "mimetype": "text/x-python",
   "name": "python",
   "nbconvert_exporter": "python",
   "pygments_lexer": "ipython3",
   "version": "3.10.2"
  }
 },
 "nbformat": 4,
 "nbformat_minor": 2
}
