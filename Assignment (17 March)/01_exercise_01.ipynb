{
 "cells": [
  {
   "cell_type": "markdown",
   "metadata": {},
   "source": [
    "## Exercise 1: Data Sorting and Ranking (⭐⭐)\n",
    "🏆 Objective\n",
    "Sort a complex data structure and add a ranking key based on a specific criterion.\n",
    "\n",
    "# Setup Code\n",
    "students = [\n",
    "    {\"name\": \"Alice\", \"grade\": 88},\n",
    "    {\"name\": \"Bob\", \"grade\": 75},\n",
    "    {\"name\": \"Charlie\", \"grade\": 93}\n",
    "]\n",
    "# Expected Task: Sort the list of dictionaries by grade in descending order and add a \"rank\" key to each dictionary based on the sorting.\n",
    "\n",
    "# Your solution here:\n",
    "# sorted_students = ...\n",
    "\n",
    "# Expected Output\n",
    "# print(sorted_students)"
   ]
  },
  {
   "cell_type": "code",
   "execution_count": null,
   "metadata": {},
   "outputs": [
    {
     "name": "stdout",
     "output_type": "stream",
     "text": [
      "[{'name': 'Charlie', 'grade': 93, 'rank': 1}, {'name': 'Alice', 'grade': 88, 'rank': 2}, {'name': 'Bob', 'grade': 75, 'rank': 3}]\n"
     ]
    }
   ],
   "source": [
    "\n",
    "students = [\n",
    "    {\"name\": \"Alice\", \"grade\": 88},\n",
    "    {\"name\": \"Bob\", \"grade\": 75},\n",
    "    {\"name\": \"Charlie\", \"grade\": 93},\n",
    "]\n",
    "\n",
    "\n",
    "def rank(stdnts):\n",
    " sorted_students= sorted(stdnts, key=lambda student: student['grade'], reverse=True)\n",
    " return sorted_students\n",
    "\n",
    "def add_ranking(studs):\n",
    " rank = 1\n",
    " for student in studs:\n",
    "    student['rank']= rank\n",
    "    rank+=1\n",
    " return studs\n",
    "\n",
    "\n",
    "print(list(add_ranking(rank(students))))\n"
   ]
  },
  {
   "cell_type": "markdown",
   "metadata": {},
   "source": [
    "Exercise 2: Merging Data from Two Lists (⭐⭐)\n",
    "🔄 Objective\n",
    "Merge data from two lists of dictionaries based on a common key.\n",
    "\n",
    "# Setup Code\n",
    "employees = [{\"id\": 1, \"name\": \"Alice\"}, {\"id\": 2, \"name\": \"Bob\"}]\n",
    "salaries = [{\"id\": 1, \"salary\": 50000}, {\"id\": 2, \"salary\": 60000}]\n",
    "# Expected Task: Merge these lists into a single list of dictionaries by matching the \"id\" field, including all keys.\n",
    "\n",
    "# Your solution here:\n",
    "# merged_data = ...\n",
    "\n",
    "# Expected Output\n",
    "# print(merged_data)"
   ]
  },
  {
   "cell_type": "code",
   "execution_count": null,
   "metadata": {},
   "outputs": [
    {
     "name": "stdout",
     "output_type": "stream",
     "text": [
      "[{'id': 2, 'name': 'Bob', 'salary': 60000}]\n"
     ]
    }
   ],
   "source": [
    "employees = [{\"id\": 1, \"name\": \"Alice\"}, {\"id\": 2, \"name\": \"Bob\"}]\n",
    "salaries = [{\"id\": 1, \"salary\": 50000}, {\"id\": 2, \"salary\": 60000}]\n",
    "for employee in employees:\n",
    "    merged_data = [\n",
    "        {**employee, \"salary\": salary[\"salary\"]}\n",
    "        for salary in salaries\n",
    "        if employee[\"id\"] == salary[\"id\"]\n",
    "    ]\n",
    "\n",
    "print(merged_data)\n"
   ]
  },
  {
   "cell_type": "code",
   "execution_count": null,
   "metadata": {},
   "outputs": [
    {
     "name": "stdout",
     "output_type": "stream",
     "text": [
      "{1: 50000, 2: 60000}\n",
      "[{'id': 1, 'name': 'Alice', 'salary': 50000}, {'id': 2, 'name': 'Bob', 'salary': 60000}]\n"
     ]
    }
   ],
   "source": [
    "employees = [{\"id\": 1, \"name\": \"Alice\"}, {\"id\": 2, \"name\": \"Bob\"}]\n",
    "salaries = [\n",
    "    {\"id\": 1, \"salary\": 50000},\n",
    "    {\"id\": 2, \"salary\": 60000},\n",
    "]\n",
    "salaries_dictionary={salary['id']: salary['salary'] for salary in salaries}\n",
    "merged_data=[]\n",
    "\n",
    "for employee in employees:\n",
    "    if employee['id'] in salaries_dictionary:\n",
    "        employee['salary'] = salaries_dictionary[employee['id']]\n",
    "print(salaries_dictionary)\n",
    "\n",
    "print(employees)"
   ]
  },
  {
   "cell_type": "markdown",
   "metadata": {},
   "source": [
    "Exercise 3: Advanced Filtering with Multiple Conditions (⭐⭐)\n",
    "🔍 Objective\n",
    "Apply multiple filtering criteria to a list of dictionaries.\n",
    "\n",
    "# Setup Code\n",
    "products = [\n",
    "    {\"id\": 1, \"category\": \"Electronics\", \"price\": 850},\n",
    "    {\"id\": 2, \"category\": \"Furniture\", \"price\": 1200},\n",
    "    {\"id\": 3, \"category\": \"Electronics\", \"price\": 400}\n",
    "]\n",
    "# Expected Task: Filter the list to include only products in the \"Electronics\" category with a price less than 500.\n",
    "\n",
    "# Your solution here:\n",
    "# filtered_products = ...\n",
    "\n",
    "# Expected Output\n",
    "# print(filtered_products)"
   ]
  },
  {
   "cell_type": "code",
   "execution_count": 37,
   "metadata": {},
   "outputs": [
    {
     "name": "stdout",
     "output_type": "stream",
     "text": [
      "[{'id': 3, 'category': 'Electronics', 'price': 400}]\n"
     ]
    }
   ],
   "source": [
    "products = [\n",
    "    {\"id\": 1, \"category\": \"Electronics\", \"price\": 850},\n",
    "    {\"id\": 2, \"category\": \"Furniture\", \"price\": 1200},\n",
    "    {\"id\": 3, \"category\": \"Electronics\", \"price\": 400},\n",
    "]\n",
    "filtered_products= filter(lambda product: product['category']==\"Electronics\" and product['price']<500, products )\n",
    "print(list(filtered_products))"
   ]
  },
  {
   "cell_type": "markdown",
   "metadata": {},
   "source": [
    "Exercise 4: Complex Data Transformation (⭐⭐⭐)\n",
    "🔄 Objective\n",
    "Transform a list of dictionaries into a new structure.\n",
    "\n",
    "# Setup Code\n",
    "orders = [\n",
    "    {\"order_id\": 1, \"items\": [{\"product\": \"A\", \"quantity\": 2}, {\"product\": \"B\", \"quantity\": 3}]},\n",
    "    {\"order_id\": 2, \"items\": [{\"product\": \"A\", \"quantity\": 1}, {\"product\": \"C\", \"quantity\": 1}]}\n",
    "]\n",
    "# Expected Task: Transform this list into a dictionary where keys are product names and values are total quantities ordered across all orders.\n",
    "\n",
    "# Your solution here:\n",
    "# product_quantities = ...\n",
    "\n",
    "# Expected Output\n",
    "# print(product_quantities)"
   ]
  },
  {
   "cell_type": "code",
   "execution_count": 50,
   "metadata": {},
   "outputs": [
    {
     "name": "stdout",
     "output_type": "stream",
     "text": [
      "{'A': 2}\n",
      "{'A': 2, 'B': 3}\n",
      "{'A': 3, 'B': 3}\n",
      "{'A': 3, 'B': 3, 'C': 1}\n"
     ]
    }
   ],
   "source": [
    "orders = [\n",
    "    {\"order_id\": 1, \"items\": [{\"product\": \"A\", \"quantity\": 2}, {\"product\": \"B\", \"quantity\": 3}]},\n",
    "    {\"order_id\": 2, \"items\": [{\"product\": \"A\", \"quantity\": 1}, {\"product\": \"C\", \"quantity\": 1}]}\n",
    "]\n",
    "product_quanties={}\n",
    "for order in orders:\n",
    "    for items in order['items']:\n",
    "        product= items['product']\n",
    "        quantity = items['quantity']\n",
    "        if product in product_quanties:\n",
    "           product_quanties[product]+=quantity\n",
    "        else:\n",
    "          product_quanties[product]= quantity\n",
    "        print (product_quanties)\n"
   ]
  }
 ],
 "metadata": {
  "kernelspec": {
   "display_name": "Python 3",
   "language": "python",
   "name": "python3"
  },
  "language_info": {
   "codemirror_mode": {
    "name": "ipython",
    "version": 3
   },
   "file_extension": ".py",
   "mimetype": "text/x-python",
   "name": "python",
   "nbconvert_exporter": "python",
   "pygments_lexer": "ipython3",
   "version": "3.10.2"
  }
 },
 "nbformat": 4,
 "nbformat_minor": 2
}
