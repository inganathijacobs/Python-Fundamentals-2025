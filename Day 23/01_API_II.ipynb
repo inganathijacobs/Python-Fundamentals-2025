{
 "cells": [
  {
   "cell_type": "markdown",
   "metadata": {},
   "source": [
    "## API KEY\n",
    "- to track us \n",
    "- if too many requests than they block us\n",
    "- to prevent bots\n",
    "- after ? it is called query params\n",
    "- - query params- used for filtering"
   ]
  },
  {
   "cell_type": "markdown",
   "metadata": {},
   "source": [
    "# Task \n",
    "- Create a function get_city_temp given city it should print the temp\n",
    "def get_city_temp(city_name):\n",
    "    pass\n",
    "\n",
    "\n",
    "get_city_temp(\"cape town\")\n",
    "# The temperature in Cape town is 24°C\n"
   ]
  },
  {
   "cell_type": "code",
   "execution_count": 1,
   "metadata": {},
   "outputs": [],
   "source": [
    "import requests"
   ]
  },
  {
   "cell_type": "code",
   "execution_count": 20,
   "metadata": {},
   "outputs": [
    {
     "data": {
      "text/plain": [
       "'The temperature in Cape Town is 22.3°C'"
      ]
     },
     "execution_count": 20,
     "metadata": {},
     "output_type": "execute_result"
    }
   ],
   "source": [
    "def get_city_temp(city_name):\n",
    "    API = f\"http://api.weatherapi.com/v1/current.json?key=df25d6d142374c78a5f84056252403&q={city_name}&aqi=yes\"\n",
    "    response = requests.get(API, verify=False)\n",
    "    city = response.json()\n",
    "    return f\"The temperature in {city['location']['name']} is {city['current']['temp_c']}°C\"\n",
    "get_city_temp('cape town')\n"
   ]
  },
  {
   "cell_type": "markdown",
   "metadata": {},
   "source": [
    "# Task 2 (Challenging)\n",
    "Create a function which takes list of cities and provide the corresponding temperature in a dictionary\n",
    " \n",
    "```python\n",
    "cities = [\"Cape town\", \"Johannesburg\", \"Durban\"]\n",
    "```\n",
    " \n",
    "## Expected Output\n",
    "```python\n",
    "{\n",
    "\"Cape town\": 24,\n",
    "\"Johannesburg\": 25,\n",
    "\"Durban\": 18\n",
    "}\n",
    "```"
   ]
  },
  {
   "cell_type": "code",
   "execution_count": 22,
   "metadata": {},
   "outputs": [
    {
     "data": {
      "text/plain": [
       "{'Cape Town': 22.2, 'Johannesburg': 24.4, 'Durban': 27.4}"
      ]
     },
     "execution_count": 22,
     "metadata": {},
     "output_type": "execute_result"
    }
   ],
   "source": [
    "cities = [\"Cape town\", \"Johannesburg\", \"Durban\"]\n",
    "def city_temperatures(city_names):\n",
    "    city_temps={}\n",
    "    for city_name in city_names:\n",
    "        API = f\"http://api.weatherapi.com/v1/current.json?key=df25d6d142374c78a5f84056252403&q={city_name}&aqi=yes\"\n",
    "        response = requests.get(API, verify=False)\n",
    "        city = response.json()\n",
    "        city_temps[city['location']['name']] = city[\"current\"][\"temp_c\"]\n",
    "    return city_temps\n",
    "city_temperatures(cities)"
   ]
  },
  {
   "cell_type": "code",
   "execution_count": 26,
   "metadata": {},
   "outputs": [
    {
     "data": {
      "text/plain": [
       "{'T': 'h'}"
      ]
     },
     "execution_count": 26,
     "metadata": {},
     "output_type": "execute_result"
    }
   ],
   "source": [
    "def get_temp(cities):\n",
    "    city_temps={}\n",
    "    for city in cities:\n",
    "        data= get_city_temp(city)\n",
    "        city_temps[data[0]] = data[1]\n",
    "    return city_temps\n",
    "get_temp(cities)"
   ]
  }
 ],
 "metadata": {
  "kernelspec": {
   "display_name": ".venv",
   "language": "python",
   "name": "python3"
  },
  "language_info": {
   "codemirror_mode": {
    "name": "ipython",
    "version": 3
   },
   "file_extension": ".py",
   "mimetype": "text/x-python",
   "name": "python",
   "nbconvert_exporter": "python",
   "pygments_lexer": "ipython3",
   "version": "3.10.2"
  }
 },
 "nbformat": 4,
 "nbformat_minor": 2
}
