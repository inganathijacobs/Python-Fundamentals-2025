{
 "cells": [
  {
   "cell_type": "markdown",
   "metadata": {},
   "source": [
    "## Multi line string\n",
    "- Normal string = `\"\"` `''`"
   ]
  },
  {
   "cell_type": "code",
   "execution_count": 1,
   "metadata": {},
   "outputs": [
    {
     "name": "stdout",
     "output_type": "stream",
     "text": [
      "This is super cool This is super cool\n"
     ]
    }
   ],
   "source": [
    "msg1=\"This is super cool\"\n",
    "msg2='This is super cool'\n",
    "print(msg1,msg2)"
   ]
  },
  {
   "cell_type": "code",
   "execution_count": 2,
   "metadata": {},
   "outputs": [
    {
     "name": "stdout",
     "output_type": "stream",
     "text": [
      "This is super cool \n",
      " This is amazing\n"
     ]
    }
   ],
   "source": [
    "msg3= \"This is super cool \\n This is amazing\" ## have to print in one line but can make everything go one after the ther using  new line characcter\n",
    "print(msg3)"
   ]
  },
  {
   "cell_type": "code",
   "execution_count": 3,
   "metadata": {},
   "outputs": [
    {
     "name": "stdout",
     "output_type": "stream",
     "text": [
      " This is super cool\n",
      "This is amazing\n"
     ]
    }
   ],
   "source": [
    "msg4=\"\"\" This is super cool\n",
    "This is amazing\"\"\"\n",
    "print(msg4)"
   ]
  },
  {
   "cell_type": "code",
   "execution_count": 5,
   "metadata": {},
   "outputs": [
    {
     "name": "stdout",
     "output_type": "stream",
     "text": [
      "This is super cool\n",
      "This is amazing\n",
      "Siyanda has 2000\n"
     ]
    }
   ],
   "source": [
    "followers= 2_000\n",
    "msg5 = f\"\"\"This is super cool\n",
    "This is amazing\n",
    "Siyanda has {followers}\"\"\"\n",
    "print(msg5)\n"
   ]
  },
  {
   "cell_type": "code",
   "execution_count": 6,
   "metadata": {},
   "outputs": [
    {
     "name": "stdout",
     "output_type": "stream",
     "text": [
      "This is super cool\n",
      "This is amazing\n",
      "Siyanda has 2000\n",
      "\n"
     ]
    }
   ],
   "source": [
    "msg5 = f\"\"\"This is super cool\n",
    "This is amazing\n",
    "Siyanda has {followers}\n",
    "\"\"\"\n",
    "\n",
    "print(msg5)"
   ]
  },
  {
   "cell_type": "code",
   "execution_count": 10,
   "metadata": {},
   "outputs": [
    {
     "name": "stdout",
     "output_type": "stream",
     "text": [
      "\n",
      "Your total is R15000\n",
      "Your tax is R1500.0\n",
      "Your total is R16500.0\n",
      "\n"
     ]
    }
   ],
   "source": [
    "shopping_items = [1_000, 5_000, 4_000, 2_000, 3_000]\n",
    "total = 0\n",
    "for item in shopping_items:\n",
    "    total = total + int(item)\n",
    "tax_amount = (total * 0.1)\n",
    "grand_total = (total + tax_amount)\n",
    "print(\n",
    "f\"\"\"\n",
    "Your total is R{total}\n",
    "Your tax is R{tax_amount}\n",
    "Your total is R{grand_total}\n",
    "\"\"\")\n",
    "\n",
    "##Improves DX\n"
   ]
  }
 ],
 "metadata": {
  "kernelspec": {
   "display_name": "Python 3",
   "language": "python",
   "name": "python3"
  },
  "language_info": {
   "codemirror_mode": {
    "name": "ipython",
    "version": 3
   },
   "file_extension": ".py",
   "mimetype": "text/x-python",
   "name": "python",
   "nbconvert_exporter": "python",
   "pygments_lexer": "ipython3",
   "version": "3.10.2"
  }
 },
 "nbformat": 4,
 "nbformat_minor": 2
}
