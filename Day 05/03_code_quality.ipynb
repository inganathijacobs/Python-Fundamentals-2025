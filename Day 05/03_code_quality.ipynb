{
 "cells": [
  {
   "cell_type": "markdown",
   "metadata": {},
   "source": [
    "# 5 Pillars of Code Quality\n",
    "1.  Readability\n",
    "    -  75% Reading code \n",
    "    -  Code communicate idea to other developers\n",
    "    -  Long maintainability\n",
    "2.  Maintainability ⬇️ - Code Debt ⬆️\n",
    "  - Modular\n",
    "  - Scalable\n",
    "3. Extensibility - Adding feature must be easy\n",
    "   1. Camera- Change lens\n",
    "4. Testability - Easily testable\n",
    "5. Performance\n",
    "   1. Don't sacrifice Readability for Performance"
   ]
  },
  {
   "cell_type": "markdown",
   "metadata": {},
   "source": [
    "## Code Debt ?\n",
    "- Taking debt that you will make it better tomorrow\n",
    "- Today you're just making sure it works, but tomorrow never comes\n",
    "- Promise you make that you will make the code better tomorrow, but tomorrow never comes.\n",
    "- Startups have a lot of code debt⬆️ because the team is little, demand is high and time⬇️ is little.\n",
    "- Idea⬆️"
   ]
  }
 ],
 "metadata": {
  "language_info": {
   "name": "python"
  }
 },
 "nbformat": 4,
 "nbformat_minor": 2
}
