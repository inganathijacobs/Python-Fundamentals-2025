{
 "cells": [
  {
   "cell_type": "markdown",
   "metadata": {},
   "source": [
    "## Multiple Variable assignment"
   ]
  },
  {
   "cell_type": "code",
   "execution_count": 1,
   "metadata": {},
   "outputs": [
    {
     "name": "stdout",
     "output_type": "stream",
     "text": [
      "0 0 0\n"
     ]
    }
   ],
   "source": [
    "a=0\n",
    "b=0\n",
    "c=0\n",
    "print(a,b,c)"
   ]
  },
  {
   "cell_type": "code",
   "execution_count": 2,
   "metadata": {},
   "outputs": [
    {
     "name": "stdout",
     "output_type": "stream",
     "text": [
      "10 10 10\n"
     ]
    }
   ],
   "source": [
    "a = b =c =10\n",
    "print(a,b,c)"
   ]
  },
  {
   "cell_type": "markdown",
   "metadata": {},
   "source": [
    "# Unpacking\n",
    "- works for list and tuple"
   ]
  },
  {
   "cell_type": "code",
   "execution_count": 4,
   "metadata": {},
   "outputs": [
    {
     "name": "stdout",
     "output_type": "stream",
     "text": [
      "10 15 20\n"
     ]
    }
   ],
   "source": [
    "##Unpacking\n",
    "\n",
    "a,b,c= (10,15,20) ##Tuple\n",
    "print(a,b,c)"
   ]
  },
  {
   "cell_type": "code",
   "execution_count": 5,
   "metadata": {},
   "outputs": [
    {
     "name": "stdout",
     "output_type": "stream",
     "text": [
      "10 15 20\n"
     ]
    }
   ],
   "source": [
    "a, b, c = [10, 15, 20]  ##List of int\n",
    "print(a, b, c)\n"
   ]
  },
  {
   "cell_type": "code",
   "execution_count": 7,
   "metadata": {},
   "outputs": [
    {
     "name": "stdout",
     "output_type": "stream",
     "text": [
      "10 15 20\n"
     ]
    }
   ],
   "source": [
    "##Skip b\n",
    "a, _, c = (10, 15, 20)  ##Tuple\n",
    "print(a, c)"
   ]
  },
  {
   "cell_type": "code",
   "execution_count": 8,
   "metadata": {},
   "outputs": [
    {
     "name": "stdout",
     "output_type": "stream",
     "text": [
      "🦸‍♂️ Batman 🦸‍♂️ Superman 🦹‍♂️ Joker 🦹‍♀️ Harley Quinn\n"
     ]
    }
   ],
   "source": [
    "c1, c2, c3, c4 = [\"🦸‍♂️ Batman\", \"🦸‍♂️ Superman\", \"🦹‍♂️ Joker\", \"🦹‍♀️ Harley Quinn\"]\n",
    "\n",
    "print(c1, c2, c3, c4)\n"
   ]
  },
  {
   "cell_type": "code",
   "execution_count": 9,
   "metadata": {},
   "outputs": [
    {
     "name": "stdout",
     "output_type": "stream",
     "text": [
      "🦸‍♂️ Batman 🦸‍♂️ Superman\n"
     ]
    }
   ],
   "source": [
    "c1, c2, _, _ = [\"🦸‍♂️ Batman\", \"🦸‍♂️ Superman\", \"🦹‍♂️ Joker\", \"🦹‍♀️ Harley Quinn\"]\n",
    "\n",
    "print(c1, c2)\n"
   ]
  },
  {
   "cell_type": "code",
   "execution_count": 10,
   "metadata": {},
   "outputs": [
    {
     "name": "stdout",
     "output_type": "stream",
     "text": [
      "80 95 [90, 70, 45]\n"
     ]
    }
   ],
   "source": [
    "m1, *t1, m2 =[80, 90, 70, 45, 95] ##t1 creates a list of integers for middle values\n",
    "print(m1,m2,t1)"
   ]
  },
  {
   "cell_type": "code",
   "execution_count": 13,
   "metadata": {},
   "outputs": [
    {
     "name": "stdout",
     "output_type": "stream",
     "text": [
      "🦸‍♂️ Batman ['🦸\\u200d♂️ Superman', '🦹\\u200d♂️ Joker', '🦹\\u200d♀️ Harley Quinn']\n"
     ]
    }
   ],
   "source": [
    "c1, *c2 = (\"🦸‍♂️ Batman\", \"🦸‍♂️ Superman\", \"🦹‍♂️ Joker\", \"🦹‍♀️ Harley Quinn\") # '*' concates leftover variables\n",
    "print(c1,c2) ##unpacks a list c1-> string, c2-> list of string"
   ]
  },
  {
   "cell_type": "code",
   "execution_count": null,
   "metadata": {},
   "outputs": [],
   "source": [
    "marks= [80,90, 70]\n"
   ]
  },
  {
   "cell_type": "code",
   "execution_count": 19,
   "metadata": {},
   "outputs": [
    {
     "name": "stdout",
     "output_type": "stream",
     "text": [
      "[5.0, 13.42, 16.4]\n"
     ]
    }
   ],
   "source": [
    "## Task 1.1 (Without Unpacking)\n",
    "\n",
    "points = [(3, 4), (6, 12), (10, 13)]\n",
    "\n",
    "# Expected Output\n",
    "# distances = [5.0, 13.42, 16.4]\n",
    "distances=[]\n",
    "for point in points:\n",
    "    d = round(((point[0] ** 2 + point[1] ** 2)**0.5),2)\n",
    "    distances.append(d)\n",
    "print(distances)"
   ]
  },
  {
   "cell_type": "code",
   "execution_count": 43,
   "metadata": {},
   "outputs": [
    {
     "name": "stdout",
     "output_type": "stream",
     "text": [
      "[5.0, 13.42, 16.4]\n"
     ]
    }
   ],
   "source": [
    "## Task 1.2 (With Unpacking)\n",
    "\n",
    "# Expected Output\n",
    "# distances = [5.0, 13.42, 16.4]\n",
    "points = [(3, 4), (6, 12), (10, 13)]\n",
    "\n",
    "distances=[]\n",
    "\n",
    "for point in points:\n",
    "    x,y = point\n",
    "    d=round(((x**2+y**2)**0.5),2)\n",
    "    distances.append(d)\n",
    "print(distances)"
   ]
  },
  {
   "cell_type": "code",
   "execution_count": 44,
   "metadata": {},
   "outputs": [
    {
     "name": "stdout",
     "output_type": "stream",
     "text": [
      "[5.0, 13.42, 16.4]\n"
     ]
    }
   ],
   "source": [
    "##Simplify further\n",
    "points = [(3, 4), (6, 12), (10, 13)]\n",
    "\n",
    "distances = []\n",
    "\n",
    "for x,y in points:\n",
    "    d = round(((x**2 + y**2) ** 0.5), 2)\n",
    "    distances.append(d)\n",
    "print(distances)"
   ]
  }
 ],
 "metadata": {
  "kernelspec": {
   "display_name": "Python 3",
   "language": "python",
   "name": "python3"
  },
  "language_info": {
   "codemirror_mode": {
    "name": "ipython",
    "version": 3
   },
   "file_extension": ".py",
   "mimetype": "text/x-python",
   "name": "python",
   "nbconvert_exporter": "python",
   "pygments_lexer": "ipython3",
   "version": "3.10.2"
  }
 },
 "nbformat": 4,
 "nbformat_minor": 2
}
