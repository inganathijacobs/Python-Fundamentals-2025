{
 "cells": [
  {
   "cell_type": "markdown",
   "metadata": {},
   "source": [
    "# Dictionary\n",
    "- Store mixed datatypes and muliple values\n",
    "- Key & value pairs"
   ]
  },
  {
   "cell_type": "code",
   "execution_count": 1,
   "metadata": {},
   "outputs": [],
   "source": [
    "spiderman = {\n",
    "    \"name\" : \"Peter Parker\",\n",
    "    \"age\" : 18,\n",
    "    \"team _name\" :\"Avengers\",\n",
    "    \"team\" : [\"Iron Man\", \"Thor\", \"Hulk\", \"Captain America\"]\n",
    "}\n"
   ]
  },
  {
   "cell_type": "code",
   "execution_count": 2,
   "metadata": {},
   "outputs": [
    {
     "data": {
      "text/plain": [
       "'Peter Parker'"
      ]
     },
     "execution_count": 2,
     "metadata": {},
     "output_type": "execute_result"
    }
   ],
   "source": [
    "spiderman['name'] # keys (Dictionary) equivalent to index (List)\n"
   ]
  },
  {
   "cell_type": "code",
   "execution_count": 20,
   "metadata": {},
   "outputs": [
    {
     "data": {
      "text/plain": [
       "'Captain America'"
      ]
     },
     "execution_count": 20,
     "metadata": {},
     "output_type": "execute_result"
    }
   ],
   "source": [
    "spiderman[\"team\"][-1] ## Get only one element within list in a dictionery"
   ]
  },
  {
   "cell_type": "markdown",
   "metadata": {},
   "source": [
    "# Update Values "
   ]
  },
  {
   "cell_type": "code",
   "execution_count": 9,
   "metadata": {},
   "outputs": [
    {
     "data": {
      "text/plain": [
       "{'name': 'Peter Parker🕷️',\n",
       " 'age': 18,\n",
       " 'team _name': 'Avengers',\n",
       " 'team': ['Iron Man', 'Thor', 'Hulk', 'Captain America']}"
      ]
     },
     "execution_count": 9,
     "metadata": {},
     "output_type": "execute_result"
    }
   ],
   "source": [
    "spiderman[\"name\"] =(\"Peter Parker🕷️\")\n",
    "spiderman"
   ]
  },
  {
   "cell_type": "code",
   "execution_count": 14,
   "metadata": {},
   "outputs": [
    {
     "data": {
      "text/plain": [
       "{'name': 'Peter Parker🕷️',\n",
       " 'age': 23,\n",
       " 'team _name': 'Avengers',\n",
       " 'team': ['Iron Man', 'Thor', 'Hulk', 'Captain America']}"
      ]
     },
     "execution_count": 14,
     "metadata": {},
     "output_type": "execute_result"
    }
   ],
   "source": [
    "spiderman[\"age\"]+=1\n",
    "spiderman"
   ]
  },
  {
   "cell_type": "markdown",
   "metadata": {},
   "source": [
    "## Dictionary Methods\n",
    "1. `keys()`\n",
    "2. `values()`\n",
    "3. `items()`"
   ]
  },
  {
   "cell_type": "code",
   "execution_count": 15,
   "metadata": {},
   "outputs": [
    {
     "name": "stdout",
     "output_type": "stream",
     "text": [
      "dict_keys(['name', 'age', 'team _name', 'team'])\n"
     ]
    }
   ],
   "source": [
    "print(spiderman.keys()) ## Shows \"list\" of keys (it is not exactly a list)"
   ]
  },
  {
   "cell_type": "code",
   "execution_count": 16,
   "metadata": {},
   "outputs": [
    {
     "name": "stdout",
     "output_type": "stream",
     "text": [
      "name\n",
      "age\n",
      "team _name\n",
      "team\n"
     ]
    }
   ],
   "source": [
    "for keys in spiderman.keys():\n",
    "    print(keys)"
   ]
  },
  {
   "cell_type": "code",
   "execution_count": 17,
   "metadata": {},
   "outputs": [
    {
     "name": "stdout",
     "output_type": "stream",
     "text": [
      "Peter Parker🕷️\n",
      "23\n",
      "Avengers\n",
      "['Iron Man', 'Thor', 'Hulk', 'Captain America']\n"
     ]
    }
   ],
   "source": [
    "for val in spiderman.values():\n",
    "    print(val)"
   ]
  },
  {
   "cell_type": "code",
   "execution_count": 18,
   "metadata": {},
   "outputs": [
    {
     "name": "stdout",
     "output_type": "stream",
     "text": [
      "('name', 'Peter Parker🕷️')\n",
      "('age', 23)\n",
      "('team _name', 'Avengers')\n",
      "('team', ['Iron Man', 'Thor', 'Hulk', 'Captain America'])\n"
     ]
    }
   ],
   "source": [
    "for item in spiderman.items(): ## gives you tuple of key and value\n",
    "    print(item)"
   ]
  },
  {
   "cell_type": "code",
   "execution_count": 21,
   "metadata": {},
   "outputs": [
    {
     "name": "stdout",
     "output_type": "stream",
     "text": [
      "name Peter Parker🕷️\n",
      "age 23\n",
      "team _name Avengers\n",
      "team ['Iron Man', 'Thor', 'Hulk', 'Captain America']\n"
     ]
    }
   ],
   "source": [
    "for key in spiderman.keys():  ##LOOP THROUGH DICTIONARY #METHOD 1\n",
    "    print(key, spiderman[key])"
   ]
  },
  {
   "cell_type": "code",
   "execution_count": null,
   "metadata": {},
   "outputs": [],
   "source": [
    "for key , val in  spiderman.keys():  ##LOOP THROUGH DICTIONARY #METHOD 2\n",
    "    print(key, val)\n"
   ]
  }
 ],
 "metadata": {
  "kernelspec": {
   "display_name": "Python 3",
   "language": "python",
   "name": "python3"
  },
  "language_info": {
   "codemirror_mode": {
    "name": "ipython",
    "version": 3
   },
   "file_extension": ".py",
   "mimetype": "text/x-python",
   "name": "python",
   "nbconvert_exporter": "python",
   "pygments_lexer": "ipython3",
   "version": "3.10.2"
  }
 },
 "nbformat": 4,
 "nbformat_minor": 2
}
