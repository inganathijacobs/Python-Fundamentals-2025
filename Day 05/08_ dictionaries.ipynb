{
 "cells": [
  {
   "cell_type": "markdown",
   "metadata": {},
   "source": [
    "# Dictionary\n",
    "- Store mixed datatypes and muliple values\n",
    "- Key & value pairs"
   ]
  },
  {
   "cell_type": "code",
   "execution_count": 1,
   "metadata": {},
   "outputs": [],
   "source": [
    "spiderman = {\n",
    "    \"name\" : \"Peter Parker\",\n",
    "    \"age\" : 18,\n",
    "    \"team _name\" :\"Avengers\",\n",
    "    \"team\" : [\"Iron Man\", \"Thor\", \"Hulk\", \"Captain America\"]\n",
    "}\n"
   ]
  },
  {
   "cell_type": "code",
   "execution_count": 2,
   "metadata": {},
   "outputs": [
    {
     "data": {
      "text/plain": [
       "'Peter Parker'"
      ]
     },
     "execution_count": 2,
     "metadata": {},
     "output_type": "execute_result"
    }
   ],
   "source": [
    "spiderman['name'] # keys (Dictionary) equivalent to index (List)\n"
   ]
  },
  {
   "cell_type": "code",
   "execution_count": 20,
   "metadata": {},
   "outputs": [
    {
     "data": {
      "text/plain": [
       "'Captain America'"
      ]
     },
     "execution_count": 20,
     "metadata": {},
     "output_type": "execute_result"
    }
   ],
   "source": [
    "spiderman[\"team\"][-1] ## Get only one element within list in a dictionery"
   ]
  },
  {
   "cell_type": "markdown",
   "metadata": {},
   "source": [
    "# Update Values "
   ]
  },
  {
   "cell_type": "code",
   "execution_count": 9,
   "metadata": {},
   "outputs": [
    {
     "data": {
      "text/plain": [
       "{'name': 'Peter Parker🕷️',\n",
       " 'age': 18,\n",
       " 'team _name': 'Avengers',\n",
       " 'team': ['Iron Man', 'Thor', 'Hulk', 'Captain America']}"
      ]
     },
     "execution_count": 9,
     "metadata": {},
     "output_type": "execute_result"
    }
   ],
   "source": [
    "spiderman[\"name\"] =(\"Peter Parker🕷️\")\n",
    "spiderman"
   ]
  },
  {
   "cell_type": "code",
   "execution_count": 14,
   "metadata": {},
   "outputs": [
    {
     "data": {
      "text/plain": [
       "{'name': 'Peter Parker🕷️',\n",
       " 'age': 23,\n",
       " 'team _name': 'Avengers',\n",
       " 'team': ['Iron Man', 'Thor', 'Hulk', 'Captain America']}"
      ]
     },
     "execution_count": 14,
     "metadata": {},
     "output_type": "execute_result"
    }
   ],
   "source": [
    "spiderman[\"age\"]+=1\n",
    "spiderman"
   ]
  },
  {
   "cell_type": "markdown",
   "metadata": {},
   "source": [
    "## Dictionary Methods\n",
    "1. `keys()`\n",
    "2. `values()`\n",
    "3. `items()`"
   ]
  },
  {
   "cell_type": "code",
   "execution_count": 15,
   "metadata": {},
   "outputs": [
    {
     "name": "stdout",
     "output_type": "stream",
     "text": [
      "dict_keys(['name', 'age', 'team _name', 'team'])\n"
     ]
    }
   ],
   "source": [
    "print(spiderman.keys()) ## Shows \"list\" of keys (it is not exactly a list)"
   ]
  },
  {
   "cell_type": "code",
   "execution_count": 16,
   "metadata": {},
   "outputs": [
    {
     "name": "stdout",
     "output_type": "stream",
     "text": [
      "name\n",
      "age\n",
      "team _name\n",
      "team\n"
     ]
    }
   ],
   "source": [
    "for keys in spiderman.keys():\n",
    "    print(keys)"
   ]
  },
  {
   "cell_type": "code",
   "execution_count": 17,
   "metadata": {},
   "outputs": [
    {
     "name": "stdout",
     "output_type": "stream",
     "text": [
      "Peter Parker🕷️\n",
      "23\n",
      "Avengers\n",
      "['Iron Man', 'Thor', 'Hulk', 'Captain America']\n"
     ]
    }
   ],
   "source": [
    "for val in spiderman.values():\n",
    "    print(val)"
   ]
  },
  {
   "cell_type": "code",
   "execution_count": 18,
   "metadata": {},
   "outputs": [
    {
     "name": "stdout",
     "output_type": "stream",
     "text": [
      "('name', 'Peter Parker🕷️')\n",
      "('age', 23)\n",
      "('team _name', 'Avengers')\n",
      "('team', ['Iron Man', 'Thor', 'Hulk', 'Captain America'])\n"
     ]
    }
   ],
   "source": [
    "for item in spiderman.items(): ## gives you tuple of key and value\n",
    "    print(item)"
   ]
  },
  {
   "cell_type": "code",
   "execution_count": 21,
   "metadata": {},
   "outputs": [
    {
     "name": "stdout",
     "output_type": "stream",
     "text": [
      "name Peter Parker🕷️\n",
      "age 23\n",
      "team _name Avengers\n",
      "team ['Iron Man', 'Thor', 'Hulk', 'Captain America']\n"
     ]
    }
   ],
   "source": [
    "for key in spiderman.keys():  ##LOOP THROUGH DICTIONARY #METHOD 1\n",
    "    print(key, spiderman[key])"
   ]
  },
  {
   "cell_type": "code",
   "execution_count": 1,
   "metadata": {},
   "outputs": [
    {
     "ename": "NameError",
     "evalue": "name 'spiderman' is not defined",
     "output_type": "error",
     "traceback": [
      "\u001b[1;31m---------------------------------------------------------------------------\u001b[0m",
      "\u001b[1;31mNameError\u001b[0m                                 Traceback (most recent call last)",
      "Cell \u001b[1;32mIn[1], line 1\u001b[0m\n\u001b[1;32m----> 1\u001b[0m \u001b[38;5;28;01mfor\u001b[39;00m key , val \u001b[38;5;129;01min\u001b[39;00m  \u001b[43mspiderman\u001b[49m\u001b[38;5;241m.\u001b[39mkeys():  \u001b[38;5;66;03m##LOOP THROUGH DICTIONARY #METHOD 2\u001b[39;00m\n\u001b[0;32m      2\u001b[0m     \u001b[38;5;28mprint\u001b[39m(key, val)\n",
      "\u001b[1;31mNameError\u001b[0m: name 'spiderman' is not defined"
     ]
    }
   ],
   "source": [
    "for key , val in  spiderman.keys():  ##LOOP THROUGH DICTIONARY #METHOD 2\n",
    "    print(key, val)\n"
   ]
  }
 ],
 "metadata": {
  "kernelspec": {
   "display_name": "Python 3",
   "language": "python",
   "name": "python3"
  },
  "language_info": {
   "codemirror_mode": {
    "name": "ipython",
    "version": 3
   },
   "file_extension": ".py",
   "mimetype": "text/x-python",
   "name": "python",
   "nbconvert_exporter": "python",
   "pygments_lexer": "ipython3",
   "version": "3.10.2"
  }
 },
 "nbformat": 4,
 "nbformat_minor": 2
}
