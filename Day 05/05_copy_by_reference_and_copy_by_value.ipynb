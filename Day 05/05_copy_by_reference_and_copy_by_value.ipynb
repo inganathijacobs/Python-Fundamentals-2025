{
 "cells": [
  {
   "cell_type": "code",
   "execution_count": 1,
   "metadata": {},
   "outputs": [
    {
     "name": "stdout",
     "output_type": "stream",
     "text": [
      "Original prices: 💰 [1000, 1500, 400]\n",
      "[1000, 1500, 400, 600, 1000]\n",
      "[1000, 1500, 400, 800]\n",
      "[1000, 1500, 400, 600, 1000]\n"
     ]
    }
   ],
   "source": [
    "prices = [1000, 1500, 400] ##Base address (First value's address)\n",
    "print(\"Original prices: 💰\", prices)\n",
    "prices1 = prices[:]  # Copy by value\n",
    "prices2 = prices  # Copy by reference\n",
    "\n",
    "prices.append(600)\n",
    "prices1.append(800)\n",
    "prices2.append(1000)\n",
    "\n",
    "# What is output & Why?\n",
    "print(prices)  #  [1000, 1500, 400, 600, 1000]\n",
    "print(prices1)  # [1000, 1500, 400, 800]\n",
    "print(prices2)  # [1000, 1500, 400, 600, 1000]\n"
   ]
  },
  {
   "cell_type": "markdown",
   "metadata": {},
   "source": [
    "# How lists are stored?\n",
    "- List holds the base address of the first value\n",
    "  \n",
    "```py\n",
    "prices=[1000,1500,400]\n",
    "\n",
    "#prices holds address of 1000 -> 1027\n",
    "#prices[0]-> 1027+0\n",
    "#prices[1]-> 1027+1\n",
    "#prices[2]-> 1027+2\n",
    "prices2 = prices  \n",
    "\n",
    "# Both variable hold same address  -> Copy by reference\n",
    "# price2 bases address also be 1027"
   ]
  }
 ],
 "metadata": {
  "kernelspec": {
   "display_name": "Python 3",
   "language": "python",
   "name": "python3"
  },
  "language_info": {
   "codemirror_mode": {
    "name": "ipython",
    "version": 3
   },
   "file_extension": ".py",
   "mimetype": "text/x-python",
   "name": "python",
   "nbconvert_exporter": "python",
   "pygments_lexer": "ipython3",
   "version": "3.10.2"
  }
 },
 "nbformat": 4,
 "nbformat_minor": 2
}
