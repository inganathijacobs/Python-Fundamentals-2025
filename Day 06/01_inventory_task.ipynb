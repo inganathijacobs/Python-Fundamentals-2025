{
 "cells": [
  {
   "cell_type": "markdown",
   "metadata": {},
   "source": [
    "## Task 1: Add a New Product\n",
    "\n",
    "**Instructions:**\n",
    "- Prompt the user for the product name, quantity, and price.\n",
    "- Create a new product dictionary and add it to the inventory.\n",
    "- *Fun Tip:* For an \"Orange\", consider using \"Orange 🍊\"!\n",
    "\n",
    "**Example Scenario:**\n",
    "\n",
    "- **User Input:**\n",
    "  ```\n",
    "  What is the product name? Orange 🍊\n",
    "  What is the quantity? 10\n",
    "  What is the price? 0.60\n",
    "  ```\n",
    "- **Expected Output:**\n",
    "  ```\n",
    "  {'name': 'Orange 🍊', 'quantity': 10, 'price': 0.6}\n",
    "\n",
    "  ```\n",
    "\n",
    "  ````\n",
    "  Updated Inventory: [{'name': 'Apple 🍎', 'quantity': 30, 'price': 0.5}, {'name': 'Banana 🍌', 'quantity': 20, 'price': 0.2}, {'name': 'Orange 🍊', 'quantity': 10, 'price': 0.6}]\n",
    "  ```"
   ]
  },
  {
   "cell_type": "code",
   "execution_count": 5,
   "metadata": {},
   "outputs": [
    {
     "data": {
      "text/plain": [
       "[{'name': 'Apple 🍎', 'quantity': 30, 'price': 0.5},\n",
       " {'name': 'Banana 🍌', 'quantity': 20, 'price': 0.2}]"
      ]
     },
     "execution_count": 5,
     "metadata": {},
     "output_type": "execute_result"
    }
   ],
   "source": [
    "inventory = [\n",
    "    {\"name\": \"Apple 🍎\", \"quantity\": 30, \"price\": 0.50},\n",
    "    {\"name\": \"Banana 🍌\", \"quantity\": 20, \"price\": 0.20},\n",
    "]\n",
    "add_product = input(\"Want to add a product? Y/N\").lower()\n",
    "\n",
    "while add_product=='y':\n",
    " item_name= input(\"What is the product name?\")\n",
    " item_qty=int(input(\"What is the quantity?\"))\n",
    " item_price=float(input(\"What is the price?\"))\n",
    " print(item_name)\n",
    " print(item_qty)\n",
    " print(item_price)\n",
    " product = {\"name\": item_name, \"quantity\":item_qty, \"price\": item_price}\n",
    " inventory.append(product)\n",
    " add_product = input(\"Want to add a product? Y/N\").lower()\n",
    "\n",
    "inventory"
   ]
  },
  {
   "cell_type": "markdown",
   "metadata": {},
   "source": [
    "## Task 2: Update an Existing Product\n",
    "\n",
    "**Instructions:**\n",
    "- Prompt for the product name, additional quantity, and new price.\n",
    "- Loop through the inventory; if the product exists, update its quantity and price.\n",
    "\n",
    "**Example Scenario:**\n",
    "\n",
    "- **Initial Inventory:**\n",
    "  ```python\n",
    "  [{'name': 'Apple 🍎', 'quantity': 30, 'price': 0.5}, {'name': 'Banana 🍌', 'quantity': 20, 'price': 0.2}]\n",
    "  ```\n",
    "- **User Input:**\n",
    "  ```\n",
    "  Enter product name to update: Apple 🍎\n",
    "  Enter additional quantity: 40\n",
    "  Enter new price: 0.4\n",
    "  ```\n",
    "- **Expected Output:**\n",
    "  ```\n",
    "  Updated Apple 🍎 successfully! 🎉\n",
    "  Updated Inventory: [{'name': 'Apple 🍎', 'quantity': 70, 'price': 0.4}, {'name': 'Banana 🍌', 'quantity': 20, 'price': 0.2}]\n",
    "  ```"
   ]
  },
  {
   "cell_type": "code",
   "execution_count": 34,
   "metadata": {},
   "outputs": [
    {
     "name": "stdout",
     "output_type": "stream",
     "text": [
      " Updated Apple 🍎 successfully!🎉 \n",
      " Updated Inventory: [{'name': 'Apple 🍎', 'quantity': 70, 'price': '0.4'}, {'name': 'Banana 🍌', 'quantity': 20, 'price': 0.2}]\n"
     ]
    }
   ],
   "source": [
    "fruits=[{'name': 'Apple 🍎', 'quantity': 30, 'price': 0.5}, {'name': 'Banana 🍌', 'quantity': 20, 'price': 0.2}]\n",
    "update_product= input(\"Enter product name to update: \").lower()\n",
    "for fruit in fruits:\n",
    "    if update_product == fruit[\"name\"].lower():\n",
    "       updated_quantity = int(input(\"Enter additional quantity: \"))\n",
    "       updated_price = input(\"Enter new price: \")\n",
    "       fruit[\"quantity\"] += updated_quantity\n",
    "       fruit[\"price\"] = updated_price\n",
    "       print(f\" Updated {fruit['name']} successfully!🎉 \\n Updated Inventory: {fruits}\")\n",
    "       break\n",
    "else:\n",
    "        print(\"Product does not exist\")\n"
   ]
  }
 ],
 "metadata": {
  "kernelspec": {
   "display_name": "Python 3",
   "language": "python",
   "name": "python3"
  },
  "language_info": {
   "codemirror_mode": {
    "name": "ipython",
    "version": 3
   },
   "file_extension": ".py",
   "mimetype": "text/x-python",
   "name": "python",
   "nbconvert_exporter": "python",
   "pygments_lexer": "ipython3",
   "version": "3.10.2"
  }
 },
 "nbformat": 4,
 "nbformat_minor": 2
}
