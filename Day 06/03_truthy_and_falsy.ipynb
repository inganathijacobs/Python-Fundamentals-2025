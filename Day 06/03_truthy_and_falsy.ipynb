{
 "cells": [
  {
   "cell_type": "markdown",
   "metadata": {},
   "source": [
    "`Falsy` \n",
    "- If a value converts to false then its falsy\n",
    "\n",
    "1. False\n",
    "2. None\n",
    "3. 0\n",
    "4. []\n",
    "5. {}\n",
    "6. \"\"\n",
    "7. ()\n",
    "8. set()\n",
    "\n",
    "`Truthy`\n",
    "- If it is not on the above table\n",
    "- If a value converts to true then its truthy"
   ]
  },
  {
   "cell_type": "code",
   "execution_count": 8,
   "metadata": {},
   "outputs": [
    {
     "name": "stdout",
     "output_type": "stream",
     "text": [
      "cool\n"
     ]
    }
   ],
   "source": [
    "x= [[]] ## has value because it contains something so it will print cool because its true\n",
    "# if(x):\n",
    "#     print('cool')\n",
    "# else: ### Falsy values will come here\n",
    "#     print('super')\n",
    "\n",
    "## iF (condition) -> DataType -> Boolean\n",
    "## More to the puzzle\n",
    "\n",
    "print('cool') if x else print('super')  ## TERNARY OPERATOR"
   ]
  }
 ],
 "metadata": {
  "kernelspec": {
   "display_name": "Python 3",
   "language": "python",
   "name": "python3"
  },
  "language_info": {
   "codemirror_mode": {
    "name": "ipython",
    "version": 3
   },
   "file_extension": ".py",
   "mimetype": "text/x-python",
   "name": "python",
   "nbconvert_exporter": "python",
   "pygments_lexer": "ipython3",
   "version": "3.10.2"
  }
 },
 "nbformat": 4,
 "nbformat_minor": 2
}
