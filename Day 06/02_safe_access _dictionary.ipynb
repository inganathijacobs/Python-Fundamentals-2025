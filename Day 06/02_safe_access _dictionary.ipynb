{
 "cells": [
  {
   "cell_type": "markdown",
   "metadata": {},
   "source": [
    "## Get()\n",
    "- get(the key, default value) | default value is taken if value does not exist"
   ]
  },
  {
   "cell_type": "code",
   "execution_count": 3,
   "metadata": {},
   "outputs": [
    {
     "name": "stdout",
     "output_type": "stream",
     "text": [
      "None\n"
     ]
    }
   ],
   "source": [
    "spiderman = {\n",
    "    \"name\": \"Peter Parker\",\n",
    "    \"age\": 18,\n",
    "    \"team _name\": \"Avengers\",\n",
    "    \"team\": [\"Iron Man\", \"Thor\", \"Hulk\", \"Captain America\"],\n",
    "}\n",
    "print(spiderman['height']) ## problem because the key does not exist ##KEYERROR\n",
    "print(spiderman.get(\"height\"))## use .get() || Safe access of value"
   ]
  },
  {
   "cell_type": "code",
   "execution_count": 2,
   "metadata": {},
   "outputs": [
    {
     "name": "stdout",
     "output_type": "stream",
     "text": [
      "{'name': 'Steve Rogers', 'age': 100, 'height': 185}\n"
     ]
    }
   ],
   "source": [
    "captain_america = {\n",
    "    \"name\" : \"Steve Rogers\",\n",
    "    \"age\" : 100,\n",
    "    \"height\" : 185\n",
    "}\n",
    "print(captain_america)"
   ]
  },
  {
   "cell_type": "code",
   "execution_count": 9,
   "metadata": {},
   "outputs": [
    {
     "name": "stdout",
     "output_type": "stream",
     "text": [
      "{}\n"
     ]
    }
   ],
   "source": [
    "sp=[]\n",
    "print(spiderman.get(\"address\", {}))"
   ]
  },
  {
   "cell_type": "code",
   "execution_count": 19,
   "metadata": {},
   "outputs": [
    {
     "name": "stdout",
     "output_type": "stream",
     "text": [
      "Steve Rogers 🦸‍♂️ lives in Brooklyn\n",
      "Peter Parker location is Top Secret 🔒\n",
      "Bruce Banner location is Top Secret 🔒\n"
     ]
    }
   ],
   "source": [
    "captain_america = {\n",
    "    \"name\": \"Steve Rogers 🦸‍♂️\",\n",
    "    \"age\": 100,\n",
    "    \"height\": 185,\n",
    "    \"address\": {\"city\": \"Brooklyn\", \"country\": \"US\"},\n",
    "}\n",
    "\n",
    "\n",
    "spiderman = {\n",
    "    \"name\": \"Peter Parker\",\n",
    "    \"age\": 18,\n",
    "    \"team_name\": \"Avengers\",\n",
    "    \"team\": [\"Iron Man\", \"Thor\", \"Hulk\", \"Captain America\"],\n",
    "}\n",
    "\n",
    "hulk = {\n",
    "    \"name\": \"Bruce Banner\",\n",
    "    \"age\": 35,\n",
    "}\n",
    "\n",
    "heroes = [captain_america, spiderman, hulk]\n",
    "\n",
    "for hero in heroes:\n",
    "    adrs=hero.get('address',{}).get('city', \"Top Secret 🔒\")\n",
    "    if adrs==\"Top Secret 🔒\":\n",
    "        print(f\"{hero.get('name')} location is {adrs}\")\n",
    "    else:\n",
    "        print(f\"{hero.get('name')} lives in {adrs}\")"
   ]
  },
  {
   "cell_type": "code",
   "execution_count": 32,
   "metadata": {},
   "outputs": [
    {
     "name": "stdout",
     "output_type": "stream",
     "text": [
      "[{'name': 'Chleo', 'experience': 4}, {'name': 'Diyali', 'experience': 2}, {'name': 'Luvuyo', 'experience': 2}, {'name': 'Jevan', 'experience': 3}]\n"
     ]
    }
   ],
   "source": [
    "employees = [\n",
    "    {\"name\": \"Chleo\", \"experience\": 3},\n",
    "    {\"name\": \"Diyali\", \"experience\": 1},\n",
    "    {\"name\": \"Luvuyo\", \"experience\": 1},\n",
    "    {\"name\": \"Jevan\", \"experience\": 2},\n",
    "]\n",
    "\n",
    "for employee in employees:\n",
    "    employee[\"experience\"] = employee.get(\"experience\", 0) + 1\n",
    "print(employees)"
   ]
  },
  {
   "cell_type": "markdown",
   "metadata": {},
   "source": [
    "# Task 2.2\n",
    "# Senior 5 or more, Mid-Level 3 to 5, Junior < 3\n",
    "employees = [\n",
    "    {\"name\": \"Chelo\", \"experience\": 4},\n",
    "    {\n",
    "        \"name\": \"Diyali\", \n",
    "    },\n",
    "    {\n",
    "        \"name\": \"Luvuyo\", \n",
    "    },\n",
    "    {\"name\": \"Jevan\", \"experience\": 2},\n",
    "]\n",
    "\n",
    "\n",
    "# Output\n",
    "employees = [\n",
    "    {\"name\": \"Chelo\", \"experience\": 5, \"status\": \"Senior\" },\n",
    "    {\n",
    "        \"name\": \"Diyali\", \"status\": \"Junior\",   \"experience\": 1\n",
    "    },\n",
    "    {\n",
    "        \"name\": \"Luvuyo\", \"status\": \"Junior\",   \"experience\": 1\n",
    "    },\n",
    "    {\"name\": \"Jevan\", \"status\": \"Mid-Level\", \"experience\": 3},\n",
    "]\n"
   ]
  },
  {
   "cell_type": "code",
   "execution_count": 36,
   "metadata": {},
   "outputs": [
    {
     "name": "stdout",
     "output_type": "stream",
     "text": [
      "[{'name': 'Chelo', 'experience': 5, 'status': 'Senior'}, {'name': 'Diyali', 'experience': 1, 'status': 'Junior'}, {'name': 'Luvuyo', 'experience': 1, 'status': 'Junior'}, {'name': 'Jevan', 'experience': 3, 'status': 'Middle-Level'}]\n"
     ]
    }
   ],
   "source": [
    "# Senior 5 or more, Mid-Level 3 to 5, Junior < 3\n",
    "## Output\n",
    "# employees = [\n",
    "#     {\"name\": \"Chelo\", \"experience\": 5, \"status\": \"Senior\"},\n",
    "#     {\"name\": \"Diyali\", \"status\": \"Junior\", \"experience\": 1},\n",
    "#     {\"name\": \"Luvuyo\", \"status\": \"Junior\", \"experience\": 1},\n",
    "#     {\"name\": \"Jevan\", \"status\": \"Mid-Level\", \"experience\": 3},\n",
    "# ]\n",
    "employees = [\n",
    "    {\"name\": \"Chelo\", \"experience\": 4},\n",
    "    {\n",
    "        \"name\": \"Diyali\",\n",
    "    },\n",
    "    {\n",
    "        \"name\": \"Luvuyo\",\n",
    "    },\n",
    "    {\"name\": \"Jevan\", \"experience\": 2},\n",
    "]\n",
    "\n",
    "for employee in employees:\n",
    "    employee[\"experience\"] = employee.get(\"experience\", 0) + 1\n",
    "    if employee[\"experience\"]>=5:\n",
    "       employee['status']=\"Senior\"\n",
    "    elif employee[\"experience\"] >= 3 and employee[\"experience\"] <= 5:\n",
    "       employee['status']=\"Middle-Level\"\n",
    "    elif employee[\"experience\"]<3:\n",
    "        employee[\"status\"] = \"Junior\"\n",
    "    else:\n",
    "        break\n",
    "print(employees)\n"
   ]
  }
 ],
 "metadata": {
  "kernelspec": {
   "display_name": "Python 3",
   "language": "python",
   "name": "python3"
  },
  "language_info": {
   "codemirror_mode": {
    "name": "ipython",
    "version": 3
   },
   "file_extension": ".py",
   "mimetype": "text/x-python",
   "name": "python",
   "nbconvert_exporter": "python",
   "pygments_lexer": "ipython3",
   "version": "3.10.2"
  }
 },
 "nbformat": 4,
 "nbformat_minor": 2
}
