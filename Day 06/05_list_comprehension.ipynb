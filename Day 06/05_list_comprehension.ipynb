{
 "cells": [
  {
   "cell_type": "markdown",
   "metadata": {},
   "source": [
    "## List comprehension"
   ]
  },
  {
   "cell_type": "code",
   "execution_count": 2,
   "metadata": {},
   "outputs": [
    {
     "name": "stdout",
     "output_type": "stream",
     "text": [
      "[9, 64, 100, 144]\n"
     ]
    }
   ],
   "source": [
    "nums =[3,8,10,12]\n",
    "squares=[]\n",
    "for num in nums:\n",
    "    squares.append(num**2)\n",
    "print(squares)"
   ]
  },
  {
   "cell_type": "markdown",
   "metadata": {},
   "source": [
    "`Pythonic way to simplify the above`"
   ]
  },
  {
   "cell_type": "code",
   "execution_count": 3,
   "metadata": {},
   "outputs": [
    {
     "name": "stdout",
     "output_type": "stream",
     "text": [
      "[9, 64, 100, 144]\n"
     ]
    }
   ],
   "source": [
    "squares= [num **2 for num in nums]\n",
    "print(squares)"
   ]
  },
  {
   "cell_type": "code",
   "execution_count": 15,
   "metadata": {},
   "outputs": [
    {
     "name": "stdout",
     "output_type": "stream",
     "text": [
      "[4, 8, 11, 15, 10, 4]\n"
     ]
    }
   ],
   "source": [
    "avengers = [\n",
    "    \"Hulk\",\n",
    "    \"Iron man\",\n",
    "    \"Black widow\",\n",
    "    \"Captain america\",\n",
    "    \"Spider man\",\n",
    "    \"Thor\",\n",
    "]\n",
    "\n",
    "avengers_letter_count = []\n",
    "\n",
    "# # Loop list & method\n",
    "# for i in range(len(avengers)):\n",
    "#     avengers_letter_count.append(len(avengers[i]))\n",
    "# print(avengers_letter_count)\n",
    "\n",
    "\n",
    "avengers_letter_count= [(len(avenger)) for avenger in avengers]\n",
    "print(avengers_letter_count)"
   ]
  },
  {
   "cell_type": "code",
   "execution_count": 12,
   "metadata": {},
   "outputs": [
    {
     "name": "stdout",
     "output_type": "stream",
     "text": [
      "[5.0, 13.42, 16.4]\n"
     ]
    }
   ],
   "source": [
    "points = [(3, 4), (6, 12), (10, 13)]\n",
    "\n",
    "distances = []\n",
    "# for x, y in points:  # unpacking\n",
    "#     distance = round((x**2 + y**2) ** 0.5, 2)\n",
    "#     distances.append(distance)\n",
    "\n",
    "# print(distances)\n",
    "# distance= round((x**2 + y**2) ** 0.5, 2)\n",
    "distances = [(round((x**2 + y**2) ** 0.5, 2)) for x, y in points]\n",
    "print(distances)"
   ]
  },
  {
   "cell_type": "code",
   "execution_count": 19,
   "metadata": {},
   "outputs": [
    {
     "name": "stdout",
     "output_type": "stream",
     "text": [
      "['Odd', 'Even', 'Even', 'Even', 'Odd', 'Even']\n"
     ]
    }
   ],
   "source": [
    "nums= [7, 44, 90, 6, 75, 10]\n",
    "\n",
    "##Ouput\n",
    "# [\"Odd\", \"Even\",\"Even\",\"Even\",\"Odd\",\"Even\"]\n",
    "odd_or_even =[ \"Odd\" if num%2!=0  else \"Even\" for num in nums ]\n",
    "print(odd_or_even)"
   ]
  }
 ],
 "metadata": {
  "kernelspec": {
   "display_name": "Python 3",
   "language": "python",
   "name": "python3"
  },
  "language_info": {
   "codemirror_mode": {
    "name": "ipython",
    "version": 3
   },
   "file_extension": ".py",
   "mimetype": "text/x-python",
   "name": "python",
   "nbconvert_exporter": "python",
   "pygments_lexer": "ipython3",
   "version": "3.10.2"
  }
 },
 "nbformat": 4,
 "nbformat_minor": 2
}
